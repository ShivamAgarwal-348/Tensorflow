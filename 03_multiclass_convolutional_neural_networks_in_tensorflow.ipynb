{
  "nbformat": 4,
  "nbformat_minor": 0,
  "metadata": {
    "colab": {
      "provenance": []
    },
    "kernelspec": {
      "name": "python3",
      "display_name": "Python 3"
    },
    "language_info": {
      "name": "python"
    },
    "accelerator": "GPU",
    "gpuClass": "standard"
  },
  "cells": [
    {
      "cell_type": "code",
      "execution_count": 1,
      "metadata": {
        "id": "X_rJrK-3SJjZ"
      },
      "outputs": [],
      "source": [
        "import tensorflow as tf\n",
        "import pandas as pd\n",
        "import numpy as np\n",
        "import matplotlib.pyplot as plt\n",
        "import zipfile\n",
        "import os\n",
        "import pathlib\n",
        "import matplotlib.image as mpimg\n",
        "import random\n",
        "from tensorflow.keras.preprocessing.image import ImageDataGenerator\n",
        "from tensorflow.keras.optimizers import Adam\n",
        "from tensorflow.keras.losses import binary_crossentropy\n",
        "from tensorflow.keras.layers import Dense, Flatten, Conv2D, MaxPool2D\n",
        "from tensorflow.keras import Sequential"
      ]
    },
    {
      "cell_type": "code",
      "source": [
        "!wget https://storage.googleapis.com/ztm_tf_course/food_vision/10_food_classes_all_data.zip"
      ],
      "metadata": {
        "colab": {
          "base_uri": "https://localhost:8080/"
        },
        "id": "Lzr74W_8SRUH",
        "outputId": "0589f51e-bf48-446d-a906-2d169ea90314"
      },
      "execution_count": 2,
      "outputs": [
        {
          "output_type": "stream",
          "name": "stdout",
          "text": [
            "--2023-03-18 20:27:58--  https://storage.googleapis.com/ztm_tf_course/food_vision/10_food_classes_all_data.zip\n",
            "Resolving storage.googleapis.com (storage.googleapis.com)... 74.125.68.128, 74.125.24.128, 142.250.4.128, ...\n",
            "Connecting to storage.googleapis.com (storage.googleapis.com)|74.125.68.128|:443... connected.\n",
            "HTTP request sent, awaiting response... 200 OK\n",
            "Length: 519183241 (495M) [application/zip]\n",
            "Saving to: ‘10_food_classes_all_data.zip’\n",
            "\n",
            "10_food_classes_all 100%[===================>] 495.13M  24.6MB/s    in 22s     \n",
            "\n",
            "2023-03-18 20:28:21 (22.4 MB/s) - ‘10_food_classes_all_data.zip’ saved [519183241/519183241]\n",
            "\n"
          ]
        }
      ]
    },
    {
      "cell_type": "code",
      "source": [
        "zip_ref = zipfile.ZipFile(\"/content/10_food_classes_all_data.zip\")\n",
        "zip_ref.extractall()\n",
        "zip_ref.close()"
      ],
      "metadata": {
        "id": "DQVlBwiNSnV8"
      },
      "execution_count": 3,
      "outputs": []
    },
    {
      "cell_type": "code",
      "source": [
        "train_dir = \"/content/10_food_classes_all_data/train\"\n",
        "test_dir = \"/content/10_food_classes_all_data/test\""
      ],
      "metadata": {
        "id": "TplzhVj9S1tS"
      },
      "execution_count": 4,
      "outputs": []
    },
    {
      "cell_type": "code",
      "source": [
        "train_datagen = ImageDataGenerator(rescale = 1./255)\n",
        "test_datagen = ImageDataGenerator(rescale = 1./255)"
      ],
      "metadata": {
        "id": "cQQX6zN9TLmB"
      },
      "execution_count": 5,
      "outputs": []
    },
    {
      "cell_type": "code",
      "source": [
        "train_data = train_datagen.flow_from_directory(train_dir,\n",
        "                                               batch_size = 32,\n",
        "                                               seed=42, \n",
        "                                               target_size=(224, 224),\n",
        "                                               class_mode=\"categorical\")\n",
        "\n",
        "test_data = test_datagen.flow_from_directory(test_dir,\n",
        "                                               batch_size = 32,\n",
        "                                               seed=42, \n",
        "                                               target_size=(224, 224),\n",
        "                                               class_mode=\"categorical\")"
      ],
      "metadata": {
        "colab": {
          "base_uri": "https://localhost:8080/"
        },
        "id": "FxFwPzAgVW4T",
        "outputId": "97b9f523-c074-4f86-f589-1091ad93a682"
      },
      "execution_count": 6,
      "outputs": [
        {
          "output_type": "stream",
          "name": "stdout",
          "text": [
            "Found 7500 images belonging to 10 classes.\n",
            "Found 2500 images belonging to 10 classes.\n"
          ]
        }
      ]
    },
    {
      "cell_type": "code",
      "source": [
        "cnn_model1 = Sequential([\n",
        "    Conv2D(10, 3, activation=\"relu\", input_shape=(224,224,3)),\n",
        "    Conv2D(10, 3, activation=\"relu\"),\n",
        "    MaxPool2D(2),\n",
        "    Conv2D(10, 3, activation=\"relu\"),\n",
        "    Conv2D(10, 3, activation=\"relu\"),\n",
        "    MaxPool2D(2),\n",
        "    Flatten(),\n",
        "    Dense(10, activation=\"softmax\")\n",
        "])\n",
        "\n",
        "cnn_model1.compile(loss = tf.keras.losses.categorical_crossentropy,\n",
        "                   optimizer = Adam(),\n",
        "                   metrics=[\"accuracy\"])"
      ],
      "metadata": {
        "id": "KP4pr0Y2WUk_"
      },
      "execution_count": 7,
      "outputs": []
    },
    {
      "cell_type": "code",
      "source": [
        "history1 = cnn_model1.fit(train_data, epochs=5, steps_per_epoch = len(train_data), validation_data = test_data, validation_steps=len(test_data))"
      ],
      "metadata": {
        "colab": {
          "base_uri": "https://localhost:8080/"
        },
        "id": "iH3N4kfBYv4S",
        "outputId": "460d7b9d-4fcd-43eb-c497-823447933886"
      },
      "execution_count": 8,
      "outputs": [
        {
          "output_type": "stream",
          "name": "stdout",
          "text": [
            "Epoch 1/5\n",
            "235/235 [==============================] - 62s 216ms/step - loss: 2.2414 - accuracy: 0.1644 - val_loss: 2.1660 - val_accuracy: 0.1932\n",
            "Epoch 2/5\n",
            "235/235 [==============================] - 50s 211ms/step - loss: 2.0138 - accuracy: 0.2924 - val_loss: 1.9461 - val_accuracy: 0.3128\n",
            "Epoch 3/5\n",
            "235/235 [==============================] - 49s 209ms/step - loss: 1.6150 - accuracy: 0.4544 - val_loss: 1.9901 - val_accuracy: 0.3300\n",
            "Epoch 4/5\n",
            "235/235 [==============================] - 50s 211ms/step - loss: 0.9336 - accuracy: 0.6951 - val_loss: 2.6296 - val_accuracy: 0.2684\n",
            "Epoch 5/5\n",
            "235/235 [==============================] - 49s 207ms/step - loss: 0.3356 - accuracy: 0.8951 - val_loss: 3.9948 - val_accuracy: 0.2600\n"
          ]
        }
      ]
    },
    {
      "cell_type": "code",
      "source": [
        "pd.DataFrame(history1.history).plot(figsize=(10, 7))"
      ],
      "metadata": {
        "colab": {
          "base_uri": "https://localhost:8080/",
          "height": 445
        },
        "id": "pSHF_tD5ZYTz",
        "outputId": "3519fbe3-43a0-4136-929c-ab69f686f671"
      },
      "execution_count": 9,
      "outputs": [
        {
          "output_type": "execute_result",
          "data": {
            "text/plain": [
              "<Axes: >"
            ]
          },
          "metadata": {},
          "execution_count": 9
        },
        {
          "output_type": "display_data",
          "data": {
            "text/plain": [
              "<Figure size 720x504 with 1 Axes>"
            ],
            "image/png": "[encoded data removed]"
          },
          "metadata": {
            "needs_background": "light"
          }
        }
      ]
    },
    {
      "cell_type": "code",
      "source": [
        "cnn_model2 = Sequential([\n",
        "    Conv2D(10, 3, activation=\"relu\", input_shape=(224,224,3)),\n",
        "    MaxPool2D(2),\n",
        "    Conv2D(10, 3, activation=\"relu\"),\n",
        "    MaxPool2D(2),\n",
        "    Flatten(),\n",
        "    Dense(10, activation=\"softmax\")\n",
        "])\n",
        "\n",
        "cnn_model2.compile(loss=tf.keras.losses.categorical_crossentropy,\n",
        "                   optimizer = Adam(),\n",
        "                   metrics=[\"accuracy\"])\n",
        "\n",
        "history2 = cnn_model2.fit(train_data, epochs=5, steps_per_epoch=len(train_data), validation_data = test_data, validation_steps = len(test_data))"
      ],
      "metadata": {
        "colab": {
          "base_uri": "https://localhost:8080/"
        },
        "id": "94J1BNjIaK3T",
        "outputId": "e791fafd-7858-45b8-e0a6-03aeb978c7c3"
      },
      "execution_count": 10,
      "outputs": [
        {
          "output_type": "stream",
          "name": "stdout",
          "text": [
            "Epoch 1/5\n",
            "235/235 [==============================] - 57s 238ms/step - loss: 2.1326 - accuracy: 0.2384 - val_loss: 2.0320 - val_accuracy: 0.2672\n",
            "Epoch 2/5\n",
            "235/235 [==============================] - 48s 203ms/step - loss: 1.7497 - accuracy: 0.4085 - val_loss: 1.8826 - val_accuracy: 0.3432\n",
            "Epoch 3/5\n",
            "235/235 [==============================] - 55s 236ms/step - loss: 1.3534 - accuracy: 0.5547 - val_loss: 1.9496 - val_accuracy: 0.3336\n",
            "Epoch 4/5\n",
            "235/235 [==============================] - 47s 200ms/step - loss: 0.8680 - accuracy: 0.7357 - val_loss: 2.1941 - val_accuracy: 0.3200\n",
            "Epoch 5/5\n",
            "235/235 [==============================] - 47s 199ms/step - loss: 0.4566 - accuracy: 0.8717 - val_loss: 2.7454 - val_accuracy: 0.2972\n"
          ]
        }
      ]
    },
    {
      "cell_type": "code",
      "source": [
        "train_datagen_augmented = ImageDataGenerator(rescale = 1./255,\n",
        "                                             rotation_range=5,\n",
        "                                             width_shift_range=0.1, \n",
        "                                             height_shift_range=0.1,\n",
        "                                             shear_range=0.1, \n",
        "                                             zoom_range=0.1)"
      ],
      "metadata": {
        "id": "n7as17i4cX1r"
      },
      "execution_count": 11,
      "outputs": []
    },
    {
      "cell_type": "code",
      "source": [
        "train_data_augmented = train_datagen_augmented.flow_from_directory(train_dir,\n",
        "                                                                  seed=42,\n",
        "                                                                  batch_size = 32,\n",
        "                                                                  class_mode=\"categorical\",\n",
        "                                                                  target_size=(224,224))"
      ],
      "metadata": {
        "colab": {
          "base_uri": "https://localhost:8080/"
        },
        "id": "2WP9MeFweAYt",
        "outputId": "f970edca-a042-4cfa-d7f5-51897a38f78a"
      },
      "execution_count": 13,
      "outputs": [
        {
          "output_type": "stream",
          "name": "stdout",
          "text": [
            "Found 7500 images belonging to 10 classes.\n"
          ]
        }
      ]
    },
    {
      "cell_type": "code",
      "source": [
        "from keras.api._v2.keras.losses import categorical_crossentropy\n",
        "cnn_model3 = tf.keras.models.clone_model(cnn_model1)\n",
        "cnn_model3.compile(loss = categorical_crossentropy,\n",
        "                   optimizer = Adam(),\n",
        "                   metrics = [\"accuracy\"])\n",
        "history3 = cnn_model3.fit(train_data_augmented, epochs=3, steps_per_epoch = len(train_data_augmented), validation_data = test_data, validation_steps = len(test_data))"
      ],
      "metadata": {
        "colab": {
          "base_uri": "https://localhost:8080/"
        },
        "id": "mE_VIlvoeYo1",
        "outputId": "c3268ee5-74b6-4aef-f2ba-96ec18d48d55"
      },
      "execution_count": 20,
      "outputs": [
        {
          "output_type": "stream",
          "name": "stdout",
          "text": [
            "Epoch 1/3\n",
            "235/235 [==============================] - 118s 493ms/step - loss: 2.2321 - accuracy: 0.1587 - val_loss: 2.1137 - val_accuracy: 0.2128\n",
            "Epoch 2/3\n",
            "235/235 [==============================] - 124s 530ms/step - loss: 2.0710 - accuracy: 0.2473 - val_loss: 1.9135 - val_accuracy: 0.3296\n",
            "Epoch 3/3\n",
            "235/235 [==============================] - 116s 492ms/step - loss: 1.9361 - accuracy: 0.3207 - val_loss: 1.8453 - val_accuracy: 0.3524\n"
          ]
        }
      ]
    },
    {
      "cell_type": "code",
      "source": [
        "pd.DataFrame(history3.history).plot(figsize=(10, 7))"
      ],
      "metadata": {
        "colab": {
          "base_uri": "https://localhost:8080/",
          "height": 445
        },
        "id": "MrkyMG9-euHR",
        "outputId": "8c80bfb0-7a86-47fa-8dc2-a82d10983921"
      },
      "execution_count": 21,
      "outputs": [
        {
          "output_type": "execute_result",
          "data": {
            "text/plain": [
              "<Axes: >"
            ]
          },
          "metadata": {},
          "execution_count": 21
        },
        {
          "output_type": "display_data",
          "data": {
            "text/plain": [
              "<Figure size 720x504 with 1 Axes>"
            ],
            "image/png": "[encoded data removed]"
          },
          "metadata": {
            "needs_background": "light"
          }
        }
      ]
    },
    {
      "cell_type": "code",
      "source": [
        "cnn_model3.save(\"save_cnn_model3.h5\")"
      ],
      "metadata": {
        "id": "FZYOt2wSf6Oz"
      },
      "execution_count": 22,
      "outputs": []
    },
    {
      "cell_type": "code",
      "source": [],
      "metadata": {
        "id": "PFHIPuXHihhm"
      },
      "execution_count": null,
      "outputs": []
    }
  ]
}