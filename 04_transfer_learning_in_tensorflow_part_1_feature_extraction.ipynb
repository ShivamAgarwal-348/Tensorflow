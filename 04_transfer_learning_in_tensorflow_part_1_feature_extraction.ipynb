{
  "nbformat": 4,
  "nbformat_minor": 0,
  "metadata": {
    "colab": {
      "provenance": []
    },
    "kernelspec": {
      "name": "python3",
      "display_name": "Python 3"
    },
    "language_info": {
      "name": "python"
    },
    "gpuClass": "standard"
  },
  "cells": [
    {
      "cell_type": "code",
      "execution_count": 15,
      "metadata": {
        "id": "GgiKgEcOIrBS"
      },
      "outputs": [],
      "source": [
        "import tensorflow as tf\n",
        "import pandas as pd\n",
        "import numpy as np\n",
        "import matplotlib.pyplot as plt\n",
        "import zipfile\n",
        "import os\n",
        "import pathlib\n",
        "import matplotlib.image as mpimg\n",
        "import random\n",
        "from tensorflow.keras.preprocessing.image import ImageDataGenerator\n",
        "from tensorflow.keras.optimizers import Adam\n",
        "from tensorflow.keras.losses import binary_crossentropy, categorical_crossentropy\n",
        "from tensorflow.keras.layers import Dense, Flatten, Conv2D, MaxPool2D\n",
        "from tensorflow.keras import Sequential\n",
        "import datetime\n",
        "import tensorflow_hub as hub"
      ]
    },
    {
      "cell_type": "code",
      "source": [
        "!wget https://storage.googleapis.com/ztm_tf_course/food_vision/10_food_classes_10_percent.zip"
      ],
      "metadata": {
        "colab": {
          "base_uri": "https://localhost:8080/"
        },
        "id": "9nmw0HSMMUPG",
        "outputId": "87dc83f7-b6a9-4a81-8e2f-4104b897862f"
      },
      "execution_count": 16,
      "outputs": [
        {
          "output_type": "stream",
          "name": "stdout",
          "text": [
            "--2023-03-19 23:49:30--  https://storage.googleapis.com/ztm_tf_course/food_vision/10_food_classes_10_percent.zip\n",
            "Resolving storage.googleapis.com (storage.googleapis.com)... 142.250.145.128, 108.177.127.128, 2a00:1450:4013:c07::80, ...\n",
            "Connecting to storage.googleapis.com (storage.googleapis.com)|142.250.145.128|:443... connected.\n",
            "HTTP request sent, awaiting response... 200 OK\n",
            "Length: 168546183 (161M) [application/zip]\n",
            "Saving to: ‘10_food_classes_10_percent.zip.1’\n",
            "\n",
            "10_food_classes_10_ 100%[===================>] 160.74M  41.2MB/s    in 4.5s    \n",
            "\n",
            "2023-03-19 23:49:34 (35.7 MB/s) - ‘10_food_classes_10_percent.zip.1’ saved [168546183/168546183]\n",
            "\n"
          ]
        }
      ]
    },
    {
      "cell_type": "code",
      "source": [
        "zipfile_ref = zipfile.ZipFile(\"/content/10_food_classes_10_percent.zip\")\n",
        "zipfile_ref.extractall()\n",
        "zipfile_ref.close()"
      ],
      "metadata": {
        "id": "lAoJBdHCMb36"
      },
      "execution_count": 17,
      "outputs": []
    },
    {
      "cell_type": "code",
      "source": [
        "IMAGE_SHAPE = (224, 224)\n",
        "INPUT_SHAPE = (224, 224, 3)\n",
        "BATCH_SIZE = 32\n",
        "\n",
        "train_dir = \"/content/10_food_classes_10_percent/train\"\n",
        "test_dir = \"/content/10_food_classes_10_percent/test\""
      ],
      "metadata": {
        "id": "yQR3sBGVMow0"
      },
      "execution_count": 18,
      "outputs": []
    },
    {
      "cell_type": "code",
      "source": [
        "train_datagen = ImageDataGenerator(rescale = 1./255)\n",
        "test_datagen = ImageDataGenerator(rescale = 1./255)"
      ],
      "metadata": {
        "id": "4RdBt4FBNdTM"
      },
      "execution_count": 19,
      "outputs": []
    },
    {
      "cell_type": "code",
      "source": [
        "train_data = train_datagen.flow_from_directory(train_dir,\n",
        "                                               batch_size = BATCH_SIZE,\n",
        "                                               target_size = IMAGE_SHAPE,\n",
        "                                               class_mode = \"categorical\")\n",
        "\n",
        "test_data = test_datagen.flow_from_directory(test_dir,\n",
        "                                               batch_size = BATCH_SIZE,\n",
        "                                               target_size = IMAGE_SHAPE,\n",
        "                                               class_mode = \"categorical\")"
      ],
      "metadata": {
        "colab": {
          "base_uri": "https://localhost:8080/"
        },
        "id": "Elv-dCRlNj8o",
        "outputId": "718424e3-30b0-4931-9d87-97636b3fd684"
      },
      "execution_count": 20,
      "outputs": [
        {
          "output_type": "stream",
          "name": "stdout",
          "text": [
            "Found 750 images belonging to 10 classes.\n",
            "Found 2500 images belonging to 10 classes.\n"
          ]
        }
      ]
    },
    {
      "cell_type": "code",
      "source": [
        "tf.random.set_seed = 42"
      ],
      "metadata": {
        "id": "0XXueDvhN7Sv"
      },
      "execution_count": 21,
      "outputs": []
    },
    {
      "cell_type": "code",
      "source": [
        "def create_tensorboard_callback(dir_name, experiment_name):\n",
        "  log_dir = dir_name + \"/\" + experiment_name + \"/\" + datetime.datetime.now().strftime(\"%Y%m%d-%H%M%S\")\n",
        "  tensorboard_callback = tf.keras.callbacks.TensorBoard(log_dir = log_dir)\n",
        "  return tensorboard_callback"
      ],
      "metadata": {
        "id": "LG2LYIlMRwZH"
      },
      "execution_count": 22,
      "outputs": []
    },
    {
      "cell_type": "code",
      "source": [
        "resnet_url = \"https://tfhub.dev/google/imagenet/resnet_v2_50/feature_vector/5\"\n",
        "efficientnet_url = \"https://tfhub.dev/google/efficientnet/b0/feature-vector/1\""
      ],
      "metadata": {
        "id": "ewOJR6S9VDFE"
      },
      "execution_count": 23,
      "outputs": []
    },
    {
      "cell_type": "code",
      "source": [
        "transfermodel1 = Sequential([\n",
        "    hub.KerasLayer(resnet_url, trainable = False, input_shape = INPUT_SHAPE, name = \"feature_extraction_layer\"),\n",
        "    Dense(10, activation = \"softmax\", name = \"output_layer\")\n",
        "])\n",
        "\n",
        "transfermodel1.compile(loss = categorical_crossentropy,\n",
        "                       optimizer = Adam(),\n",
        "                       metrics = [\"accuracy\"])\n",
        "\n",
        "history1 = transfermodel1.fit(train_data,\n",
        "                              epochs = 5, \n",
        "                              steps_per_epoch=len(train_data),\n",
        "                              validation_data=test_data,\n",
        "                              validation_steps = len(test_data),\n",
        "                              callbacks=[create_tensorboard_callback(\"tensorflow_hub\", \"resnet50V2\")])"
      ],
      "metadata": {
        "colab": {
          "base_uri": "https://localhost:8080/"
        },
        "id": "cV2zKt2oCval",
        "outputId": "db6c03e7-c310-405a-8161-59d258a2448f"
      },
      "execution_count": 24,
      "outputs": [
        {
          "output_type": "stream",
          "name": "stdout",
          "text": [
            "Epoch 1/5\n",
            "24/24 [==============================] - 24s 782ms/step - loss: 1.8185 - accuracy: 0.3880 - val_loss: 1.1528 - val_accuracy: 0.6416\n",
            "Epoch 2/5\n",
            "24/24 [==============================] - 17s 724ms/step - loss: 0.8537 - accuracy: 0.7453 - val_loss: 0.8675 - val_accuracy: 0.7136\n",
            "Epoch 3/5\n",
            "24/24 [==============================] - 22s 927ms/step - loss: 0.5925 - accuracy: 0.8280 - val_loss: 0.7596 - val_accuracy: 0.7544\n",
            "Epoch 4/5\n",
            "24/24 [==============================] - 17s 728ms/step - loss: 0.4563 - accuracy: 0.8787 - val_loss: 0.7088 - val_accuracy: 0.7612\n",
            "Epoch 5/5\n",
            "24/24 [==============================] - 19s 831ms/step - loss: 0.3679 - accuracy: 0.9200 - val_loss: 0.6870 - val_accuracy: 0.7756\n"
          ]
        }
      ]
    },
    {
      "cell_type": "code",
      "source": [
        "pd.DataFrame(history1.history).plot(figsize=(10,7))"
      ],
      "metadata": {
        "colab": {
          "base_uri": "https://localhost:8080/",
          "height": 445
        },
        "id": "gYHGysZFF7z5",
        "outputId": "78cd1e52-2cc6-436d-b7f5-a46067626512"
      },
      "execution_count": 25,
      "outputs": [
        {
          "output_type": "execute_result",
          "data": {
            "text/plain": [
              "<Axes: >"
            ]
          },
          "metadata": {},
          "execution_count": 25
        },
        {
          "output_type": "display_data",
          "data": {
            "text/plain": [
              "<Figure size 720x504 with 1 Axes>"
            ],
            "image/png": "[encoded data removed]"
          },
          "metadata": {
            "needs_background": "light"
          }
        }
      ]
    },
    {
      "cell_type": "code",
      "source": [
        "transfermodel2 = Sequential([\n",
        "    hub.KerasLayer(efficientnet_url, trainable = False, input_shape = INPUT_SHAPE, name = \"feature_extraction_layer\"),\n",
        "    Dense(10, activation = \"softmax\", name = \"output_layer\")\n",
        "])\n",
        "\n",
        "transfermodel2.compile(loss = categorical_crossentropy,\n",
        "                       optimizer = Adam(),\n",
        "                       metrics = [\"accuracy\"])\n",
        "\n",
        "history2 = transfermodel2.fit(train_data,\n",
        "                              epochs = 5, \n",
        "                              steps_per_epoch=len(train_data),\n",
        "                              validation_data=test_data,\n",
        "                              validation_steps = len(test_data),\n",
        "                              callbacks=[create_tensorboard_callback(\"tensorflow_hub\", \"efficientnetb0\")])"
      ],
      "metadata": {
        "colab": {
          "base_uri": "https://localhost:8080/"
        },
        "id": "x8ChogYUGBUI",
        "outputId": "c280306c-4213-40bd-8add-9fb80ac91f40"
      },
      "execution_count": 26,
      "outputs": [
        {
          "output_type": "stream",
          "name": "stdout",
          "text": [
            "Epoch 1/5\n",
            "24/24 [==============================] - 31s 1s/step - loss: 1.8737 - accuracy: 0.4427 - val_loss: 1.3155 - val_accuracy: 0.7468\n",
            "Epoch 2/5\n",
            "24/24 [==============================] - 18s 752ms/step - loss: 1.0639 - accuracy: 0.7787 - val_loss: 0.8691 - val_accuracy: 0.8248\n",
            "Epoch 3/5\n",
            "24/24 [==============================] - 18s 761ms/step - loss: 0.7576 - accuracy: 0.8347 - val_loss: 0.6982 - val_accuracy: 0.8432\n",
            "Epoch 4/5\n",
            "24/24 [==============================] - 17s 744ms/step - loss: 0.6049 - accuracy: 0.8587 - val_loss: 0.6114 - val_accuracy: 0.8532\n",
            "Epoch 5/5\n",
            "24/24 [==============================] - 16s 694ms/step - loss: 0.5128 - accuracy: 0.8933 - val_loss: 0.5614 - val_accuracy: 0.8628\n"
          ]
        }
      ]
    },
    {
      "cell_type": "code",
      "source": [
        "pd.DataFrame(history2.history).plot()"
      ],
      "metadata": {
        "colab": {
          "base_uri": "https://localhost:8080/",
          "height": 282
        },
        "id": "rE2aUiuEG1jV",
        "outputId": "2ba5e285-fce7-4b8e-b69c-e3814911e88e"
      },
      "execution_count": 27,
      "outputs": [
        {
          "output_type": "execute_result",
          "data": {
            "text/plain": [
              "<Axes: >"
            ]
          },
          "metadata": {},
          "execution_count": 27
        },
        {
          "output_type": "display_data",
          "data": {
            "text/plain": [
              "<Figure size 432x288 with 1 Axes>"
            ],
            "image/png": "[encoded data removed]"
          },
          "metadata": {
            "needs_background": "light"
          }
        }
      ]
    },
    {
      "cell_type": "code",
      "source": [
        "!tensorboard dev upload --logdir ./tensorflow_hub/ \\\n",
        "--name \"EfficientNetB0 Vs ResNet50V2\" \\\n",
        "--one_shot"
      ],
      "metadata": {
        "id": "S1lQTgXeH0i2"
      },
      "execution_count": null,
      "outputs": []
    },
    {
      "cell_type": "code",
      "source": [],
      "metadata": {
        "id": "ITrt85x0Scef"
      },
      "execution_count": null,
      "outputs": []
    }
  ]
}