{
  "nbformat": 4,
  "nbformat_minor": 0,
  "metadata": {
    "colab": {
      "provenance": []
    },
    "kernelspec": {
      "name": "python3",
      "display_name": "Python 3"
    },
    "language_info": {
      "name": "python"
    },
    "gpuClass": "standard"
  },
  "cells": [
    {
      "cell_type": "code",
      "execution_count": 1,
      "metadata": {
        "id": "Z1cbpIX0O110"
      },
      "outputs": [],
      "source": [
        "from sklearn.datasets import make_circles\n",
        "import matplotlib.pyplot as plt\n",
        "from sklearn.model_selection import train_test_split\n",
        "import tensorflow as tf\n",
        "import pandas as pd"
      ]
    },
    {
      "cell_type": "code",
      "source": [
        "n_samples = 1000\n",
        "X, y = make_circles(n_samples,\n",
        "                    noise=0.03,\n",
        "                    random_state=42)"
      ],
      "metadata": {
        "id": "A2FAMJTKmv1E"
      },
      "execution_count": 2,
      "outputs": []
    },
    {
      "cell_type": "code",
      "source": [
        "plt.scatter(X[:,0], X[:,1])"
      ],
      "metadata": {
        "id": "iszGsY9ph6Fc",
        "colab": {
          "base_uri": "https://localhost:8080/",
          "height": 282
        },
        "outputId": "a36c95d6-3b2c-4ffd-f4f7-367d4a979b77"
      },
      "execution_count": 3,
      "outputs": [
        {
          "output_type": "execute_result",
          "data": {
            "text/plain": [
              "<matplotlib.collections.PathCollection at 0x7f95a3d15dc0>"
            ]
          },
          "metadata": {},
          "execution_count": 3
        },
        {
          "output_type": "display_data",
          "data": {
            "text/plain": [
              "<Figure size 432x288 with 1 Axes>"
            ],
            "image/png": "[encoded data removed]"
          },
          "metadata": {
            "needs_background": "light"
          }
        }
      ]
    },
    {
      "cell_type": "code",
      "source": [
        "X_train, X_test, y_train, y_test = train_test_split(X, y, test_size=0.2)"
      ],
      "metadata": {
        "id": "mv3kpLVgh6cX"
      },
      "execution_count": 4,
      "outputs": []
    },
    {
      "cell_type": "code",
      "source": [
        "tf.random.set_seed(42)"
      ],
      "metadata": {
        "id": "HUwkMaK0oWnr"
      },
      "execution_count": 5,
      "outputs": []
    },
    {
      "cell_type": "code",
      "source": [
        "model = tf.keras.Sequential([\n",
        "    tf.keras.layers.InputLayer(input_shape=(2)),\n",
        "    tf.keras.layers.Dense(10, activation=\"relu\"),\n",
        "    tf.keras.layers.Dense(1, activation=\"sigmoid\"),\n",
        "])\n",
        "\n",
        "model.compile(loss = tf.keras.losses.BinaryCrossentropy(),\n",
        "              optimizer = tf.keras.optimizers.Adam(),\n",
        "              metrics = [\"accuracy\"])\n",
        "\n",
        "model.fit(X_train, y_train, epochs = 100)"
      ],
      "metadata": {
        "colab": {
          "base_uri": "https://localhost:8080/"
        },
        "id": "kE6pi5O1nBee",
        "outputId": "26daeba6-31a6-4ae0-fc38-e78cf2a9d45e"
      },
      "execution_count": 6,
      "outputs": [
        {
          "output_type": "stream",
          "name": "stdout",
          "text": [
            "Epoch 1/100\n",
            "25/25 [==============================] - 1s 1ms/step - loss: 0.6876 - accuracy: 0.4988\n",
            "Epoch 2/100\n",
            "25/25 [==============================] - 0s 1ms/step - loss: 0.6865 - accuracy: 0.4988\n",
            "Epoch 3/100\n",
            "25/25 [==============================] - 0s 1ms/step - loss: 0.6854 - accuracy: 0.5038\n",
            "Epoch 4/100\n",
            "25/25 [==============================] - 0s 1ms/step - loss: 0.6844 - accuracy: 0.5113\n",
            "Epoch 5/100\n",
            "25/25 [==============================] - 0s 2ms/step - loss: 0.6836 - accuracy: 0.5163\n",
            "Epoch 6/100\n",
            "25/25 [==============================] - 0s 2ms/step - loss: 0.6827 - accuracy: 0.5150\n",
            "Epoch 7/100\n",
            "25/25 [==============================] - 0s 2ms/step - loss: 0.6820 - accuracy: 0.5200\n",
            "Epoch 8/100\n",
            "25/25 [==============================] - 0s 2ms/step - loss: 0.6811 - accuracy: 0.5213\n",
            "Epoch 9/100\n",
            "25/25 [==============================] - 0s 2ms/step - loss: 0.6802 - accuracy: 0.5250\n",
            "Epoch 10/100\n",
            "25/25 [==============================] - 0s 2ms/step - loss: 0.6793 - accuracy: 0.5462\n",
            "Epoch 11/100\n",
            "25/25 [==============================] - 0s 2ms/step - loss: 0.6785 - accuracy: 0.5612\n",
            "Epoch 12/100\n",
            "25/25 [==============================] - 0s 2ms/step - loss: 0.6775 - accuracy: 0.5612\n",
            "Epoch 13/100\n",
            "25/25 [==============================] - 0s 2ms/step - loss: 0.6763 - accuracy: 0.5750\n",
            "Epoch 14/100\n",
            "25/25 [==============================] - 0s 1ms/step - loss: 0.6755 - accuracy: 0.5775\n",
            "Epoch 15/100\n",
            "25/25 [==============================] - 0s 2ms/step - loss: 0.6747 - accuracy: 0.5800\n",
            "Epoch 16/100\n",
            "25/25 [==============================] - 0s 2ms/step - loss: 0.6738 - accuracy: 0.5950\n",
            "Epoch 17/100\n",
            "25/25 [==============================] - 0s 2ms/step - loss: 0.6732 - accuracy: 0.5888\n",
            "Epoch 18/100\n",
            "25/25 [==============================] - 0s 2ms/step - loss: 0.6721 - accuracy: 0.5950\n",
            "Epoch 19/100\n",
            "25/25 [==============================] - 0s 2ms/step - loss: 0.6711 - accuracy: 0.6000\n",
            "Epoch 20/100\n",
            "25/25 [==============================] - 0s 2ms/step - loss: 0.6702 - accuracy: 0.6012\n",
            "Epoch 21/100\n",
            "25/25 [==============================] - 0s 2ms/step - loss: 0.6692 - accuracy: 0.6100\n",
            "Epoch 22/100\n",
            "25/25 [==============================] - 0s 2ms/step - loss: 0.6682 - accuracy: 0.6162\n",
            "Epoch 23/100\n",
            "25/25 [==============================] - 0s 2ms/step - loss: 0.6672 - accuracy: 0.6212\n",
            "Epoch 24/100\n",
            "25/25 [==============================] - 0s 2ms/step - loss: 0.6661 - accuracy: 0.6212\n",
            "Epoch 25/100\n",
            "25/25 [==============================] - 0s 2ms/step - loss: 0.6650 - accuracy: 0.6250\n",
            "Epoch 26/100\n",
            "25/25 [==============================] - 0s 2ms/step - loss: 0.6638 - accuracy: 0.6300\n",
            "Epoch 27/100\n",
            "25/25 [==============================] - 0s 2ms/step - loss: 0.6627 - accuracy: 0.6350\n",
            "Epoch 28/100\n",
            "25/25 [==============================] - 0s 1ms/step - loss: 0.6615 - accuracy: 0.6375\n",
            "Epoch 29/100\n",
            "25/25 [==============================] - 0s 1ms/step - loss: 0.6608 - accuracy: 0.6338\n",
            "Epoch 30/100\n",
            "25/25 [==============================] - 0s 1ms/step - loss: 0.6593 - accuracy: 0.6425\n",
            "Epoch 31/100\n",
            "25/25 [==============================] - 0s 1ms/step - loss: 0.6582 - accuracy: 0.6413\n",
            "Epoch 32/100\n",
            "25/25 [==============================] - 0s 1ms/step - loss: 0.6571 - accuracy: 0.6488\n",
            "Epoch 33/100\n",
            "25/25 [==============================] - 0s 2ms/step - loss: 0.6559 - accuracy: 0.6575\n",
            "Epoch 34/100\n",
            "25/25 [==============================] - 0s 1ms/step - loss: 0.6545 - accuracy: 0.6600\n",
            "Epoch 35/100\n",
            "25/25 [==============================] - 0s 1ms/step - loss: 0.6533 - accuracy: 0.6712\n",
            "Epoch 36/100\n",
            "25/25 [==============================] - 0s 1ms/step - loss: 0.6518 - accuracy: 0.6725\n",
            "Epoch 37/100\n",
            "25/25 [==============================] - 0s 1ms/step - loss: 0.6507 - accuracy: 0.6988\n",
            "Epoch 38/100\n",
            "25/25 [==============================] - 0s 1ms/step - loss: 0.6493 - accuracy: 0.6900\n",
            "Epoch 39/100\n",
            "25/25 [==============================] - 0s 1ms/step - loss: 0.6481 - accuracy: 0.7125\n",
            "Epoch 40/100\n",
            "25/25 [==============================] - 0s 1ms/step - loss: 0.6460 - accuracy: 0.6988\n",
            "Epoch 41/100\n",
            "25/25 [==============================] - 0s 1ms/step - loss: 0.6442 - accuracy: 0.6963\n",
            "Epoch 42/100\n",
            "25/25 [==============================] - 0s 1ms/step - loss: 0.6422 - accuracy: 0.7138\n",
            "Epoch 43/100\n",
            "25/25 [==============================] - 0s 1ms/step - loss: 0.6408 - accuracy: 0.7088\n",
            "Epoch 44/100\n",
            "25/25 [==============================] - 0s 1ms/step - loss: 0.6391 - accuracy: 0.7300\n",
            "Epoch 45/100\n",
            "25/25 [==============================] - 0s 1ms/step - loss: 0.6380 - accuracy: 0.7325\n",
            "Epoch 46/100\n",
            "25/25 [==============================] - 0s 1ms/step - loss: 0.6363 - accuracy: 0.7713\n",
            "Epoch 47/100\n",
            "25/25 [==============================] - 0s 1ms/step - loss: 0.6349 - accuracy: 0.7700\n",
            "Epoch 48/100\n",
            "25/25 [==============================] - 0s 1ms/step - loss: 0.6332 - accuracy: 0.7688\n",
            "Epoch 49/100\n",
            "25/25 [==============================] - 0s 2ms/step - loss: 0.6317 - accuracy: 0.7750\n",
            "Epoch 50/100\n",
            "25/25 [==============================] - 0s 2ms/step - loss: 0.6303 - accuracy: 0.7713\n",
            "Epoch 51/100\n",
            "25/25 [==============================] - 0s 2ms/step - loss: 0.6285 - accuracy: 0.8062\n",
            "Epoch 52/100\n",
            "25/25 [==============================] - 0s 2ms/step - loss: 0.6270 - accuracy: 0.8100\n",
            "Epoch 53/100\n",
            "25/25 [==============================] - 0s 1ms/step - loss: 0.6256 - accuracy: 0.8000\n",
            "Epoch 54/100\n",
            "25/25 [==============================] - 0s 2ms/step - loss: 0.6237 - accuracy: 0.8112\n",
            "Epoch 55/100\n",
            "25/25 [==============================] - 0s 1ms/step - loss: 0.6221 - accuracy: 0.8462\n",
            "Epoch 56/100\n",
            "25/25 [==============================] - 0s 1ms/step - loss: 0.6202 - accuracy: 0.8313\n",
            "Epoch 57/100\n",
            "25/25 [==============================] - 0s 1ms/step - loss: 0.6186 - accuracy: 0.8400\n",
            "Epoch 58/100\n",
            "25/25 [==============================] - 0s 1ms/step - loss: 0.6171 - accuracy: 0.8550\n",
            "Epoch 59/100\n",
            "25/25 [==============================] - 0s 1ms/step - loss: 0.6152 - accuracy: 0.8712\n",
            "Epoch 60/100\n",
            "25/25 [==============================] - 0s 1ms/step - loss: 0.6135 - accuracy: 0.8525\n",
            "Epoch 61/100\n",
            "25/25 [==============================] - 0s 1ms/step - loss: 0.6116 - accuracy: 0.8737\n",
            "Epoch 62/100\n",
            "25/25 [==============================] - 0s 1ms/step - loss: 0.6098 - accuracy: 0.8938\n",
            "Epoch 63/100\n",
            "25/25 [==============================] - 0s 1ms/step - loss: 0.6082 - accuracy: 0.8788\n",
            "Epoch 64/100\n",
            "25/25 [==============================] - 0s 1ms/step - loss: 0.6064 - accuracy: 0.8712\n",
            "Epoch 65/100\n",
            "25/25 [==============================] - 0s 1ms/step - loss: 0.6046 - accuracy: 0.9000\n",
            "Epoch 66/100\n",
            "25/25 [==============================] - 0s 1ms/step - loss: 0.6028 - accuracy: 0.8700\n",
            "Epoch 67/100\n",
            "25/25 [==============================] - 0s 1ms/step - loss: 0.6014 - accuracy: 0.9013\n",
            "Epoch 68/100\n",
            "25/25 [==============================] - 0s 1ms/step - loss: 0.5989 - accuracy: 0.9025\n",
            "Epoch 69/100\n",
            "25/25 [==============================] - 0s 1ms/step - loss: 0.5973 - accuracy: 0.8950\n",
            "Epoch 70/100\n",
            "25/25 [==============================] - 0s 1ms/step - loss: 0.5953 - accuracy: 0.9075\n",
            "Epoch 71/100\n",
            "25/25 [==============================] - 0s 1ms/step - loss: 0.5934 - accuracy: 0.9075\n",
            "Epoch 72/100\n",
            "25/25 [==============================] - 0s 1ms/step - loss: 0.5919 - accuracy: 0.8950\n",
            "Epoch 73/100\n",
            "25/25 [==============================] - 0s 1ms/step - loss: 0.5898 - accuracy: 0.9250\n",
            "Epoch 74/100\n",
            "25/25 [==============================] - 0s 1ms/step - loss: 0.5884 - accuracy: 0.9025\n",
            "Epoch 75/100\n",
            "25/25 [==============================] - 0s 1ms/step - loss: 0.5858 - accuracy: 0.9237\n",
            "Epoch 76/100\n",
            "25/25 [==============================] - 0s 1ms/step - loss: 0.5840 - accuracy: 0.9337\n",
            "Epoch 77/100\n",
            "25/25 [==============================] - 0s 1ms/step - loss: 0.5823 - accuracy: 0.9438\n",
            "Epoch 78/100\n",
            "25/25 [==============================] - 0s 1ms/step - loss: 0.5802 - accuracy: 0.9250\n",
            "Epoch 79/100\n",
            "25/25 [==============================] - 0s 1ms/step - loss: 0.5781 - accuracy: 0.9212\n",
            "Epoch 80/100\n",
            "25/25 [==============================] - 0s 1ms/step - loss: 0.5763 - accuracy: 0.9250\n",
            "Epoch 81/100\n",
            "25/25 [==============================] - 0s 1ms/step - loss: 0.5742 - accuracy: 0.9388\n",
            "Epoch 82/100\n",
            "25/25 [==============================] - 0s 3ms/step - loss: 0.5725 - accuracy: 0.9425\n",
            "Epoch 83/100\n",
            "25/25 [==============================] - 0s 2ms/step - loss: 0.5705 - accuracy: 0.9375\n",
            "Epoch 84/100\n",
            "25/25 [==============================] - 0s 2ms/step - loss: 0.5688 - accuracy: 0.9438\n",
            "Epoch 85/100\n",
            "25/25 [==============================] - 0s 1ms/step - loss: 0.5671 - accuracy: 0.9362\n",
            "Epoch 86/100\n",
            "25/25 [==============================] - 0s 1ms/step - loss: 0.5646 - accuracy: 0.9337\n",
            "Epoch 87/100\n",
            "25/25 [==============================] - 0s 2ms/step - loss: 0.5628 - accuracy: 0.9500\n",
            "Epoch 88/100\n",
            "25/25 [==============================] - 0s 2ms/step - loss: 0.5609 - accuracy: 0.9525\n",
            "Epoch 89/100\n",
            "25/25 [==============================] - 0s 1ms/step - loss: 0.5588 - accuracy: 0.9438\n",
            "Epoch 90/100\n",
            "25/25 [==============================] - 0s 1ms/step - loss: 0.5567 - accuracy: 0.9475\n",
            "Epoch 91/100\n",
            "25/25 [==============================] - 0s 1ms/step - loss: 0.5548 - accuracy: 0.9563\n",
            "Epoch 92/100\n",
            "25/25 [==============================] - 0s 1ms/step - loss: 0.5528 - accuracy: 0.9488\n",
            "Epoch 93/100\n",
            "25/25 [==============================] - 0s 1ms/step - loss: 0.5508 - accuracy: 0.9463\n",
            "Epoch 94/100\n",
            "25/25 [==============================] - 0s 1ms/step - loss: 0.5485 - accuracy: 0.9563\n",
            "Epoch 95/100\n",
            "25/25 [==============================] - 0s 1ms/step - loss: 0.5466 - accuracy: 0.9613\n",
            "Epoch 96/100\n",
            "25/25 [==============================] - 0s 1ms/step - loss: 0.5445 - accuracy: 0.9500\n",
            "Epoch 97/100\n",
            "25/25 [==============================] - 0s 1ms/step - loss: 0.5423 - accuracy: 0.9600\n",
            "Epoch 98/100\n",
            "25/25 [==============================] - 0s 1ms/step - loss: 0.5405 - accuracy: 0.9550\n",
            "Epoch 99/100\n",
            "25/25 [==============================] - 0s 1ms/step - loss: 0.5383 - accuracy: 0.9675\n",
            "Epoch 100/100\n",
            "25/25 [==============================] - 0s 1ms/step - loss: 0.5361 - accuracy: 0.9712\n"
          ]
        },
        {
          "output_type": "execute_result",
          "data": {
            "text/plain": [
              "<keras.callbacks.History at 0x7f959c570af0>"
            ]
          },
          "metadata": {},
          "execution_count": 6
        }
      ]
    },
    {
      "cell_type": "markdown",
      "source": [],
      "metadata": {
        "id": "rludXEOAQfgi"
      }
    },
    {
      "cell_type": "code",
      "source": [
        "model.evaluate(X_test, y_test)"
      ],
      "metadata": {
        "colab": {
          "base_uri": "https://localhost:8080/"
        },
        "id": "Je1F-zVrnwsG",
        "outputId": "d39f3453-ea2a-44d8-f4e2-50ea0b0e4d8a"
      },
      "execution_count": 7,
      "outputs": [
        {
          "output_type": "stream",
          "name": "stdout",
          "text": [
            "7/7 [==============================] - 0s 2ms/step - loss: 0.5539 - accuracy: 0.9550\n"
          ]
        },
        {
          "output_type": "execute_result",
          "data": {
            "text/plain": [
              "[0.5538603067398071, 0.9549999833106995]"
            ]
          },
          "metadata": {},
          "execution_count": 7
        }
      ]
    },
    {
      "cell_type": "code",
      "source": [
        "y_pred = model.predict(X_test)"
      ],
      "metadata": {
        "colab": {
          "base_uri": "https://localhost:8080/"
        },
        "id": "0TH3zwT9n027",
        "outputId": "948e42b5-87a3-4061-f2f9-79443725d162"
      },
      "execution_count": 8,
      "outputs": [
        {
          "output_type": "stream",
          "name": "stdout",
          "text": [
            "7/7 [==============================] - 0s 1ms/step\n"
          ]
        }
      ]
    },
    {
      "cell_type": "code",
      "source": [
        "import numpy as np"
      ],
      "metadata": {
        "id": "u5x3cVkorfse"
      },
      "execution_count": 9,
      "outputs": []
    },
    {
      "cell_type": "code",
      "source": [
        "def plot_decision_boundary(model , X, y):\n",
        "  x_min, x_max = X[:,0].min() - 0.1 , X[:, 0].max() + 0.1\n",
        "  y_min, y_max = X[:,1].min() - 0.1 , X[:, 1].max() + 0.1\n",
        "  xx , yy = np.meshgrid(np.linspace(x_min, x_max, 100), \n",
        "                        np.linspace(x_min, x_max, 100))\n",
        "  \n",
        "  x_in = np.c_[xx.ravel(), yy.ravel()]\n",
        "\n",
        "  y_pred = model.predict(x_in)\n",
        "\n",
        "  if len(y_pred[0]) > 1:\n",
        "    y_pred = np.argmax(y_pred).reshape(xx.shape)\n",
        "  else:\n",
        "    y_pred = np.round(y_pred).reshape(xx.shape)\n",
        "  \n",
        "  plt.contourf(xx, yy, y_pred)\n",
        "  plt.scatter(X[:, 0], X[:, 1])\n",
        "  plt.xlim(xx.min(), xx.max())\n",
        "  plt.ylim(yy.min(), yy.max())"
      ],
      "metadata": {
        "id": "o5qqi7vgruWm"
      },
      "execution_count": 10,
      "outputs": []
    },
    {
      "cell_type": "code",
      "source": [
        "x_min, x_max = X[:,0].min() - 0.1 , X[:, 0].max() + 0.1\n",
        "y_min, y_max = X[:,1].min() - 0.1 , X[:, 1].max() + 0.1\n",
        "\n",
        "x_min, x_max, y_min, y_max"
      ],
      "metadata": {
        "colab": {
          "base_uri": "https://localhost:8080/"
        },
        "id": "mjwP56HwUMNX",
        "outputId": "fba56dd7-e39a-4ef3-f493-f54e49f399da"
      },
      "execution_count": 11,
      "outputs": [
        {
          "output_type": "execute_result",
          "data": {
            "text/plain": [
              "(-1.1595024599098636,\n",
              " 1.1337117525463374,\n",
              " -1.1677683182718437,\n",
              " 1.1360036756154805)"
            ]
          },
          "metadata": {},
          "execution_count": 11
        }
      ]
    },
    {
      "cell_type": "code",
      "source": [
        "xx , yy = np.meshgrid(np.linspace(x_min, x_max, 100), \n",
        "                        np.linspace(x_min, x_max, 100))"
      ],
      "metadata": {
        "id": "efMD3NrvUOyp"
      },
      "execution_count": 12,
      "outputs": []
    },
    {
      "cell_type": "code",
      "source": [
        "xx"
      ],
      "metadata": {
        "colab": {
          "base_uri": "https://localhost:8080/"
        },
        "id": "Hl98ury9UWaG",
        "outputId": "6ccca928-8765-4951-eaa3-30349ed1f730"
      },
      "execution_count": 13,
      "outputs": [
        {
          "output_type": "execute_result",
          "data": {
            "text/plain": [
              "array([[-1.15950246, -1.13633868, -1.1131749 , ...,  1.08738419,\n",
              "         1.11054797,  1.13371175],\n",
              "       [-1.15950246, -1.13633868, -1.1131749 , ...,  1.08738419,\n",
              "         1.11054797,  1.13371175],\n",
              "       [-1.15950246, -1.13633868, -1.1131749 , ...,  1.08738419,\n",
              "         1.11054797,  1.13371175],\n",
              "       ...,\n",
              "       [-1.15950246, -1.13633868, -1.1131749 , ...,  1.08738419,\n",
              "         1.11054797,  1.13371175],\n",
              "       [-1.15950246, -1.13633868, -1.1131749 , ...,  1.08738419,\n",
              "         1.11054797,  1.13371175],\n",
              "       [-1.15950246, -1.13633868, -1.1131749 , ...,  1.08738419,\n",
              "         1.11054797,  1.13371175]])"
            ]
          },
          "metadata": {},
          "execution_count": 13
        }
      ]
    },
    {
      "cell_type": "code",
      "source": [
        "yy[99]"
      ],
      "metadata": {
        "colab": {
          "base_uri": "https://localhost:8080/"
        },
        "id": "ZEPKb626Uk-q",
        "outputId": "53bd6052-3dd8-418b-ce02-5d9da4acf2a0"
      },
      "execution_count": 14,
      "outputs": [
        {
          "output_type": "execute_result",
          "data": {
            "text/plain": [
              "array([1.13371175, 1.13371175, 1.13371175, 1.13371175, 1.13371175,\n",
              "       1.13371175, 1.13371175, 1.13371175, 1.13371175, 1.13371175,\n",
              "       1.13371175, 1.13371175, 1.13371175, 1.13371175, 1.13371175,\n",
              "       1.13371175, 1.13371175, 1.13371175, 1.13371175, 1.13371175,\n",
              "       1.13371175, 1.13371175, 1.13371175, 1.13371175, 1.13371175,\n",
              "       1.13371175, 1.13371175, 1.13371175, 1.13371175, 1.13371175,\n",
              "       1.13371175, 1.13371175, 1.13371175, 1.13371175, 1.13371175,\n",
              "       1.13371175, 1.13371175, 1.13371175, 1.13371175, 1.13371175,\n",
              "       1.13371175, 1.13371175, 1.13371175, 1.13371175, 1.13371175,\n",
              "       1.13371175, 1.13371175, 1.13371175, 1.13371175, 1.13371175,\n",
              "       1.13371175, 1.13371175, 1.13371175, 1.13371175, 1.13371175,\n",
              "       1.13371175, 1.13371175, 1.13371175, 1.13371175, 1.13371175,\n",
              "       1.13371175, 1.13371175, 1.13371175, 1.13371175, 1.13371175,\n",
              "       1.13371175, 1.13371175, 1.13371175, 1.13371175, 1.13371175,\n",
              "       1.13371175, 1.13371175, 1.13371175, 1.13371175, 1.13371175,\n",
              "       1.13371175, 1.13371175, 1.13371175, 1.13371175, 1.13371175,\n",
              "       1.13371175, 1.13371175, 1.13371175, 1.13371175, 1.13371175,\n",
              "       1.13371175, 1.13371175, 1.13371175, 1.13371175, 1.13371175,\n",
              "       1.13371175, 1.13371175, 1.13371175, 1.13371175, 1.13371175,\n",
              "       1.13371175, 1.13371175, 1.13371175, 1.13371175, 1.13371175])"
            ]
          },
          "metadata": {},
          "execution_count": 14
        }
      ]
    },
    {
      "cell_type": "code",
      "source": [
        "plot_decision_boundary(model, X, y)"
      ],
      "metadata": {
        "colab": {
          "base_uri": "https://localhost:8080/",
          "height": 282
        },
        "id": "U1GNnmlcUuAb",
        "outputId": "326139b5-5089-43a6-8f77-28f5668c1bca"
      },
      "execution_count": 15,
      "outputs": [
        {
          "output_type": "stream",
          "name": "stdout",
          "text": [
            "313/313 [==============================] - 0s 800us/step\n"
          ]
        },
        {
          "output_type": "display_data",
          "data": {
            "text/plain": [
              "<Figure size 432x288 with 1 Axes>"
            ],
            "image/png": "[encoded data removed]"
          },
          "metadata": {
            "needs_background": "light"
          }
        }
      ]
    },
    {
      "cell_type": "code",
      "source": [
        "tf.random.set_seed(42)\n",
        "model2 = tf.keras.Sequential([\n",
        "    tf.keras.layers.InputLayer(input_shape=(2)),\n",
        "    tf.keras.layers.Dense(4, activation = \"relu\"),\n",
        "    tf.keras.layers.Dense(4, activation = \"relu\"),\n",
        "    tf.keras.layers.Dense(1, activation = \"sigmoid\")\n",
        "])\n",
        "\n",
        "model2.compile(loss = tf.keras.losses.BinaryCrossentropy(),\n",
        "               optimizer = tf.keras.optimizers.Adam(),\n",
        "               metrics = [\"accuracy\"])\n",
        "\n",
        "model2.fit(X_train, y_train, epochs=200, verbose=0)"
      ],
      "metadata": {
        "colab": {
          "base_uri": "https://localhost:8080/"
        },
        "id": "koY1hv0IC4Md",
        "outputId": "bdf65a5c-36c5-4d6d-da38-9501026ca4a6"
      },
      "execution_count": 16,
      "outputs": [
        {
          "output_type": "execute_result",
          "data": {
            "text/plain": [
              "<keras.callbacks.History at 0x7f959cb0aee0>"
            ]
          },
          "metadata": {},
          "execution_count": 16
        }
      ]
    },
    {
      "cell_type": "code",
      "source": [
        "model2.evaluate(X_test, y_test)"
      ],
      "metadata": {
        "colab": {
          "base_uri": "https://localhost:8080/"
        },
        "id": "zsfETkuRPrWz",
        "outputId": "b015519d-78ae-4295-800d-a652a3ad3652"
      },
      "execution_count": 17,
      "outputs": [
        {
          "output_type": "stream",
          "name": "stdout",
          "text": [
            "7/7 [==============================] - 0s 2ms/step - loss: 0.1551 - accuracy: 0.9800\n"
          ]
        },
        {
          "output_type": "execute_result",
          "data": {
            "text/plain": [
              "[0.15505768358707428, 0.9800000190734863]"
            ]
          },
          "metadata": {},
          "execution_count": 17
        }
      ]
    },
    {
      "cell_type": "code",
      "source": [
        "plot_decision_boundary(model2, X, y)"
      ],
      "metadata": {
        "colab": {
          "base_uri": "https://localhost:8080/",
          "height": 282
        },
        "id": "JgQp6K0fQrC8",
        "outputId": "040a67e2-1ade-4c4b-e64a-1f297a3acd6c"
      },
      "execution_count": 18,
      "outputs": [
        {
          "output_type": "stream",
          "name": "stdout",
          "text": [
            "313/313 [==============================] - 1s 2ms/step\n"
          ]
        },
        {
          "output_type": "display_data",
          "data": {
            "text/plain": [
              "<Figure size 432x288 with 1 Axes>"
            ],
            "image/png": "[encoded data removed]"
          },
          "metadata": {
            "needs_background": "light"
          }
        }
      ]
    },
    {
      "cell_type": "code",
      "source": [
        "model3 = tf.keras.Sequential([\n",
        "    tf.keras.layers.InputLayer(input_shape=(2)),\n",
        "    tf.keras.layers.Dense(4, activation = \"relu\"),\n",
        "    tf.keras.layers.Dense(4, activation = \"relu\"),\n",
        "    tf.keras.layers.Dense(1, activation = \"sigmoid\")\n",
        "])\n",
        "\n",
        "model3.compile(loss = tf.keras.losses.BinaryCrossentropy(),\n",
        "               optimizer = tf.keras.optimizers.Adam(learning_rate = 0.01),\n",
        "               metrics = [\"accuracy\"])\n",
        "\n",
        "history = model3.fit(X_train, y_train, epochs=25)"
      ],
      "metadata": {
        "colab": {
          "base_uri": "https://localhost:8080/"
        },
        "id": "_0cBARadQwBr",
        "outputId": "62e61fd5-fa7e-4ad8-f932-8a69c1fe0f0a"
      },
      "execution_count": 19,
      "outputs": [
        {
          "output_type": "stream",
          "name": "stdout",
          "text": [
            "Epoch 1/25\n",
            "25/25 [==============================] - 1s 2ms/step - loss: 0.6962 - accuracy: 0.4888\n",
            "Epoch 2/25\n",
            "25/25 [==============================] - 0s 2ms/step - loss: 0.6861 - accuracy: 0.5600\n",
            "Epoch 3/25\n",
            "25/25 [==============================] - 0s 2ms/step - loss: 0.6781 - accuracy: 0.5387\n",
            "Epoch 4/25\n",
            "25/25 [==============================] - 0s 2ms/step - loss: 0.6668 - accuracy: 0.5913\n",
            "Epoch 5/25\n",
            "25/25 [==============================] - 0s 2ms/step - loss: 0.6498 - accuracy: 0.6175\n",
            "Epoch 6/25\n",
            "25/25 [==============================] - 0s 2ms/step - loss: 0.6313 - accuracy: 0.7175\n",
            "Epoch 7/25\n",
            "25/25 [==============================] - 0s 2ms/step - loss: 0.6073 - accuracy: 0.7050\n",
            "Epoch 8/25\n",
            "25/25 [==============================] - 0s 2ms/step - loss: 0.5591 - accuracy: 0.7800\n",
            "Epoch 9/25\n",
            "25/25 [==============================] - 0s 2ms/step - loss: 0.5011 - accuracy: 0.8413\n",
            "Epoch 10/25\n",
            "25/25 [==============================] - 0s 2ms/step - loss: 0.4457 - accuracy: 0.8700\n",
            "Epoch 11/25\n",
            "25/25 [==============================] - 0s 2ms/step - loss: 0.3891 - accuracy: 0.9125\n",
            "Epoch 12/25\n",
            "25/25 [==============================] - 0s 3ms/step - loss: 0.3318 - accuracy: 0.9488\n",
            "Epoch 13/25\n",
            "25/25 [==============================] - 0s 2ms/step - loss: 0.2873 - accuracy: 0.9463\n",
            "Epoch 14/25\n",
            "25/25 [==============================] - 0s 2ms/step - loss: 0.2363 - accuracy: 0.9875\n",
            "Epoch 15/25\n",
            "25/25 [==============================] - 0s 2ms/step - loss: 0.2084 - accuracy: 0.9862\n",
            "Epoch 16/25\n",
            "25/25 [==============================] - 0s 2ms/step - loss: 0.1821 - accuracy: 0.9787\n",
            "Epoch 17/25\n",
            "25/25 [==============================] - 0s 2ms/step - loss: 0.1614 - accuracy: 0.9775\n",
            "Epoch 18/25\n",
            "25/25 [==============================] - 0s 2ms/step - loss: 0.1431 - accuracy: 0.9875\n",
            "Epoch 19/25\n",
            "25/25 [==============================] - 0s 2ms/step - loss: 0.1218 - accuracy: 0.9887\n",
            "Epoch 20/25\n",
            "25/25 [==============================] - 0s 2ms/step - loss: 0.1097 - accuracy: 0.9975\n",
            "Epoch 21/25\n",
            "25/25 [==============================] - 0s 2ms/step - loss: 0.1027 - accuracy: 0.9925\n",
            "Epoch 22/25\n",
            "25/25 [==============================] - 0s 2ms/step - loss: 0.0912 - accuracy: 0.9937\n",
            "Epoch 23/25\n",
            "25/25 [==============================] - 0s 2ms/step - loss: 0.0890 - accuracy: 0.9900\n",
            "Epoch 24/25\n",
            "25/25 [==============================] - 0s 2ms/step - loss: 0.0806 - accuracy: 0.9912\n",
            "Epoch 25/25\n",
            "25/25 [==============================] - 0s 2ms/step - loss: 0.0723 - accuracy: 0.9937\n"
          ]
        }
      ]
    },
    {
      "cell_type": "code",
      "source": [
        "model3.evaluate(X_test, y_test)"
      ],
      "metadata": {
        "colab": {
          "base_uri": "https://localhost:8080/"
        },
        "id": "U9sKSEF4jZJ7",
        "outputId": "05185f92-55af-43e0-a3b5-6610a58fc7db"
      },
      "execution_count": 20,
      "outputs": [
        {
          "output_type": "stream",
          "name": "stdout",
          "text": [
            "7/7 [==============================] - 0s 2ms/step - loss: 0.0854 - accuracy: 0.9900\n"
          ]
        },
        {
          "output_type": "execute_result",
          "data": {
            "text/plain": [
              "[0.0854049101471901, 0.9900000095367432]"
            ]
          },
          "metadata": {},
          "execution_count": 20
        }
      ]
    },
    {
      "cell_type": "code",
      "source": [
        "pd.DataFrame(history.history).plot()"
      ],
      "metadata": {
        "colab": {
          "base_uri": "https://localhost:8080/",
          "height": 282
        },
        "id": "3dGE51Ldjf_e",
        "outputId": "077aec90-69ca-40bf-95c4-6516bf6226ee"
      },
      "execution_count": 21,
      "outputs": [
        {
          "output_type": "execute_result",
          "data": {
            "text/plain": [
              "<AxesSubplot:>"
            ]
          },
          "metadata": {},
          "execution_count": 21
        },
        {
          "output_type": "display_data",
          "data": {
            "text/plain": [
              "<Figure size 432x288 with 1 Axes>"
            ],
            "image/png": "[encoded data removed]"
          },
          "metadata": {
            "needs_background": "light"
          }
        }
      ]
    },
    {
      "cell_type": "code",
      "source": [
        "tf.random.set_seed(42)\n",
        "\n",
        "model4 = tf.keras.Sequential([\n",
        "    tf.keras.layers.InputLayer(input_shape=(2)),\n",
        "    tf.keras.layers.Dense(4, activation=\"relu\"),\n",
        "    tf.keras.layers.Dense(4, activation=\"relu\"),\n",
        "    tf.keras.layers.Dense(1, activation=\"sigmoid\")\n",
        "])\n",
        "\n",
        "model4.compile(loss = tf.keras.losses.BinaryCrossentropy(),\n",
        "               optimizer = tf.keras.optimizers.Adam(),\n",
        "               metrics = [\"accuracy\"])\n",
        "\n",
        "lr_scheduler = tf.keras.callbacks.LearningRateScheduler(lambda epoch : 0.0001 * (10 ** (epoch/20))) \n",
        "\n",
        "history = model4.fit(X_train, y_train, epochs = 100, callbacks=[lr_scheduler])"
      ],
      "metadata": {
        "colab": {
          "base_uri": "https://localhost:8080/"
        },
        "id": "WkqYIWrZksRv",
        "outputId": "a8862607-fd0d-4cdb-fe02-db08946376b8"
      },
      "execution_count": 22,
      "outputs": [
        {
          "output_type": "stream",
          "name": "stdout",
          "text": [
            "Epoch 1/100\n",
            "25/25 [==============================] - 1s 3ms/step - loss: 0.6920 - accuracy: 0.4938 - lr: 1.0000e-04\n",
            "Epoch 2/100\n",
            "25/25 [==============================] - 0s 5ms/step - loss: 0.6919 - accuracy: 0.4938 - lr: 1.1220e-04\n",
            "Epoch 3/100\n",
            "25/25 [==============================] - 0s 4ms/step - loss: 0.6918 - accuracy: 0.4913 - lr: 1.2589e-04\n",
            "Epoch 4/100\n",
            "25/25 [==============================] - 0s 3ms/step - loss: 0.6917 - accuracy: 0.4950 - lr: 1.4125e-04\n",
            "Epoch 5/100\n",
            "25/25 [==============================] - 0s 3ms/step - loss: 0.6916 - accuracy: 0.4700 - lr: 1.5849e-04\n",
            "Epoch 6/100\n",
            "25/25 [==============================] - 0s 2ms/step - loss: 0.6915 - accuracy: 0.4737 - lr: 1.7783e-04\n",
            "Epoch 7/100\n",
            "25/25 [==============================] - 0s 2ms/step - loss: 0.6914 - accuracy: 0.4588 - lr: 1.9953e-04\n",
            "Epoch 8/100\n",
            "25/25 [==============================] - 0s 1ms/step - loss: 0.6912 - accuracy: 0.5263 - lr: 2.2387e-04\n",
            "Epoch 9/100\n",
            "25/25 [==============================] - 0s 3ms/step - loss: 0.6910 - accuracy: 0.5263 - lr: 2.5119e-04\n",
            "Epoch 10/100\n",
            "25/25 [==============================] - 0s 2ms/step - loss: 0.6908 - accuracy: 0.5425 - lr: 2.8184e-04\n",
            "Epoch 11/100\n",
            "25/25 [==============================] - 0s 3ms/step - loss: 0.6906 - accuracy: 0.5512 - lr: 3.1623e-04\n",
            "Epoch 12/100\n",
            "25/25 [==============================] - 0s 2ms/step - loss: 0.6904 - accuracy: 0.5312 - lr: 3.5481e-04\n",
            "Epoch 13/100\n",
            "25/25 [==============================] - 0s 2ms/step - loss: 0.6902 - accuracy: 0.5238 - lr: 3.9811e-04\n",
            "Epoch 14/100\n",
            "25/25 [==============================] - 0s 3ms/step - loss: 0.6900 - accuracy: 0.5612 - lr: 4.4668e-04\n",
            "Epoch 15/100\n",
            "25/25 [==============================] - 0s 3ms/step - loss: 0.6898 - accuracy: 0.5000 - lr: 5.0119e-04\n",
            "Epoch 16/100\n",
            "25/25 [==============================] - 0s 7ms/step - loss: 0.6895 - accuracy: 0.5013 - lr: 5.6234e-04\n",
            "Epoch 17/100\n",
            "25/25 [==============================] - 0s 7ms/step - loss: 0.6893 - accuracy: 0.5200 - lr: 6.3096e-04\n",
            "Epoch 18/100\n",
            "25/25 [==============================] - 0s 3ms/step - loss: 0.6889 - accuracy: 0.5038 - lr: 7.0795e-04\n",
            "Epoch 19/100\n",
            "25/25 [==============================] - 0s 3ms/step - loss: 0.6886 - accuracy: 0.5100 - lr: 7.9433e-04\n",
            "Epoch 20/100\n",
            "25/25 [==============================] - 0s 4ms/step - loss: 0.6883 - accuracy: 0.5113 - lr: 8.9125e-04\n",
            "Epoch 21/100\n",
            "25/25 [==============================] - 0s 2ms/step - loss: 0.6878 - accuracy: 0.5225 - lr: 0.0010\n",
            "Epoch 22/100\n",
            "25/25 [==============================] - 0s 4ms/step - loss: 0.6874 - accuracy: 0.5325 - lr: 0.0011\n",
            "Epoch 23/100\n",
            "25/25 [==============================] - 0s 5ms/step - loss: 0.6869 - accuracy: 0.5325 - lr: 0.0013\n",
            "Epoch 24/100\n",
            "25/25 [==============================] - 0s 4ms/step - loss: 0.6864 - accuracy: 0.5387 - lr: 0.0014\n",
            "Epoch 25/100\n",
            "25/25 [==============================] - 0s 5ms/step - loss: 0.6858 - accuracy: 0.5437 - lr: 0.0016\n",
            "Epoch 26/100\n",
            "25/25 [==============================] - 0s 3ms/step - loss: 0.6852 - accuracy: 0.5175 - lr: 0.0018\n",
            "Epoch 27/100\n",
            "25/25 [==============================] - 0s 4ms/step - loss: 0.6844 - accuracy: 0.5163 - lr: 0.0020\n",
            "Epoch 28/100\n",
            "25/25 [==============================] - 0s 3ms/step - loss: 0.6834 - accuracy: 0.5312 - lr: 0.0022\n",
            "Epoch 29/100\n",
            "25/25 [==============================] - 0s 3ms/step - loss: 0.6831 - accuracy: 0.5350 - lr: 0.0025\n",
            "Epoch 30/100\n",
            "25/25 [==============================] - 0s 2ms/step - loss: 0.6811 - accuracy: 0.5412 - lr: 0.0028\n",
            "Epoch 31/100\n",
            "25/25 [==============================] - 0s 3ms/step - loss: 0.6796 - accuracy: 0.5537 - lr: 0.0032\n",
            "Epoch 32/100\n",
            "25/25 [==============================] - 0s 6ms/step - loss: 0.6781 - accuracy: 0.5562 - lr: 0.0035\n",
            "Epoch 33/100\n",
            "25/25 [==============================] - 0s 4ms/step - loss: 0.6757 - accuracy: 0.5512 - lr: 0.0040\n",
            "Epoch 34/100\n",
            "25/25 [==============================] - 0s 3ms/step - loss: 0.6726 - accuracy: 0.5775 - lr: 0.0045\n",
            "Epoch 35/100\n",
            "25/25 [==============================] - 0s 4ms/step - loss: 0.6678 - accuracy: 0.6212 - lr: 0.0050\n",
            "Epoch 36/100\n",
            "25/25 [==============================] - 0s 2ms/step - loss: 0.6615 - accuracy: 0.6263 - lr: 0.0056\n",
            "Epoch 37/100\n",
            "25/25 [==============================] - 0s 2ms/step - loss: 0.6530 - accuracy: 0.6538 - lr: 0.0063\n",
            "Epoch 38/100\n",
            "25/25 [==============================] - 0s 2ms/step - loss: 0.6422 - accuracy: 0.6837 - lr: 0.0071\n",
            "Epoch 39/100\n",
            "25/25 [==============================] - 0s 2ms/step - loss: 0.6073 - accuracy: 0.7800 - lr: 0.0079\n",
            "Epoch 40/100\n",
            "25/25 [==============================] - 0s 2ms/step - loss: 0.5746 - accuracy: 0.7713 - lr: 0.0089\n",
            "Epoch 41/100\n",
            "25/25 [==============================] - 0s 2ms/step - loss: 0.5088 - accuracy: 0.8012 - lr: 0.0100\n",
            "Epoch 42/100\n",
            "25/25 [==============================] - 0s 2ms/step - loss: 0.4435 - accuracy: 0.8288 - lr: 0.0112\n",
            "Epoch 43/100\n",
            "25/25 [==============================] - 0s 2ms/step - loss: 0.3715 - accuracy: 0.8950 - lr: 0.0126\n",
            "Epoch 44/100\n",
            "25/25 [==============================] - 0s 2ms/step - loss: 0.3006 - accuracy: 0.9250 - lr: 0.0141\n",
            "Epoch 45/100\n",
            "25/25 [==============================] - 0s 2ms/step - loss: 0.2566 - accuracy: 0.9262 - lr: 0.0158\n",
            "Epoch 46/100\n",
            "25/25 [==============================] - 0s 2ms/step - loss: 0.2193 - accuracy: 0.9337 - lr: 0.0178\n",
            "Epoch 47/100\n",
            "25/25 [==============================] - 0s 3ms/step - loss: 0.1735 - accuracy: 0.9550 - lr: 0.0200\n",
            "Epoch 48/100\n",
            "25/25 [==============================] - 0s 2ms/step - loss: 0.1472 - accuracy: 0.9625 - lr: 0.0224\n",
            "Epoch 49/100\n",
            "25/25 [==============================] - 0s 2ms/step - loss: 0.1651 - accuracy: 0.9450 - lr: 0.0251\n",
            "Epoch 50/100\n",
            "25/25 [==============================] - 0s 1ms/step - loss: 0.1986 - accuracy: 0.9200 - lr: 0.0282\n",
            "Epoch 51/100\n",
            "25/25 [==============================] - 0s 2ms/step - loss: 0.1081 - accuracy: 0.9712 - lr: 0.0316\n",
            "Epoch 52/100\n",
            "25/25 [==============================] - 0s 2ms/step - loss: 0.1117 - accuracy: 0.9650 - lr: 0.0355\n",
            "Epoch 53/100\n",
            "25/25 [==============================] - 0s 3ms/step - loss: 0.1468 - accuracy: 0.9375 - lr: 0.0398\n",
            "Epoch 54/100\n",
            "25/25 [==============================] - 0s 3ms/step - loss: 0.1145 - accuracy: 0.9525 - lr: 0.0447\n",
            "Epoch 55/100\n",
            "25/25 [==============================] - 0s 2ms/step - loss: 0.1331 - accuracy: 0.9500 - lr: 0.0501\n",
            "Epoch 56/100\n",
            "25/25 [==============================] - 0s 5ms/step - loss: 0.1294 - accuracy: 0.9425 - lr: 0.0562\n",
            "Epoch 57/100\n",
            "25/25 [==============================] - 0s 2ms/step - loss: 0.3930 - accuracy: 0.8637 - lr: 0.0631\n",
            "Epoch 58/100\n",
            "25/25 [==============================] - 0s 2ms/step - loss: 0.7232 - accuracy: 0.7362 - lr: 0.0708\n",
            "Epoch 59/100\n",
            "25/25 [==============================] - 0s 3ms/step - loss: 0.3406 - accuracy: 0.8700 - lr: 0.0794\n",
            "Epoch 60/100\n",
            "25/25 [==============================] - 0s 4ms/step - loss: 0.1611 - accuracy: 0.9237 - lr: 0.0891\n",
            "Epoch 61/100\n",
            "25/25 [==============================] - 0s 2ms/step - loss: 0.1218 - accuracy: 0.9500 - lr: 0.1000\n",
            "Epoch 62/100\n",
            "25/25 [==============================] - 0s 3ms/step - loss: 0.1961 - accuracy: 0.9212 - lr: 0.1122\n",
            "Epoch 63/100\n",
            "25/25 [==============================] - 0s 2ms/step - loss: 0.3314 - accuracy: 0.8737 - lr: 0.1259\n",
            "Epoch 64/100\n",
            "25/25 [==============================] - 0s 3ms/step - loss: 0.2767 - accuracy: 0.8925 - lr: 0.1413\n",
            "Epoch 65/100\n",
            "25/25 [==============================] - 0s 3ms/step - loss: 0.2538 - accuracy: 0.8850 - lr: 0.1585\n",
            "Epoch 66/100\n",
            "25/25 [==============================] - 0s 2ms/step - loss: 0.2119 - accuracy: 0.9112 - lr: 0.1778\n",
            "Epoch 67/100\n",
            "25/25 [==============================] - 0s 2ms/step - loss: 0.2344 - accuracy: 0.9062 - lr: 0.1995\n",
            "Epoch 68/100\n",
            "25/25 [==============================] - 0s 2ms/step - loss: 0.2687 - accuracy: 0.8675 - lr: 0.2239\n",
            "Epoch 69/100\n",
            "25/25 [==============================] - 0s 2ms/step - loss: 0.1652 - accuracy: 0.9337 - lr: 0.2512\n",
            "Epoch 70/100\n",
            "25/25 [==============================] - 0s 2ms/step - loss: 0.2478 - accuracy: 0.9187 - lr: 0.2818\n",
            "Epoch 71/100\n",
            "25/25 [==============================] - 0s 3ms/step - loss: 0.3889 - accuracy: 0.8413 - lr: 0.3162\n",
            "Epoch 72/100\n",
            "25/25 [==============================] - 0s 3ms/step - loss: 0.4258 - accuracy: 0.8475 - lr: 0.3548\n",
            "Epoch 73/100\n",
            "25/25 [==============================] - 0s 3ms/step - loss: 0.5010 - accuracy: 0.7788 - lr: 0.3981\n",
            "Epoch 74/100\n",
            "25/25 [==============================] - 0s 2ms/step - loss: 0.6985 - accuracy: 0.5537 - lr: 0.4467\n",
            "Epoch 75/100\n",
            "25/25 [==============================] - 0s 3ms/step - loss: 0.6574 - accuracy: 0.5838 - lr: 0.5012\n",
            "Epoch 76/100\n",
            "25/25 [==============================] - 0s 2ms/step - loss: 0.6270 - accuracy: 0.6175 - lr: 0.5623\n",
            "Epoch 77/100\n",
            "25/25 [==============================] - 0s 2ms/step - loss: 0.4816 - accuracy: 0.7837 - lr: 0.6310\n",
            "Epoch 78/100\n",
            "25/25 [==============================] - 0s 5ms/step - loss: 0.7050 - accuracy: 0.6550 - lr: 0.7079\n",
            "Epoch 79/100\n",
            "25/25 [==============================] - 0s 2ms/step - loss: 0.5354 - accuracy: 0.7425 - lr: 0.7943\n",
            "Epoch 80/100\n",
            "25/25 [==============================] - 0s 2ms/step - loss: 0.6735 - accuracy: 0.5500 - lr: 0.8913\n",
            "Epoch 81/100\n",
            "25/25 [==============================] - 0s 2ms/step - loss: 0.6491 - accuracy: 0.5375 - lr: 1.0000\n",
            "Epoch 82/100\n",
            "25/25 [==============================] - 0s 2ms/step - loss: 0.7163 - accuracy: 0.4825 - lr: 1.1220\n",
            "Epoch 83/100\n",
            "25/25 [==============================] - 0s 2ms/step - loss: 0.7132 - accuracy: 0.5075 - lr: 1.2589\n",
            "Epoch 84/100\n",
            "25/25 [==============================] - 0s 2ms/step - loss: 0.7088 - accuracy: 0.4800 - lr: 1.4125\n",
            "Epoch 85/100\n",
            "25/25 [==============================] - 0s 2ms/step - loss: 0.7153 - accuracy: 0.5025 - lr: 1.5849\n",
            "Epoch 86/100\n",
            "25/25 [==============================] - 0s 2ms/step - loss: 0.7135 - accuracy: 0.5050 - lr: 1.7783\n",
            "Epoch 87/100\n",
            "25/25 [==============================] - 0s 1ms/step - loss: 0.7255 - accuracy: 0.5300 - lr: 1.9953\n",
            "Epoch 88/100\n",
            "25/25 [==============================] - 0s 2ms/step - loss: 0.7441 - accuracy: 0.5200 - lr: 2.2387\n",
            "Epoch 89/100\n",
            "25/25 [==============================] - 0s 2ms/step - loss: 0.7281 - accuracy: 0.4750 - lr: 2.5119\n",
            "Epoch 90/100\n",
            "25/25 [==============================] - 0s 2ms/step - loss: 0.7264 - accuracy: 0.4825 - lr: 2.8184\n",
            "Epoch 91/100\n",
            "25/25 [==============================] - 0s 2ms/step - loss: 0.7239 - accuracy: 0.5150 - lr: 3.1623\n",
            "Epoch 92/100\n",
            "25/25 [==============================] - 0s 2ms/step - loss: 0.7963 - accuracy: 0.4875 - lr: 3.5481\n",
            "Epoch 93/100\n",
            "25/25 [==============================] - 0s 3ms/step - loss: 0.7298 - accuracy: 0.4800 - lr: 3.9811\n",
            "Epoch 94/100\n",
            "25/25 [==============================] - 0s 2ms/step - loss: 0.7642 - accuracy: 0.5225 - lr: 4.4668\n",
            "Epoch 95/100\n",
            "25/25 [==============================] - 0s 3ms/step - loss: 0.8995 - accuracy: 0.4825 - lr: 5.0119\n",
            "Epoch 96/100\n",
            "25/25 [==============================] - 0s 3ms/step - loss: 0.7939 - accuracy: 0.4800 - lr: 5.6234\n",
            "Epoch 97/100\n",
            "25/25 [==============================] - 0s 2ms/step - loss: 0.8504 - accuracy: 0.5175 - lr: 6.3096\n",
            "Epoch 98/100\n",
            "25/25 [==============================] - 0s 2ms/step - loss: 0.7782 - accuracy: 0.4875 - lr: 7.0795\n",
            "Epoch 99/100\n",
            "25/25 [==============================] - 0s 2ms/step - loss: 0.8034 - accuracy: 0.5125 - lr: 7.9433\n",
            "Epoch 100/100\n",
            "25/25 [==============================] - 0s 2ms/step - loss: 0.7909 - accuracy: 0.4850 - lr: 8.9125\n"
          ]
        }
      ]
    },
    {
      "cell_type": "code",
      "source": [
        "pd.DataFrame(history.history).plot()"
      ],
      "metadata": {
        "colab": {
          "base_uri": "https://localhost:8080/",
          "height": 282
        },
        "id": "xl8CPOqs4A1r",
        "outputId": "395138b6-3032-4903-ba37-5b088e42bea1"
      },
      "execution_count": 23,
      "outputs": [
        {
          "output_type": "execute_result",
          "data": {
            "text/plain": [
              "<AxesSubplot:>"
            ]
          },
          "metadata": {},
          "execution_count": 23
        },
        {
          "output_type": "display_data",
          "data": {
            "text/plain": [
              "<Figure size 432x288 with 1 Axes>"
            ],
            "image/png": "[encoded data removed]"
          },
          "metadata": {
            "needs_background": "light"
          }
        }
      ]
    },
    {
      "cell_type": "code",
      "source": [
        "plt.figure(figsize=(10, 7))\n",
        "plt.semilogx(history.history[\"lr\"], history.history[\"loss\"])"
      ],
      "metadata": {
        "colab": {
          "base_uri": "https://localhost:8080/",
          "height": 449
        },
        "id": "H11qyq7C5CkL",
        "outputId": "50ec4b11-b3c2-45af-80f7-e5efc3de7eab"
      },
      "execution_count": 24,
      "outputs": [
        {
          "output_type": "execute_result",
          "data": {
            "text/plain": [
              "[<matplotlib.lines.Line2D at 0x7f958ee1b8e0>]"
            ]
          },
          "metadata": {},
          "execution_count": 24
        },
        {
          "output_type": "display_data",
          "data": {
            "text/plain": [
              "<Figure size 720x504 with 1 Axes>"
            ],
            "image/png": "[encoded data removed]"
          },
          "metadata": {
            "needs_background": "light"
          }
        }
      ]
    },
    {
      "cell_type": "code",
      "source": [
        "tf.random.set_seed(42)\n",
        "\n",
        "model5 = tf.keras.Sequential([\n",
        "    tf.keras.layers.InputLayer(input_shape=(2)),\n",
        "    tf.keras.layers.Dense(4, activation=\"relu\"),\n",
        "    tf.keras.layers.Dense(4, activation=\"relu\"),\n",
        "    tf.keras.layers.Dense(1, activation=\"sigmoid\"),\n",
        "])\n",
        "\n",
        "model5.compile(loss = \"binary_crossentropy\",\n",
        "              optimizer = tf.keras.optimizers.Adam(learning_rate = 0.01),\n",
        "              metrics = [\"accuracy\"])\n",
        "\n",
        "model5.fit(X_train, y_train, epochs = 20)"
      ],
      "metadata": {
        "colab": {
          "base_uri": "https://localhost:8080/"
        },
        "id": "Bj-5ECYT6edh",
        "outputId": "d5251aed-7e1d-4d2c-a679-f434f55db50c"
      },
      "execution_count": 25,
      "outputs": [
        {
          "output_type": "stream",
          "name": "stdout",
          "text": [
            "Epoch 1/20\n",
            "25/25 [==============================] - 1s 5ms/step - loss: 0.7030 - accuracy: 0.4663\n",
            "Epoch 2/20\n",
            "25/25 [==============================] - 0s 4ms/step - loss: 0.6933 - accuracy: 0.5100\n",
            "Epoch 3/20\n",
            "25/25 [==============================] - 0s 3ms/step - loss: 0.6902 - accuracy: 0.5100\n",
            "Epoch 4/20\n",
            "25/25 [==============================] - 0s 4ms/step - loss: 0.6879 - accuracy: 0.5100\n",
            "Epoch 5/20\n",
            "25/25 [==============================] - 0s 3ms/step - loss: 0.6851 - accuracy: 0.5150\n",
            "Epoch 6/20\n",
            "25/25 [==============================] - 0s 2ms/step - loss: 0.6827 - accuracy: 0.5325\n",
            "Epoch 7/20\n",
            "25/25 [==============================] - 0s 3ms/step - loss: 0.6802 - accuracy: 0.5238\n",
            "Epoch 8/20\n",
            "25/25 [==============================] - 0s 4ms/step - loss: 0.6779 - accuracy: 0.5537\n",
            "Epoch 9/20\n",
            "25/25 [==============================] - 0s 3ms/step - loss: 0.6746 - accuracy: 0.5337\n",
            "Epoch 10/20\n",
            "25/25 [==============================] - 0s 3ms/step - loss: 0.6711 - accuracy: 0.5300\n",
            "Epoch 11/20\n",
            "25/25 [==============================] - 0s 3ms/step - loss: 0.6677 - accuracy: 0.5337\n",
            "Epoch 12/20\n",
            "25/25 [==============================] - 0s 3ms/step - loss: 0.6655 - accuracy: 0.5462\n",
            "Epoch 13/20\n",
            "25/25 [==============================] - 0s 4ms/step - loss: 0.6598 - accuracy: 0.5550\n",
            "Epoch 14/20\n",
            "25/25 [==============================] - 0s 3ms/step - loss: 0.6577 - accuracy: 0.5562\n",
            "Epoch 15/20\n",
            "25/25 [==============================] - 0s 3ms/step - loss: 0.6556 - accuracy: 0.5575\n",
            "Epoch 16/20\n",
            "25/25 [==============================] - 0s 4ms/step - loss: 0.6511 - accuracy: 0.5525\n",
            "Epoch 17/20\n",
            "25/25 [==============================] - 0s 4ms/step - loss: 0.6490 - accuracy: 0.5688\n",
            "Epoch 18/20\n",
            "25/25 [==============================] - 0s 3ms/step - loss: 0.6464 - accuracy: 0.5700\n",
            "Epoch 19/20\n",
            "25/25 [==============================] - 0s 2ms/step - loss: 0.6452 - accuracy: 0.5725\n",
            "Epoch 20/20\n",
            "25/25 [==============================] - 0s 2ms/step - loss: 0.6434 - accuracy: 0.5688\n"
          ]
        },
        {
          "output_type": "execute_result",
          "data": {
            "text/plain": [
              "<keras.callbacks.History at 0x7f959c8ca880>"
            ]
          },
          "metadata": {},
          "execution_count": 25
        }
      ]
    },
    {
      "cell_type": "code",
      "source": [
        "loss, accuracy = model5.evaluate(X_test, y_test)"
      ],
      "metadata": {
        "colab": {
          "base_uri": "https://localhost:8080/"
        },
        "id": "Pab9sYle7pVV",
        "outputId": "d1d9eb5a-2d2c-464e-f70a-c2a116bf9388"
      },
      "execution_count": 26,
      "outputs": [
        {
          "output_type": "stream",
          "name": "stdout",
          "text": [
            "7/7 [==============================] - 0s 3ms/step - loss: 0.6489 - accuracy: 0.6150\n"
          ]
        }
      ]
    },
    {
      "cell_type": "code",
      "source": [
        "y_pred = model5.predict(X_test)"
      ],
      "metadata": {
        "colab": {
          "base_uri": "https://localhost:8080/"
        },
        "id": "vfqUApUSIScY",
        "outputId": "20cdf4f5-7654-4d9a-a8f1-da574bdd1248"
      },
      "execution_count": 27,
      "outputs": [
        {
          "output_type": "stream",
          "name": "stdout",
          "text": [
            "7/7 [==============================] - 0s 2ms/step\n"
          ]
        }
      ]
    },
    {
      "cell_type": "code",
      "source": [
        "from sklearn.metrics import confusion_matrix\n",
        "\n",
        "# confusion_matrix(y_test, y_pred)"
      ],
      "metadata": {
        "id": "lzKD-P2hIU-U"
      },
      "execution_count": 28,
      "outputs": []
    },
    {
      "cell_type": "code",
      "source": [],
      "metadata": {
        "id": "aSWWfmQ5I3Tl"
      },
      "execution_count": 28,
      "outputs": []
    },
    {
      "cell_type": "code",
      "source": [
        "y_pred = tf.round(y_pred)"
      ],
      "metadata": {
        "id": "ZDRl_E3iI6_3"
      },
      "execution_count": 29,
      "outputs": []
    },
    {
      "cell_type": "code",
      "source": [
        "confusion_matrix(y_test, y_pred)"
      ],
      "metadata": {
        "colab": {
          "base_uri": "https://localhost:8080/"
        },
        "id": "rvfHOnoHJn5A",
        "outputId": "5700e32c-b0f8-4550-b0a5-ab74304cde72"
      },
      "execution_count": 30,
      "outputs": [
        {
          "output_type": "execute_result",
          "data": {
            "text/plain": [
              "array([[ 18,  74],\n",
              "       [  3, 105]])"
            ]
          },
          "metadata": {},
          "execution_count": 30
        }
      ]
    },
    {
      "cell_type": "code",
      "source": [
        "from sklearn.metrics._plot.confusion_matrix import ConfusionMatrixDisplay\n",
        "figsize = (10, 10)\n",
        "\n",
        "cm = confusion_matrix(y_test, y_pred, normalize = \"true\")\n",
        "cm_display = ConfusionMatrixDisplay(cm).plot()"
      ],
      "metadata": {
        "colab": {
          "base_uri": "https://localhost:8080/",
          "height": 279
        },
        "id": "Ji_r7jsVKtL_",
        "outputId": "a8783864-d81b-4001-95bf-8d5cfa6e60c1"
      },
      "execution_count": 31,
      "outputs": [
        {
          "output_type": "display_data",
          "data": {
            "text/plain": [
              "<Figure size 432x288 with 2 Axes>"
            ],
            "image/png": "[encoded data removed]"
          },
          "metadata": {
            "needs_background": "light"
          }
        }
      ]
    },
    {
      "cell_type": "code",
      "source": [
        "from tensorflow.keras.datasets import fashion_mnist"
      ],
      "metadata": {
        "id": "qeKccHE1LI7f"
      },
      "execution_count": 32,
      "outputs": []
    },
    {
      "cell_type": "code",
      "source": [
        "(X_train, y_train), (X_test, y_test) = fashion_mnist.load_data()"
      ],
      "metadata": {
        "colab": {
          "base_uri": "https://localhost:8080/"
        },
        "id": "SoPp2QBykJ6X",
        "outputId": "92bfacfb-0992-49b6-ed05-d305a1c2b290"
      },
      "execution_count": 33,
      "outputs": [
        {
          "output_type": "stream",
          "name": "stdout",
          "text": [
            "Downloading data from https://storage.googleapis.com/tensorflow/tf-keras-datasets/train-labels-idx1-ubyte.gz\n",
            "29515/29515 [==============================] - 0s 0us/step\n",
            "Downloading data from https://storage.googleapis.com/tensorflow/tf-keras-datasets/train-images-idx3-ubyte.gz\n",
            "26421880/26421880 [==============================] - 0s 0us/step\n",
            "Downloading data from https://storage.googleapis.com/tensorflow/tf-keras-datasets/t10k-labels-idx1-ubyte.gz\n",
            "5148/5148 [==============================] - 0s 0us/step\n",
            "Downloading data from https://storage.googleapis.com/tensorflow/tf-keras-datasets/t10k-images-idx3-ubyte.gz\n",
            "4422102/4422102 [==============================] - 0s 0us/step\n"
          ]
        }
      ]
    },
    {
      "cell_type": "code",
      "source": [
        "plt.imshow(X_train[5])"
      ],
      "metadata": {
        "colab": {
          "base_uri": "https://localhost:8080/",
          "height": 282
        },
        "id": "C1IiNeaekmBf",
        "outputId": "a7caecfb-5129-4984-b1a2-99ba23d5896c"
      },
      "execution_count": 34,
      "outputs": [
        {
          "output_type": "execute_result",
          "data": {
            "text/plain": [
              "<matplotlib.image.AxesImage at 0x7f958f66e580>"
            ]
          },
          "metadata": {},
          "execution_count": 34
        },
        {
          "output_type": "display_data",
          "data": {
            "text/plain": [
              "<Figure size 432x288 with 1 Axes>"
            ],
            "image/png": "[encoded data removed]"
          },
          "metadata": {
            "needs_background": "light"
          }
        }
      ]
    },
    {
      "cell_type": "code",
      "source": [
        "X_train.shape, y_train.shape"
      ],
      "metadata": {
        "colab": {
          "base_uri": "https://localhost:8080/"
        },
        "id": "8Ek48yG4n-lb",
        "outputId": "89d3e4e7-15e5-4487-fd82-1125c4246c10"
      },
      "execution_count": 35,
      "outputs": [
        {
          "output_type": "execute_result",
          "data": {
            "text/plain": [
              "((60000, 28, 28), (60000,))"
            ]
          },
          "metadata": {},
          "execution_count": 35
        }
      ]
    },
    {
      "cell_type": "code",
      "source": [
        "y[0]"
      ],
      "metadata": {
        "colab": {
          "base_uri": "https://localhost:8080/"
        },
        "id": "vdoUWxQOpdXe",
        "outputId": "3bf72c03-3e56-4473-e546-4ca67a7c3b83"
      },
      "execution_count": 36,
      "outputs": [
        {
          "output_type": "execute_result",
          "data": {
            "text/plain": [
              "1"
            ]
          },
          "metadata": {},
          "execution_count": 36
        }
      ]
    },
    {
      "cell_type": "code",
      "source": [
        "class_names = [\"T-shirt/top\", \"Trouser\", \"Pullover\", \"Dress\", \"Coat\", \"Sandal\", \"Shirt\", \"Sneaker\", \"Bag\", \"Ankle boot\"]"
      ],
      "metadata": {
        "id": "1SYea3UXkvYo"
      },
      "execution_count": 37,
      "outputs": []
    },
    {
      "cell_type": "code",
      "source": [
        "tf.random.set_seed(42)\n",
        "multiclass_model = tf.keras.Sequential([\n",
        "    \n",
        "    # tf.keras.layers.InputLayer(input_shape=(28, 28)),\n",
        "    tf.keras.layers.Flatten(input_shape=(28, 28)),\n",
        "    tf.keras.layers.Dense(10, activation=\"relu\"),\n",
        "    tf.keras.layers.Dense(10, activation=tf.keras.activations.softmax)\n",
        "])\n",
        "\n",
        "multiclass_model.compile(loss = tf.keras.losses.CategoricalCrossentropy(),\n",
        "                         optimizer = tf.keras.optimizers.Adam(),\n",
        "                         metrics = [\"accuracy\"])\n",
        "\n",
        "history = multiclass_model.fit(X_train, tf.one_hot(y_train, depth=10), epochs=10, validation_data=(X_test, tf.one_hot(y_test, depth=10)))"
      ],
      "metadata": {
        "colab": {
          "base_uri": "https://localhost:8080/"
        },
        "id": "cuYT7i4Nmb0L",
        "outputId": "005d756f-6515-45b7-c96b-3b3c34704246"
      },
      "execution_count": 38,
      "outputs": [
        {
          "output_type": "stream",
          "name": "stdout",
          "text": [
            "Epoch 1/10\n",
            "1875/1875 [==============================] - 6s 3ms/step - loss: 2.4312 - accuracy: 0.1288 - val_loss: 2.0645 - val_accuracy: 0.1899\n",
            "Epoch 2/10\n",
            "1875/1875 [==============================] - 3s 2ms/step - loss: 1.8560 - accuracy: 0.2352 - val_loss: 1.7445 - val_accuracy: 0.2961\n",
            "Epoch 3/10\n",
            "1875/1875 [==============================] - 3s 1ms/step - loss: 1.6595 - accuracy: 0.3128 - val_loss: 1.6215 - val_accuracy: 0.3369\n",
            "Epoch 4/10\n",
            "1875/1875 [==============================] - 3s 1ms/step - loss: 1.5989 - accuracy: 0.3365 - val_loss: 1.5856 - val_accuracy: 0.3557\n",
            "Epoch 5/10\n",
            "1875/1875 [==============================] - 3s 1ms/step - loss: 1.5686 - accuracy: 0.3440 - val_loss: 1.5568 - val_accuracy: 0.3570\n",
            "Epoch 6/10\n",
            "1875/1875 [==============================] - 3s 2ms/step - loss: 1.5469 - accuracy: 0.3493 - val_loss: 1.5476 - val_accuracy: 0.3512\n",
            "Epoch 7/10\n",
            "1875/1875 [==============================] - 3s 1ms/step - loss: 1.5289 - accuracy: 0.3547 - val_loss: 1.5441 - val_accuracy: 0.3556\n",
            "Epoch 8/10\n",
            "1875/1875 [==============================] - 3s 1ms/step - loss: 1.5263 - accuracy: 0.3544 - val_loss: 1.5549 - val_accuracy: 0.3424\n",
            "Epoch 9/10\n",
            "1875/1875 [==============================] - 3s 1ms/step - loss: 1.5170 - accuracy: 0.3559 - val_loss: 1.5109 - val_accuracy: 0.3653\n",
            "Epoch 10/10\n",
            "1875/1875 [==============================] - 3s 2ms/step - loss: 1.5013 - accuracy: 0.3619 - val_loss: 1.4966 - val_accuracy: 0.3685\n"
          ]
        }
      ]
    },
    {
      "cell_type": "code",
      "source": [
        "X_train = X_train/(X_train.max() - X_train.min())\n",
        "X_test = X_test/255"
      ],
      "metadata": {
        "id": "tYQpp9Vgn3Ui"
      },
      "execution_count": 39,
      "outputs": []
    },
    {
      "cell_type": "code",
      "source": [
        "tf.random.set_seed(42)\n",
        "multiclass_model2 = tf.keras.Sequential([\n",
        "    tf.keras.layers.Flatten(input_shape=(28, 28)),\n",
        "    tf.keras.layers.Dense(10, activation=\"relu\"),\n",
        "    tf.keras.layers.Dense(10, activation = tf.keras.activations.softmax),\n",
        "])\n",
        "\n",
        "multiclass_model2.compile(loss = tf.keras.losses.CategoricalCrossentropy(),\n",
        "                          optimizer = tf.keras.optimizers.Adam(),\n",
        "                          metrics = [\"accuracy\"])\n",
        "\n",
        "history2 = multiclass_model2.fit(X_train, tf.one_hot(y_train, depth=10), epochs=10, validation_data=(X_test, tf.one_hot(y_test, depth=10)))"
      ],
      "metadata": {
        "colab": {
          "base_uri": "https://localhost:8080/"
        },
        "id": "vACj6NoltF1b",
        "outputId": "3a431bee-0061-44f9-a443-ffed8fceec8b"
      },
      "execution_count": 40,
      "outputs": [
        {
          "output_type": "stream",
          "name": "stdout",
          "text": [
            "Epoch 1/10\n",
            "1875/1875 [==============================] - 3s 1ms/step - loss: 0.6875 - accuracy: 0.7652 - val_loss: 0.5257 - val_accuracy: 0.8194\n",
            "Epoch 2/10\n",
            "1875/1875 [==============================] - 3s 1ms/step - loss: 0.4761 - accuracy: 0.8342 - val_loss: 0.5244 - val_accuracy: 0.8202\n",
            "Epoch 3/10\n",
            "1875/1875 [==============================] - 3s 1ms/step - loss: 0.4493 - accuracy: 0.8432 - val_loss: 0.4871 - val_accuracy: 0.8253\n",
            "Epoch 4/10\n",
            "1875/1875 [==============================] - 3s 2ms/step - loss: 0.4333 - accuracy: 0.8477 - val_loss: 0.4702 - val_accuracy: 0.8320\n",
            "Epoch 5/10\n",
            "1875/1875 [==============================] - 3s 1ms/step - loss: 0.4250 - accuracy: 0.8503 - val_loss: 0.4863 - val_accuracy: 0.8273\n",
            "Epoch 6/10\n",
            "1875/1875 [==============================] - 3s 1ms/step - loss: 0.4163 - accuracy: 0.8533 - val_loss: 0.4719 - val_accuracy: 0.8335\n",
            "Epoch 7/10\n",
            "1875/1875 [==============================] - 3s 1ms/step - loss: 0.4108 - accuracy: 0.8556 - val_loss: 0.4706 - val_accuracy: 0.8319\n",
            "Epoch 8/10\n",
            "1875/1875 [==============================] - 3s 1ms/step - loss: 0.4046 - accuracy: 0.8580 - val_loss: 0.4506 - val_accuracy: 0.8400\n",
            "Epoch 9/10\n",
            "1875/1875 [==============================] - 3s 2ms/step - loss: 0.4003 - accuracy: 0.8597 - val_loss: 0.4437 - val_accuracy: 0.8439\n",
            "Epoch 10/10\n",
            "1875/1875 [==============================] - 3s 1ms/step - loss: 0.3990 - accuracy: 0.8590 - val_loss: 0.4519 - val_accuracy: 0.8423\n"
          ]
        }
      ]
    },
    {
      "cell_type": "code",
      "source": [
        "pd.DataFrame(history.history).plot(title=\"not normalized\")\n",
        "pd.DataFrame(history2.history).plot(title=\"normalized\")"
      ],
      "metadata": {
        "colab": {
          "base_uri": "https://localhost:8080/",
          "height": 562
        },
        "id": "9xEHD2Mvu75-",
        "outputId": "ad53dad6-a55e-4519-d546-0f0f0f59845b"
      },
      "execution_count": 41,
      "outputs": [
        {
          "output_type": "execute_result",
          "data": {
            "text/plain": [
              "<AxesSubplot:title={'center':'normalized'}>"
            ]
          },
          "metadata": {},
          "execution_count": 41
        },
        {
          "output_type": "display_data",
          "data": {
            "text/plain": [
              "<Figure size 432x288 with 1 Axes>"
            ],
            "image/png": "[encoded data removed]"
          },
          "metadata": {
            "needs_background": "light"
          }
        },
        {
          "output_type": "display_data",
          "data": {
            "text/plain": [
              "<Figure size 432x288 with 1 Axes>"
            ],
            "image/png": "[encoded data removed]"
          },
          "metadata": {
            "needs_background": "light"
          }
        }
      ]
    },
    {
      "cell_type": "code",
      "source": [
        "multiclass_model3 = tf.keras.Sequential([\n",
        "    tf.keras.layers.Flatten(input_shape=(28, 28)),\n",
        "    tf.keras.layers.Dense(10, activation=\"relu\"),\n",
        "    tf.keras.layers.Dense(10, activation=tf.keras.activations.softmax)\n",
        "])\n",
        "\n",
        "multiclass_model3.compile(loss = tf.keras.losses.CategoricalCrossentropy(),\n",
        "                          optimizer = tf.keras.optimizers.Adam(),\n",
        "                          metrics = [\"accuracy\"])\n",
        "\n",
        "lr_scheduler = tf.keras.callbacks.LearningRateScheduler(lambda epoch: 0.001 * (10 ** (epoch/20)))\n",
        "\n",
        "history3 = multiclass_model3.fit(X_train, tf.one_hot(y_train, depth = 10), epochs=40, callbacks=[lr_scheduler], validation_data = (X_test, tf.one_hot(y_test, depth = 10)))\n"
      ],
      "metadata": {
        "id": "AEiH1glevV49"
      },
      "execution_count": null,
      "outputs": []
    },
    {
      "cell_type": "code",
      "source": [
        "plt.semilogx(pd.DataFrame(history3.history)[\"lr\"], pd.DataFrame(history3.history)[\"loss\"])"
      ],
      "metadata": {
        "colab": {
          "base_uri": "https://localhost:8080/",
          "height": 286
        },
        "id": "4cKsl-Njzg_x",
        "outputId": "1cab63c3-fe18-48ef-8d0f-4ded38ce1a40"
      },
      "execution_count": 52,
      "outputs": [
        {
          "output_type": "execute_result",
          "data": {
            "text/plain": [
              "[<matplotlib.lines.Line2D at 0x7f958f23c4c0>]"
            ]
          },
          "metadata": {},
          "execution_count": 52
        },
        {
          "output_type": "display_data",
          "data": {
            "text/plain": [
              "<Figure size 432x288 with 1 Axes>"
            ],
            "image/png": "[encoded data removed]"
          },
          "metadata": {
            "needs_background": "light"
          }
        }
      ]
    },
    {
      "cell_type": "code",
      "source": [
        "from sklearn.metrics import ConfusionMatrixDisplay, confusion_matrix"
      ],
      "metadata": {
        "id": "AUbJydf_0lL4"
      },
      "execution_count": 54,
      "outputs": []
    },
    {
      "cell_type": "code",
      "source": [
        "y_pred = multiclass_model2.predict(X_test)\n",
        "y_pred[:5]"
      ],
      "metadata": {
        "id": "85HKP2qDwUa-"
      },
      "execution_count": null,
      "outputs": []
    },
    {
      "cell_type": "code",
      "source": [
        "y_pred = y_pred.argmax(axis = 1)"
      ],
      "metadata": {
        "id": "FG8DmIlnwmRv"
      },
      "execution_count": 61,
      "outputs": []
    },
    {
      "cell_type": "code",
      "source": [
        "cm = confusion_matrix(y_test, y_pred, normalize=\"true\")"
      ],
      "metadata": {
        "id": "TCaQoUCIx4d9"
      },
      "execution_count": 65,
      "outputs": []
    },
    {
      "cell_type": "code",
      "source": [
        "plt.figure(figsize=(10,10))\n",
        "cm_display = ConfusionMatrixDisplay(confusion_matrix=cm, display_labels = class_names).plot()"
      ],
      "metadata": {
        "colab": {
          "base_uri": "https://localhost:8080/",
          "height": 296
        },
        "id": "qydE4ArIyDqD",
        "outputId": "feada6ef-8bc2-49cf-ebde-ac4ecd145455"
      },
      "execution_count": 71,
      "outputs": [
        {
          "output_type": "display_data",
          "data": {
            "text/plain": [
              "<Figure size 720x720 with 0 Axes>"
            ]
          },
          "metadata": {}
        },
        {
          "output_type": "display_data",
          "data": {
            "text/plain": [
              "<Figure size 432x288 with 2 Axes>"
            ],
            "image/png": "[encoded data removed]"
          },
          "metadata": {
            "needs_background": "light"
          }
        }
      ]
    },
    {
      "cell_type": "code",
      "source": [
        "fig, ax = plt.subplots(figsize=(10,10))\n",
        "cm_display.plot(ax=ax)\n"
      ],
      "metadata": {
        "colab": {
          "base_uri": "https://localhost:8080/",
          "height": 597
        },
        "id": "ZQt5HgS3yT6h",
        "outputId": "c6d9f1bc-43cc-4bea-9e98-9aed6c12d39c"
      },
      "execution_count": 75,
      "outputs": [
        {
          "output_type": "execute_result",
          "data": {
            "text/plain": [
              "<sklearn.metrics._plot.confusion_matrix.ConfusionMatrixDisplay at 0x7f95880fdbe0>"
            ]
          },
          "metadata": {},
          "execution_count": 75
        },
        {
          "output_type": "display_data",
          "data": {
            "text/plain": [
              "<Figure size 720x720 with 2 Axes>"
            ],
            "image/png": "[encoded data removed]"
          },
          "metadata": {
            "needs_background": "light"
          }
        }
      ]
    },
    {
      "cell_type": "code",
      "source": [
        "weights, biases = multiclass_model2.layers[1].get_weights()"
      ],
      "metadata": {
        "id": "pj9Q9X570oRl"
      },
      "execution_count": 77,
      "outputs": []
    },
    {
      "cell_type": "code",
      "source": [
        "weights[0], weights.shape"
      ],
      "metadata": {
        "colab": {
          "base_uri": "https://localhost:8080/"
        },
        "id": "4nYZ4sM56r35",
        "outputId": "92291e3c-411f-41c8-9052-914ccfff980c"
      },
      "execution_count": 78,
      "outputs": [
        {
          "output_type": "execute_result",
          "data": {
            "text/plain": [
              "(array([ 0.2316686 , -0.5051704 , -0.39720434, -0.00346759, -0.06170655,\n",
              "        -0.2280829 , -0.0633928 ,  0.33269632, -0.05828167,  0.332309  ],\n",
              "       dtype=float32), (784, 10))"
            ]
          },
          "metadata": {},
          "execution_count": 78
        }
      ]
    },
    {
      "cell_type": "code",
      "source": [
        "biases.shape"
      ],
      "metadata": {
        "colab": {
          "base_uri": "https://localhost:8080/"
        },
        "id": "C8aFPP9P6xv9",
        "outputId": "679a3404-c4cc-485b-f958-4c67f0ebb61c"
      },
      "execution_count": 79,
      "outputs": [
        {
          "output_type": "execute_result",
          "data": {
            "text/plain": [
              "(10,)"
            ]
          },
          "metadata": {},
          "execution_count": 79
        }
      ]
    },
    {
      "cell_type": "code",
      "source": [],
      "metadata": {
        "id": "gR-Nd3i07Jhl"
      },
      "execution_count": null,
      "outputs": []
    }
  ]
}