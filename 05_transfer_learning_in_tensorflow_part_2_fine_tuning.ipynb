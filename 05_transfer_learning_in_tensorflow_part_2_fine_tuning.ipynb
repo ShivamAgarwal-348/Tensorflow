{
  "nbformat": 4,
  "nbformat_minor": 0,
  "metadata": {
    "colab": {
      "provenance": []
    },
    "kernelspec": {
      "name": "python3",
      "display_name": "Python 3"
    },
    "language_info": {
      "name": "python"
    },
    "gpuClass": "standard",
    "accelerator": "GPU"
  },
  "cells": [
    {
      "cell_type": "code",
      "execution_count": 1,
      "metadata": {
        "id": "ljf0iCrZVutx"
      },
      "outputs": [],
      "source": [
        "import tensorflow as tf\n",
        "import pandas as pd\n",
        "import numpy as np\n",
        "import matplotlib.pyplot as plt\n",
        "import zipfile\n",
        "import os\n",
        "import pathlib\n",
        "import matplotlib.image as mpimg\n",
        "import random\n",
        "from tensorflow.keras.preprocessing.image import ImageDataGenerator\n",
        "from tensorflow.keras.optimizers import Adam\n",
        "from tensorflow.keras.losses import binary_crossentropy, categorical_crossentropy\n",
        "from tensorflow.keras.layers import Dense, Flatten, Conv2D, MaxPool2D, Input\n",
        "from tensorflow.keras.utils import image_dataset_from_directory\n",
        "from tensorflow.keras import Sequential\n",
        "import datetime\n",
        "import tensorflow_hub as hub"
      ]
    },
    {
      "cell_type": "code",
      "source": [
        "!wget https://raw.githubusercontent.com/mrdbourke/tensorflow-deep-learning/main/extras/helper_functions.py \n",
        "\n",
        "from helper_functions import create_tensorboard_callback, plot_loss_curves, unzip_data, walk_through_dir"
      ],
      "metadata": {
        "colab": {
          "base_uri": "https://localhost:8080/"
        },
        "id": "oAteMUy9dbGN",
        "outputId": "f7357da5-401b-49f9-810c-8d3922aaec14"
      },
      "execution_count": 2,
      "outputs": [
        {
          "output_type": "stream",
          "name": "stdout",
          "text": [
            "--2023-04-01 00:34:18--  https://raw.githubusercontent.com/mrdbourke/tensorflow-deep-learning/main/extras/helper_functions.py\n",
            "Resolving raw.githubusercontent.com (raw.githubusercontent.com)... 185.199.108.133, 185.199.109.133, 185.199.110.133, ...\n",
            "Connecting to raw.githubusercontent.com (raw.githubusercontent.com)|185.199.108.133|:443... connected.\n",
            "HTTP request sent, awaiting response... 200 OK\n",
            "Length: 10246 (10K) [text/plain]\n",
            "Saving to: ‘helper_functions.py’\n",
            "\n",
            "\rhelper_functions.py   0%[                    ]       0  --.-KB/s               \rhelper_functions.py 100%[===================>]  10.01K  --.-KB/s    in 0s      \n",
            "\n",
            "2023-04-01 00:34:18 (57.5 MB/s) - ‘helper_functions.py’ saved [10246/10246]\n",
            "\n"
          ]
        }
      ]
    },
    {
      "cell_type": "code",
      "source": [
        "!wget https://storage.googleapis.com/ztm_tf_course/food_vision/10_food_classes_10_percent.zip"
      ],
      "metadata": {
        "colab": {
          "base_uri": "https://localhost:8080/"
        },
        "id": "CmtENlKVddjS",
        "outputId": "0802d9fd-dc92-424e-ed25-76c50e720b52"
      },
      "execution_count": 3,
      "outputs": [
        {
          "output_type": "stream",
          "name": "stdout",
          "text": [
            "--2023-04-01 00:34:19--  https://storage.googleapis.com/ztm_tf_course/food_vision/10_food_classes_10_percent.zip\n",
            "Resolving storage.googleapis.com (storage.googleapis.com)... 173.194.202.128, 173.194.203.128, 74.125.20.128, ...\n",
            "Connecting to storage.googleapis.com (storage.googleapis.com)|173.194.202.128|:443... connected.\n",
            "HTTP request sent, awaiting response... 200 OK\n",
            "Length: 168546183 (161M) [application/zip]\n",
            "Saving to: ‘10_food_classes_10_percent.zip’\n",
            "\n",
            "10_food_classes_10_ 100%[===================>] 160.74M   102MB/s    in 1.6s    \n",
            "\n",
            "2023-04-01 00:34:21 (102 MB/s) - ‘10_food_classes_10_percent.zip’ saved [168546183/168546183]\n",
            "\n"
          ]
        }
      ]
    },
    {
      "cell_type": "code",
      "source": [
        "unzip_data(\"/content/10_food_classes_10_percent.zip\")"
      ],
      "metadata": {
        "id": "x9MKOX8LeEhs"
      },
      "execution_count": 4,
      "outputs": []
    },
    {
      "cell_type": "code",
      "source": [
        "train_dir = \"/content/10_food_classes_10_percent/train\"\n",
        "test_dir = \"/content/10_food_classes_10_percent/test\""
      ],
      "metadata": {
        "id": "RcyAQfP0eMG0"
      },
      "execution_count": 5,
      "outputs": []
    },
    {
      "cell_type": "code",
      "source": [
        "IMAGE_SIZE = (224, 224)\n",
        "INPUT_SHAPE = (224, 224, 3)"
      ],
      "metadata": {
        "id": "U8YxBMNxeXVo"
      },
      "execution_count": 6,
      "outputs": []
    },
    {
      "cell_type": "code",
      "source": [
        "train_data_10percent = image_dataset_from_directory(train_dir,\n",
        "                                                    image_size = IMAGE_SIZE,\n",
        "                                                    batch_size = 32,\n",
        "                                                    label_mode = \"categorical\")\n",
        "\n",
        "test_data_10percent = image_dataset_from_directory(test_dir,\n",
        "                                          image_size = IMAGE_SIZE,\n",
        "                                          batch_size = 32,\n",
        "                                          label_mode = \"categorical\")"
      ],
      "metadata": {
        "colab": {
          "base_uri": "https://localhost:8080/"
        },
        "id": "t7oNxtokfrk9",
        "outputId": "090cc4f9-3505-4def-d347-54725ecee50c"
      },
      "execution_count": 7,
      "outputs": [
        {
          "output_type": "stream",
          "name": "stdout",
          "text": [
            "Found 750 files belonging to 10 classes.\n",
            "Found 2500 files belonging to 10 classes.\n"
          ]
        }
      ]
    },
    {
      "cell_type": "code",
      "source": [
        "train_data_10percent"
      ],
      "metadata": {
        "colab": {
          "base_uri": "https://localhost:8080/"
        },
        "id": "cdJiJAztgPjC",
        "outputId": "93eaa395-b9ff-4d40-905a-da992d3f16e6"
      },
      "execution_count": 8,
      "outputs": [
        {
          "output_type": "execute_result",
          "data": {
            "text/plain": [
              "<_BatchDataset element_spec=(TensorSpec(shape=(None, 224, 224, 3), dtype=tf.float32, name=None), TensorSpec(shape=(None, 10), dtype=tf.float32, name=None))>"
            ]
          },
          "metadata": {},
          "execution_count": 8
        }
      ]
    },
    {
      "cell_type": "code",
      "source": [
        "train_data_10percent.class_names"
      ],
      "metadata": {
        "colab": {
          "base_uri": "https://localhost:8080/"
        },
        "id": "ek9WL6pjoeVN",
        "outputId": "dfc904c4-a29b-4db3-befd-5c5ffb4c45ea"
      },
      "execution_count": 9,
      "outputs": [
        {
          "output_type": "execute_result",
          "data": {
            "text/plain": [
              "['chicken_curry',\n",
              " 'chicken_wings',\n",
              " 'fried_rice',\n",
              " 'grilled_salmon',\n",
              " 'hamburger',\n",
              " 'ice_cream',\n",
              " 'pizza',\n",
              " 'ramen',\n",
              " 'steak',\n",
              " 'sushi']"
            ]
          },
          "metadata": {},
          "execution_count": 9
        }
      ]
    },
    {
      "cell_type": "code",
      "source": [
        "for images, labels in train_data_10percent.take(1):\n",
        "  print(images, labels)"
      ],
      "metadata": {
        "id": "OkQ-UEuRop_M",
        "colab": {
          "base_uri": "https://localhost:8080/"
        },
        "outputId": "2bd7bc25-5641-49b2-da44-cd9cdea4e81d"
      },
      "execution_count": 10,
      "outputs": [
        {
          "output_type": "stream",
          "name": "stdout",
          "text": [
            "tf.Tensor(\n",
            "[[[[2.49489807e+02 1.88102051e+02 1.05357140e+02]\n",
            "   [2.37173462e+02 1.73979599e+02 8.71734695e+01]\n",
            "   [2.39505096e+02 1.72637756e+02 8.26530609e+01]\n",
            "   ...\n",
            "   [1.36147781e+02 1.00933510e+02 1.04504982e+02]\n",
            "   [1.45275543e+02 1.14418434e+02 1.19346992e+02]\n",
            "   [1.41147125e+02 1.13320641e+02 1.18320641e+02]]\n",
            "\n",
            "  [[2.43056122e+02 1.77173462e+02 9.05816269e+01]\n",
            "   [2.45020416e+02 1.78168365e+02 8.94438782e+01]\n",
            "   [2.42061234e+02 1.70775513e+02 7.84336700e+01]\n",
            "   ...\n",
            "   [1.56719177e+02 1.19877434e+02 1.20203941e+02]\n",
            "   [1.29352051e+02 9.76326904e+01 9.87704544e+01]\n",
            "   [1.43193665e+02 1.13265099e+02 1.15407959e+02]]\n",
            "\n",
            "  [[2.53653061e+02 1.87081635e+02 9.80969391e+01]\n",
            "   [2.48984695e+02 1.82015305e+02 9.11428528e+01]\n",
            "   [2.37739792e+02 1.67336731e+02 7.46173477e+01]\n",
            "   ...\n",
            "   [1.25872444e+02 8.37245407e+01 8.16786041e+01]\n",
            "   [1.61219421e+02 1.22933723e+02 1.21790878e+02]\n",
            "   [1.34117096e+02 9.76885300e+01 9.74742432e+01]]\n",
            "\n",
            "  ...\n",
            "\n",
            "  [[1.48280624e+02 1.33280624e+02 1.28280624e+02]\n",
            "   [1.48413223e+02 1.33413223e+02 1.28413223e+02]\n",
            "   [1.51596924e+02 1.36596924e+02 1.31596924e+02]\n",
            "   ...\n",
            "   [3.56173820e+01 3.28316460e+01 4.38316460e+01]\n",
            "   [3.69846916e+01 3.39846916e+01 4.49846916e+01]\n",
            "   [3.67857361e+01 3.37857361e+01 4.47857361e+01]]\n",
            "\n",
            "  [[1.43403015e+02 1.28403015e+02 1.23403023e+02]\n",
            "   [1.46852051e+02 1.31852051e+02 1.26852043e+02]\n",
            "   [1.49928558e+02 1.34928558e+02 1.29928558e+02]\n",
            "   ...\n",
            "   [3.66429138e+01 3.38571777e+01 4.48571777e+01]\n",
            "   [3.81377792e+01 3.51377792e+01 4.61377792e+01]\n",
            "   [3.86428223e+01 3.56428223e+01 4.66428223e+01]]\n",
            "\n",
            "  [[1.39183670e+02 1.24183662e+02 1.19183662e+02]\n",
            "   [1.43142792e+02 1.28142792e+02 1.23142792e+02]\n",
            "   [1.49010178e+02 1.34010178e+02 1.29010178e+02]\n",
            "   ...\n",
            "   [3.86480026e+01 3.58622665e+01 4.68622665e+01]\n",
            "   [3.90000000e+01 3.60000000e+01 4.70000000e+01]\n",
            "   [3.80000000e+01 3.50000000e+01 4.60000000e+01]]]\n",
            "\n",
            "\n",
            " [[[1.93571434e+01 2.53571434e+01 2.53571434e+01]\n",
            "   [1.93571434e+01 2.53571434e+01 2.53571434e+01]\n",
            "   [1.93571434e+01 2.53571434e+01 2.53571434e+01]\n",
            "   ...\n",
            "   [8.21377335e+01 9.51479263e+01 1.06642830e+02]\n",
            "   [7.62397232e+01 8.82397232e+01 1.00239723e+02]\n",
            "   [7.75714188e+01 8.88571320e+01 1.00857132e+02]]\n",
            "\n",
            "  [[1.95255108e+01 2.85255108e+01 2.75255108e+01]\n",
            "   [1.89285717e+01 2.79285717e+01 2.69285717e+01]\n",
            "   [1.89285717e+01 2.79285717e+01 2.69285717e+01]\n",
            "   ...\n",
            "   [9.63877258e+01 1.14214256e+02 1.28142822e+02]\n",
            "   [9.05713806e+01 1.08285667e+02 1.22214233e+02]\n",
            "   [9.00918350e+01 1.07806122e+02 1.20540825e+02]]\n",
            "\n",
            "  [[1.82908154e+01 2.72908154e+01 2.62908154e+01]\n",
            "   [1.77295914e+01 2.67295914e+01 2.57295914e+01]\n",
            "   [1.63826542e+01 2.53826542e+01 2.43826542e+01]\n",
            "   ...\n",
            "   [1.06806107e+02 1.30571411e+02 1.48831619e+02]\n",
            "   [1.07428604e+02 1.31056168e+02 1.47428574e+02]\n",
            "   [1.07790825e+02 1.31433685e+02 1.47647964e+02]]\n",
            "\n",
            "  ...\n",
            "\n",
            "  [[1.52571472e+02 1.82132645e+02 2.03637756e+02]\n",
            "   [1.56158249e+02 1.84801041e+02 2.06586777e+02]\n",
            "   [1.55122482e+02 1.83765274e+02 2.05551010e+02]\n",
            "   ...\n",
            "   [1.46617294e+02 1.67617294e+02 1.86617294e+02]\n",
            "   [1.40913132e+02 1.61913132e+02 1.80913132e+02]\n",
            "   [1.37285706e+02 1.56714233e+02 1.73714233e+02]]\n",
            "\n",
            "  [[1.55045914e+02 1.81045914e+02 2.04045914e+02]\n",
            "   [1.58862228e+02 1.84862228e+02 2.07862228e+02]\n",
            "   [1.56428574e+02 1.82428574e+02 2.05428574e+02]\n",
            "   ...\n",
            "   [1.44642822e+02 1.64999939e+02 1.84214233e+02]\n",
            "   [1.41071350e+02 1.59071350e+02 1.79071350e+02]\n",
            "   [1.36571411e+02 1.55571411e+02 1.72571411e+02]]\n",
            "\n",
            "  [[1.55459198e+02 1.79459198e+02 2.03459198e+02]\n",
            "   [1.56714249e+02 1.80714249e+02 2.04714249e+02]\n",
            "   [1.58204102e+02 1.82204102e+02 2.06204102e+02]\n",
            "   ...\n",
            "   [1.38714172e+02 1.59071289e+02 1.78285583e+02]\n",
            "   [1.34214111e+02 1.52214111e+02 1.72214111e+02]\n",
            "   [1.28642731e+02 1.47642731e+02 1.64642731e+02]]]\n",
            "\n",
            "\n",
            " [[[1.00000000e+01 7.00000000e+00 2.00000000e+00]\n",
            "   [1.00000000e+01 7.00000000e+00 2.00000000e+00]\n",
            "   [1.00000000e+01 7.00000000e+00 2.00000000e+00]\n",
            "   ...\n",
            "   [1.00000000e+00 1.00000000e+00 3.00000000e+00]\n",
            "   [1.00000000e+00 1.00000000e+00 3.00000000e+00]\n",
            "   [1.00000000e+00 1.00000000e+00 3.00000000e+00]]\n",
            "\n",
            "  [[1.00000000e+01 7.00000000e+00 2.00000000e+00]\n",
            "   [1.00000000e+01 7.00000000e+00 2.00000000e+00]\n",
            "   [1.00000000e+01 7.00000000e+00 2.00000000e+00]\n",
            "   ...\n",
            "   [1.00000000e+00 1.00000000e+00 3.00000000e+00]\n",
            "   [1.00000000e+00 1.00000000e+00 3.00000000e+00]\n",
            "   [1.00000000e+00 1.00000000e+00 3.00000000e+00]]\n",
            "\n",
            "  [[1.00000000e+01 7.00000000e+00 2.00000000e+00]\n",
            "   [1.00000000e+01 7.00000000e+00 2.00000000e+00]\n",
            "   [1.00000000e+01 7.00000000e+00 2.00000000e+00]\n",
            "   ...\n",
            "   [1.00000000e+00 1.00000000e+00 3.00000000e+00]\n",
            "   [1.00000000e+00 1.00000000e+00 3.00000000e+00]\n",
            "   [1.00000000e+00 1.00000000e+00 3.00000000e+00]]\n",
            "\n",
            "  ...\n",
            "\n",
            "  [[1.79785736e+02 1.70785736e+02 1.63785736e+02]\n",
            "   [1.80198959e+02 1.71198959e+02 1.64198959e+02]\n",
            "   [1.81168365e+02 1.72168365e+02 1.65168365e+02]\n",
            "   ...\n",
            "   [1.56811142e+02 1.51045914e+02 1.45045914e+02]\n",
            "   [1.56642792e+02 1.51214264e+02 1.45214264e+02]\n",
            "   [1.57428528e+02 1.52000000e+02 1.46000000e+02]]\n",
            "\n",
            "  [[1.80260193e+02 1.71260193e+02 1.64260193e+02]\n",
            "   [1.79066330e+02 1.70066330e+02 1.63066330e+02]\n",
            "   [1.81142838e+02 1.72142838e+02 1.65142838e+02]\n",
            "   ...\n",
            "   [1.57642792e+02 1.52214264e+02 1.46214264e+02]\n",
            "   [1.55857117e+02 1.50857117e+02 1.44857117e+02]\n",
            "   [1.53928558e+02 1.48928558e+02 1.42928558e+02]]\n",
            "\n",
            "  [[1.77642822e+02 1.68642822e+02 1.61642822e+02]\n",
            "   [1.79928574e+02 1.70928574e+02 1.63928574e+02]\n",
            "   [1.79923462e+02 1.70923462e+02 1.63923462e+02]\n",
            "   ...\n",
            "   [1.55928436e+02 1.50499908e+02 1.44499908e+02]\n",
            "   [1.53974487e+02 1.48974487e+02 1.42974487e+02]\n",
            "   [1.52000000e+02 1.49000000e+02 1.42000000e+02]]]\n",
            "\n",
            "\n",
            " ...\n",
            "\n",
            "\n",
            " [[[8.13840942e+01 7.33840942e+01 7.13840866e+01]\n",
            "   [8.76831894e+01 7.96831894e+01 7.76831894e+01]\n",
            "   [8.71367950e+01 7.91367950e+01 7.65412903e+01]\n",
            "   ...\n",
            "   [1.14412003e+02 8.35593414e+01 8.04856720e+01]\n",
            "   [1.15555786e+02 8.70000000e+01 8.30000000e+01]\n",
            "   [1.15523750e+02 8.70000000e+01 8.30000000e+01]]\n",
            "\n",
            "  [[8.09886780e+01 7.31607132e+01 6.96446075e+01]\n",
            "   [7.18880692e+01 6.43005371e+01 6.00631332e+01]\n",
            "   [7.45309372e+01 6.73911057e+01 6.18105888e+01]\n",
            "   ...\n",
            "   [1.20986458e+02 8.79969788e+01 8.29969788e+01]\n",
            "   [1.20857590e+02 8.88888702e+01 8.38571472e+01]\n",
            "   [1.19843910e+02 8.88703766e+01 8.38571472e+01]]\n",
            "\n",
            "  [[7.45529327e+01 6.81957932e+01 5.95529327e+01]\n",
            "   [7.49445190e+01 6.98974838e+01 6.08179207e+01]\n",
            "   [7.91076202e+01 7.51076202e+01 6.56790543e+01]\n",
            "   ...\n",
            "   [1.23205223e+02 8.91473389e+01 8.01224899e+01]\n",
            "   [1.25436691e+02 9.13490219e+01 8.35639038e+01]\n",
            "   [1.25989311e+02 9.09709854e+01 8.40262985e+01]]\n",
            "\n",
            "  ...\n",
            "\n",
            "  [[1.70944626e+02 1.53944626e+02 1.34373154e+02]\n",
            "   [1.74325867e+02 1.56889160e+02 1.37317688e+02]\n",
            "   [1.68729889e+02 1.50944153e+02 1.31372681e+02]\n",
            "   ...\n",
            "   [1.45464737e+02 1.30685745e+02 1.07759422e+02]\n",
            "   [1.41428528e+02 1.29682388e+02 1.07967918e+02]\n",
            "   [1.42068695e+02 1.30640167e+02 1.09282951e+02]]\n",
            "\n",
            "  [[1.68743652e+02 1.50743652e+02 1.28743652e+02]\n",
            "   [1.72659424e+02 1.54659424e+02 1.33771042e+02]\n",
            "   [1.68436707e+02 1.50436707e+02 1.30436707e+02]\n",
            "   ...\n",
            "   [1.45926331e+02 1.30921066e+02 1.07910538e+02]\n",
            "   [1.45444214e+02 1.30753510e+02 1.06341461e+02]\n",
            "   [1.46756516e+02 1.31727463e+02 1.08113449e+02]]\n",
            "\n",
            "  [[1.73814728e+02 1.55814728e+02 1.33814728e+02]\n",
            "   [1.72245682e+02 1.54245682e+02 1.32245682e+02]\n",
            "   [1.67011124e+02 1.49011124e+02 1.27011124e+02]\n",
            "   ...\n",
            "   [1.46548111e+02 1.30395508e+02 1.05348145e+02]\n",
            "   [1.45642731e+02 1.26555878e+02 1.00310181e+02]\n",
            "   [1.44370544e+02 1.24013367e+02 9.80608139e+01]]]\n",
            "\n",
            "\n",
            " [[[9.15223236e+01 7.28303604e+01 5.77767868e+01]\n",
            "   [9.96607132e+01 8.28482132e+01 6.70357132e+01]\n",
            "   [9.41919632e+01 7.69955292e+01 6.27142830e+01]\n",
            "   ...\n",
            "   [8.58839111e+01 5.87500000e+01 3.71473846e+01]\n",
            "   [8.73616028e+01 6.13616028e+01 4.45044861e+01]\n",
            "   [7.89417267e+01 5.29417267e+01 3.99417267e+01]]\n",
            "\n",
            "  [[9.02767868e+01 7.51696396e+01 6.00848198e+01]\n",
            "   [9.29821472e+01 7.81071472e+01 6.42321472e+01]\n",
            "   [8.97187500e+01 7.61562500e+01 6.21473236e+01]\n",
            "   ...\n",
            "   [9.21607361e+01 6.65000000e+01 4.45089722e+01]\n",
            "   [9.16606903e+01 6.57812424e+01 4.88839417e+01]\n",
            "   [8.40712585e+01 5.97587585e+01 4.61962585e+01]]\n",
            "\n",
            "  [[8.75714340e+01 7.72946396e+01 6.33035698e+01]\n",
            "   [8.73080368e+01 7.69241104e+01 6.48616104e+01]\n",
            "   [8.53883972e+01 7.52633972e+01 6.31651802e+01]\n",
            "   ...\n",
            "   [9.71964874e+01 7.28125000e+01 5.03839722e+01]\n",
            "   [9.22455597e+01 6.90714569e+01 5.11384201e+01]\n",
            "   [9.32008514e+01 7.02008514e+01 5.49955597e+01]]\n",
            "\n",
            "  ...\n",
            "\n",
            "  [[1.57580353e+02 1.61580353e+02 1.62580353e+02]\n",
            "   [1.59866074e+02 1.63866074e+02 1.64866074e+02]\n",
            "   [1.63950897e+02 1.64937500e+02 1.66937500e+02]\n",
            "   ...\n",
            "   [1.58736633e+02 1.61736633e+02 1.66736633e+02]\n",
            "   [1.60928558e+02 1.63928558e+02 1.68928558e+02]\n",
            "   [1.58285645e+02 1.61285645e+02 1.66285645e+02]]\n",
            "\n",
            "  [[1.56361603e+02 1.60361603e+02 1.61361603e+02]\n",
            "   [1.58928574e+02 1.62928574e+02 1.63928574e+02]\n",
            "   [1.63214279e+02 1.64000000e+02 1.66000000e+02]\n",
            "   ...\n",
            "   [1.58000000e+02 1.61000000e+02 1.66000000e+02]\n",
            "   [1.60928558e+02 1.63928558e+02 1.68928558e+02]\n",
            "   [1.58441910e+02 1.61441910e+02 1.66441910e+02]]\n",
            "\n",
            "  [[1.56000000e+02 1.60000000e+02 1.61000000e+02]\n",
            "   [1.58928574e+02 1.62928574e+02 1.63928574e+02]\n",
            "   [1.63214279e+02 1.64000000e+02 1.66000000e+02]\n",
            "   ...\n",
            "   [1.58000000e+02 1.61000000e+02 1.66000000e+02]\n",
            "   [1.60232147e+02 1.63232147e+02 1.68232147e+02]\n",
            "   [1.59165115e+02 1.62165115e+02 1.67165115e+02]]]\n",
            "\n",
            "\n",
            " [[[4.93520432e+01 7.72959137e+00 3.52040768e+00]\n",
            "   [3.46377563e+01 7.63775635e+00 0.00000000e+00]\n",
            "   [1.87142868e+01 5.30102158e+00 1.37755200e-01]\n",
            "   ...\n",
            "   [1.05556061e+02 3.36990051e+01 1.24745073e+01]\n",
            "   [8.67652893e+01 2.20051289e+01 1.31122923e+00]\n",
            "   [8.32905807e+01 2.29028835e+01 2.38762546e+00]]\n",
            "\n",
            "  [[7.34846954e+01 2.01071434e+01 1.00102043e+01]\n",
            "   [5.31938782e+01 1.31938772e+01 1.13775468e+00]\n",
            "   [4.48724518e+01 1.77295952e+01 4.14285851e+00]\n",
            "   ...\n",
            "   [1.13612053e+02 3.81682434e+01 1.51121178e+01]\n",
            "   [1.02637756e+02 3.27908173e+01 7.92857170e+00]\n",
            "   [1.06148315e+02 3.96993790e+01 1.39085531e+01]]\n",
            "\n",
            "  [[9.83010178e+01 3.55867348e+01 2.29438763e+01]\n",
            "   [7.25408173e+01 1.99132633e+01 6.05612040e+00]\n",
            "   [6.12397957e+01 2.14285698e+01 7.23979473e+00]\n",
            "   ...\n",
            "   [1.17836761e+02 3.67194443e+01 9.59698582e+00]\n",
            "   [1.15418312e+02 3.69183121e+01 8.91831303e+00]\n",
            "   [1.12097046e+02 3.45256882e+01 5.81647635e+00]]\n",
            "\n",
            "  ...\n",
            "\n",
            "  [[1.88198700e+02 6.39079094e+01 3.28042412e+00]\n",
            "   [2.07923370e+02 8.37091064e+01 1.94234371e+01]\n",
            "   [2.08545959e+02 8.51174316e+01 1.79490566e+01]\n",
            "   ...\n",
            "   [4.97950172e+00 3.97950149e+00 1.02541053e+00]\n",
            "   [9.54085732e+00 8.54085732e+00 4.54085732e+00]\n",
            "   [7.45403194e+00 6.45403194e+00 2.45403218e+00]]\n",
            "\n",
            "  [[1.88918365e+02 6.59183655e+01 7.72450399e+00]\n",
            "   [1.89867386e+02 6.68673935e+01 7.01536226e+00]\n",
            "   [1.84301056e+02 6.23010635e+01 3.62272173e-01]\n",
            "   ...\n",
            "   [8.98469257e+00 7.98469257e+00 4.41322041e+00]\n",
            "   [9.64789581e+00 8.64789581e+00 4.64789581e+00]\n",
            "   [8.59689808e+00 7.59689808e+00 3.59689808e+00]]\n",
            "\n",
            "  [[1.85428711e+02 6.44287109e+01 8.60222530e+00]\n",
            "   [1.92147903e+02 7.17448044e+01 1.29540844e+01]\n",
            "   [1.94061279e+02 7.40612793e+01 1.27857847e+01]\n",
            "   ...\n",
            "   [8.07653046e+00 7.07653046e+00 3.50505805e+00]\n",
            "   [4.19391823e+00 3.19391799e+00 1.22476384e-01]\n",
            "   [7.87242413e+00 6.87242413e+00 2.87242413e+00]]]], shape=(32, 224, 224, 3), dtype=float32) tf.Tensor(\n",
            "[[0. 0. 0. 0. 1. 0. 0. 0. 0. 0.]\n",
            " [0. 0. 0. 0. 0. 0. 0. 0. 0. 1.]\n",
            " [0. 0. 0. 0. 1. 0. 0. 0. 0. 0.]\n",
            " [0. 1. 0. 0. 0. 0. 0. 0. 0. 0.]\n",
            " [0. 0. 0. 0. 0. 0. 1. 0. 0. 0.]\n",
            " [0. 0. 0. 0. 0. 0. 1. 0. 0. 0.]\n",
            " [0. 0. 0. 1. 0. 0. 0. 0. 0. 0.]\n",
            " [0. 0. 0. 0. 0. 0. 0. 1. 0. 0.]\n",
            " [0. 0. 0. 0. 0. 1. 0. 0. 0. 0.]\n",
            " [0. 0. 0. 0. 0. 0. 0. 1. 0. 0.]\n",
            " [0. 0. 0. 0. 0. 0. 0. 0. 0. 1.]\n",
            " [0. 0. 0. 1. 0. 0. 0. 0. 0. 0.]\n",
            " [0. 0. 0. 0. 0. 0. 0. 0. 0. 1.]\n",
            " [0. 0. 0. 0. 0. 0. 0. 1. 0. 0.]\n",
            " [0. 0. 0. 0. 0. 0. 1. 0. 0. 0.]\n",
            " [0. 0. 0. 0. 0. 0. 0. 1. 0. 0.]\n",
            " [0. 0. 0. 0. 0. 0. 0. 0. 0. 1.]\n",
            " [0. 0. 0. 0. 0. 0. 0. 1. 0. 0.]\n",
            " [0. 0. 0. 0. 0. 0. 0. 0. 0. 1.]\n",
            " [0. 0. 0. 1. 0. 0. 0. 0. 0. 0.]\n",
            " [0. 0. 0. 0. 0. 0. 0. 1. 0. 0.]\n",
            " [0. 0. 1. 0. 0. 0. 0. 0. 0. 0.]\n",
            " [0. 1. 0. 0. 0. 0. 0. 0. 0. 0.]\n",
            " [0. 0. 0. 0. 0. 1. 0. 0. 0. 0.]\n",
            " [0. 0. 0. 0. 0. 1. 0. 0. 0. 0.]\n",
            " [0. 0. 0. 0. 1. 0. 0. 0. 0. 0.]\n",
            " [0. 0. 0. 0. 0. 0. 1. 0. 0. 0.]\n",
            " [0. 0. 0. 0. 0. 1. 0. 0. 0. 0.]\n",
            " [1. 0. 0. 0. 0. 0. 0. 0. 0. 0.]\n",
            " [0. 0. 0. 0. 0. 1. 0. 0. 0. 0.]\n",
            " [0. 0. 0. 0. 0. 0. 0. 0. 0. 1.]\n",
            " [0. 1. 0. 0. 0. 0. 0. 0. 0. 0.]], shape=(32, 10), dtype=float32)\n"
          ]
        }
      ]
    },
    {
      "cell_type": "code",
      "source": [
        "base_model = tf.keras.applications.efficientnet.EfficientNetB0(include_top=False)\n",
        "\n",
        "base_model.trainable = False"
      ],
      "metadata": {
        "id": "jetk-3G5ottd",
        "colab": {
          "base_uri": "https://localhost:8080/"
        },
        "outputId": "4dc6f2a0-c5e0-48cc-98e5-11748fbbe591"
      },
      "execution_count": 11,
      "outputs": [
        {
          "output_type": "stream",
          "name": "stdout",
          "text": [
            "Downloading data from https://storage.googleapis.com/keras-applications/efficientnetb0_notop.h5\n",
            "16705208/16705208 [==============================] - 0s 0us/step\n"
          ]
        }
      ]
    },
    {
      "cell_type": "code",
      "source": [
        "inputs = Input(shape = INPUT_SHAPE, name=\"input_layer\")\n",
        "# x = tf.keras.layers.Rescaling(1./255)(inputs)\n",
        "x = base_model(inputs)\n",
        "print(f\"shape : {x.shape}\")\n",
        "x = tf.keras.layers.GlobalAveragePooling2D()(x)\n",
        "print(f\"shape : {x.shape}\")\n",
        "outputs = Dense(10, activation=\"softmax\", name=\"output_layer\")(x)\n",
        "\n",
        "model1 = tf.keras.Model(inputs, outputs)\n",
        "\n",
        "model1.compile(loss = categorical_crossentropy,\n",
        "               optimizer = Adam(),\n",
        "               metrics = [\"accuracy\"])\n",
        "\n",
        "history1 = model1.fit(train_data_10percent, epochs=5, steps_per_epoch=len(train_data_10percent), validation_data=test_data_10percent, validation_steps=int(0.25*len(test_data_10percent)))"
      ],
      "metadata": {
        "id": "XxiE5jIuqRE3",
        "colab": {
          "base_uri": "https://localhost:8080/"
        },
        "outputId": "84acfdc9-119d-4c7f-84dc-e9dd1fb76687"
      },
      "execution_count": 12,
      "outputs": [
        {
          "output_type": "stream",
          "name": "stdout",
          "text": [
            "shape : (None, 7, 7, 1280)\n",
            "shape : (None, 1280)\n",
            "Epoch 1/5\n",
            "24/24 [==============================] - 21s 250ms/step - loss: 1.8795 - accuracy: 0.4253 - val_loss: 1.2807 - val_accuracy: 0.7451\n",
            "Epoch 2/5\n",
            "24/24 [==============================] - 7s 266ms/step - loss: 1.0996 - accuracy: 0.7627 - val_loss: 0.8469 - val_accuracy: 0.8322\n",
            "Epoch 3/5\n",
            "24/24 [==============================] - 9s 355ms/step - loss: 0.7863 - accuracy: 0.8347 - val_loss: 0.6917 - val_accuracy: 0.8438\n",
            "Epoch 4/5\n",
            "24/24 [==============================] - 6s 232ms/step - loss: 0.6451 - accuracy: 0.8520 - val_loss: 0.6223 - val_accuracy: 0.8454\n",
            "Epoch 5/5\n",
            "24/24 [==============================] - 4s 135ms/step - loss: 0.5438 - accuracy: 0.8787 - val_loss: 0.5601 - val_accuracy: 0.8651\n"
          ]
        }
      ]
    },
    {
      "cell_type": "code",
      "source": [
        "model1.evaluate(test_data_10percent)"
      ],
      "metadata": {
        "colab": {
          "base_uri": "https://localhost:8080/"
        },
        "id": "_73M0_G5vm9a",
        "outputId": "3a7a5d17-2fbb-4ec2-fb2a-5b333faaa787"
      },
      "execution_count": 13,
      "outputs": [
        {
          "output_type": "stream",
          "name": "stdout",
          "text": [
            "79/79 [==============================] - 8s 91ms/step - loss: 0.5598 - accuracy: 0.8568\n"
          ]
        },
        {
          "output_type": "execute_result",
          "data": {
            "text/plain": [
              "[0.559773325920105, 0.8568000197410583]"
            ]
          },
          "metadata": {},
          "execution_count": 13
        }
      ]
    },
    {
      "cell_type": "code",
      "source": [
        "for layer_number, layer in enumerate(base_model.layers):\n",
        "  print(layer_number, layer.name)"
      ],
      "metadata": {
        "id": "OO0hk0xizsEk",
        "colab": {
          "base_uri": "https://localhost:8080/"
        },
        "outputId": "1957b7b8-3499-40fa-c8ff-a1e1a212b2f6"
      },
      "execution_count": 14,
      "outputs": [
        {
          "output_type": "stream",
          "name": "stdout",
          "text": [
            "0 input_1\n",
            "1 rescaling\n",
            "2 normalization\n",
            "3 rescaling_1\n",
            "4 stem_conv_pad\n",
            "5 stem_conv\n",
            "6 stem_bn\n",
            "7 stem_activation\n",
            "8 block1a_dwconv\n",
            "9 block1a_bn\n",
            "10 block1a_activation\n",
            "11 block1a_se_squeeze\n",
            "12 block1a_se_reshape\n",
            "13 block1a_se_reduce\n",
            "14 block1a_se_expand\n",
            "15 block1a_se_excite\n",
            "16 block1a_project_conv\n",
            "17 block1a_project_bn\n",
            "18 block2a_expand_conv\n",
            "19 block2a_expand_bn\n",
            "20 block2a_expand_activation\n",
            "21 block2a_dwconv_pad\n",
            "22 block2a_dwconv\n",
            "23 block2a_bn\n",
            "24 block2a_activation\n",
            "25 block2a_se_squeeze\n",
            "26 block2a_se_reshape\n",
            "27 block2a_se_reduce\n",
            "28 block2a_se_expand\n",
            "29 block2a_se_excite\n",
            "30 block2a_project_conv\n",
            "31 block2a_project_bn\n",
            "32 block2b_expand_conv\n",
            "33 block2b_expand_bn\n",
            "34 block2b_expand_activation\n",
            "35 block2b_dwconv\n",
            "36 block2b_bn\n",
            "37 block2b_activation\n",
            "38 block2b_se_squeeze\n",
            "39 block2b_se_reshape\n",
            "40 block2b_se_reduce\n",
            "41 block2b_se_expand\n",
            "42 block2b_se_excite\n",
            "43 block2b_project_conv\n",
            "44 block2b_project_bn\n",
            "45 block2b_drop\n",
            "46 block2b_add\n",
            "47 block3a_expand_conv\n",
            "48 block3a_expand_bn\n",
            "49 block3a_expand_activation\n",
            "50 block3a_dwconv_pad\n",
            "51 block3a_dwconv\n",
            "52 block3a_bn\n",
            "53 block3a_activation\n",
            "54 block3a_se_squeeze\n",
            "55 block3a_se_reshape\n",
            "56 block3a_se_reduce\n",
            "57 block3a_se_expand\n",
            "58 block3a_se_excite\n",
            "59 block3a_project_conv\n",
            "60 block3a_project_bn\n",
            "61 block3b_expand_conv\n",
            "62 block3b_expand_bn\n",
            "63 block3b_expand_activation\n",
            "64 block3b_dwconv\n",
            "65 block3b_bn\n",
            "66 block3b_activation\n",
            "67 block3b_se_squeeze\n",
            "68 block3b_se_reshape\n",
            "69 block3b_se_reduce\n",
            "70 block3b_se_expand\n",
            "71 block3b_se_excite\n",
            "72 block3b_project_conv\n",
            "73 block3b_project_bn\n",
            "74 block3b_drop\n",
            "75 block3b_add\n",
            "76 block4a_expand_conv\n",
            "77 block4a_expand_bn\n",
            "78 block4a_expand_activation\n",
            "79 block4a_dwconv_pad\n",
            "80 block4a_dwconv\n",
            "81 block4a_bn\n",
            "82 block4a_activation\n",
            "83 block4a_se_squeeze\n",
            "84 block4a_se_reshape\n",
            "85 block4a_se_reduce\n",
            "86 block4a_se_expand\n",
            "87 block4a_se_excite\n",
            "88 block4a_project_conv\n",
            "89 block4a_project_bn\n",
            "90 block4b_expand_conv\n",
            "91 block4b_expand_bn\n",
            "92 block4b_expand_activation\n",
            "93 block4b_dwconv\n",
            "94 block4b_bn\n",
            "95 block4b_activation\n",
            "96 block4b_se_squeeze\n",
            "97 block4b_se_reshape\n",
            "98 block4b_se_reduce\n",
            "99 block4b_se_expand\n",
            "100 block4b_se_excite\n",
            "101 block4b_project_conv\n",
            "102 block4b_project_bn\n",
            "103 block4b_drop\n",
            "104 block4b_add\n",
            "105 block4c_expand_conv\n",
            "106 block4c_expand_bn\n",
            "107 block4c_expand_activation\n",
            "108 block4c_dwconv\n",
            "109 block4c_bn\n",
            "110 block4c_activation\n",
            "111 block4c_se_squeeze\n",
            "112 block4c_se_reshape\n",
            "113 block4c_se_reduce\n",
            "114 block4c_se_expand\n",
            "115 block4c_se_excite\n",
            "116 block4c_project_conv\n",
            "117 block4c_project_bn\n",
            "118 block4c_drop\n",
            "119 block4c_add\n",
            "120 block5a_expand_conv\n",
            "121 block5a_expand_bn\n",
            "122 block5a_expand_activation\n",
            "123 block5a_dwconv\n",
            "124 block5a_bn\n",
            "125 block5a_activation\n",
            "126 block5a_se_squeeze\n",
            "127 block5a_se_reshape\n",
            "128 block5a_se_reduce\n",
            "129 block5a_se_expand\n",
            "130 block5a_se_excite\n",
            "131 block5a_project_conv\n",
            "132 block5a_project_bn\n",
            "133 block5b_expand_conv\n",
            "134 block5b_expand_bn\n",
            "135 block5b_expand_activation\n",
            "136 block5b_dwconv\n",
            "137 block5b_bn\n",
            "138 block5b_activation\n",
            "139 block5b_se_squeeze\n",
            "140 block5b_se_reshape\n",
            "141 block5b_se_reduce\n",
            "142 block5b_se_expand\n",
            "143 block5b_se_excite\n",
            "144 block5b_project_conv\n",
            "145 block5b_project_bn\n",
            "146 block5b_drop\n",
            "147 block5b_add\n",
            "148 block5c_expand_conv\n",
            "149 block5c_expand_bn\n",
            "150 block5c_expand_activation\n",
            "151 block5c_dwconv\n",
            "152 block5c_bn\n",
            "153 block5c_activation\n",
            "154 block5c_se_squeeze\n",
            "155 block5c_se_reshape\n",
            "156 block5c_se_reduce\n",
            "157 block5c_se_expand\n",
            "158 block5c_se_excite\n",
            "159 block5c_project_conv\n",
            "160 block5c_project_bn\n",
            "161 block5c_drop\n",
            "162 block5c_add\n",
            "163 block6a_expand_conv\n",
            "164 block6a_expand_bn\n",
            "165 block6a_expand_activation\n",
            "166 block6a_dwconv_pad\n",
            "167 block6a_dwconv\n",
            "168 block6a_bn\n",
            "169 block6a_activation\n",
            "170 block6a_se_squeeze\n",
            "171 block6a_se_reshape\n",
            "172 block6a_se_reduce\n",
            "173 block6a_se_expand\n",
            "174 block6a_se_excite\n",
            "175 block6a_project_conv\n",
            "176 block6a_project_bn\n",
            "177 block6b_expand_conv\n",
            "178 block6b_expand_bn\n",
            "179 block6b_expand_activation\n",
            "180 block6b_dwconv\n",
            "181 block6b_bn\n",
            "182 block6b_activation\n",
            "183 block6b_se_squeeze\n",
            "184 block6b_se_reshape\n",
            "185 block6b_se_reduce\n",
            "186 block6b_se_expand\n",
            "187 block6b_se_excite\n",
            "188 block6b_project_conv\n",
            "189 block6b_project_bn\n",
            "190 block6b_drop\n",
            "191 block6b_add\n",
            "192 block6c_expand_conv\n",
            "193 block6c_expand_bn\n",
            "194 block6c_expand_activation\n",
            "195 block6c_dwconv\n",
            "196 block6c_bn\n",
            "197 block6c_activation\n",
            "198 block6c_se_squeeze\n",
            "199 block6c_se_reshape\n",
            "200 block6c_se_reduce\n",
            "201 block6c_se_expand\n",
            "202 block6c_se_excite\n",
            "203 block6c_project_conv\n",
            "204 block6c_project_bn\n",
            "205 block6c_drop\n",
            "206 block6c_add\n",
            "207 block6d_expand_conv\n",
            "208 block6d_expand_bn\n",
            "209 block6d_expand_activation\n",
            "210 block6d_dwconv\n",
            "211 block6d_bn\n",
            "212 block6d_activation\n",
            "213 block6d_se_squeeze\n",
            "214 block6d_se_reshape\n",
            "215 block6d_se_reduce\n",
            "216 block6d_se_expand\n",
            "217 block6d_se_excite\n",
            "218 block6d_project_conv\n",
            "219 block6d_project_bn\n",
            "220 block6d_drop\n",
            "221 block6d_add\n",
            "222 block7a_expand_conv\n",
            "223 block7a_expand_bn\n",
            "224 block7a_expand_activation\n",
            "225 block7a_dwconv\n",
            "226 block7a_bn\n",
            "227 block7a_activation\n",
            "228 block7a_se_squeeze\n",
            "229 block7a_se_reshape\n",
            "230 block7a_se_reduce\n",
            "231 block7a_se_expand\n",
            "232 block7a_se_excite\n",
            "233 block7a_project_conv\n",
            "234 block7a_project_bn\n",
            "235 top_conv\n",
            "236 top_bn\n",
            "237 top_activation\n"
          ]
        }
      ]
    },
    {
      "cell_type": "code",
      "source": [
        "base_model.summary()"
      ],
      "metadata": {
        "id": "QmwL1CtWz7Id",
        "colab": {
          "base_uri": "https://localhost:8080/"
        },
        "outputId": "7500c4f5-8c2b-4065-80be-c31da4cec5fc"
      },
      "execution_count": 15,
      "outputs": [
        {
          "output_type": "stream",
          "name": "stdout",
          "text": [
            "Model: \"efficientnetb0\"\n",
            "__________________________________________________________________________________________________\n",
            " Layer (type)                   Output Shape         Param #     Connected to                     \n",
            "==================================================================================================\n",
            " input_1 (InputLayer)           [(None, None, None,  0           []                               \n",
            "                                 3)]                                                              \n",
            "                                                                                                  \n",
            " rescaling (Rescaling)          (None, None, None,   0           ['input_1[0][0]']                \n",
            "                                3)                                                                \n",
            "                                                                                                  \n",
            " normalization (Normalization)  (None, None, None,   7           ['rescaling[0][0]']              \n",
            "                                3)                                                                \n",
            "                                                                                                  \n",
            " rescaling_1 (Rescaling)        (None, None, None,   0           ['normalization[0][0]']          \n",
            "                                3)                                                                \n",
            "                                                                                                  \n",
            " stem_conv_pad (ZeroPadding2D)  (None, None, None,   0           ['rescaling_1[0][0]']            \n",
            "                                3)                                                                \n",
            "                                                                                                  \n",
            " stem_conv (Conv2D)             (None, None, None,   864         ['stem_conv_pad[0][0]']          \n",
            "                                32)                                                               \n",
            "                                                                                                  \n",
            " stem_bn (BatchNormalization)   (None, None, None,   128         ['stem_conv[0][0]']              \n",
            "                                32)                                                               \n",
            "                                                                                                  \n",
            " stem_activation (Activation)   (None, None, None,   0           ['stem_bn[0][0]']                \n",
            "                                32)                                                               \n",
            "                                                                                                  \n",
            " block1a_dwconv (DepthwiseConv2  (None, None, None,   288        ['stem_activation[0][0]']        \n",
            " D)                             32)                                                               \n",
            "                                                                                                  \n",
            " block1a_bn (BatchNormalization  (None, None, None,   128        ['block1a_dwconv[0][0]']         \n",
            " )                              32)                                                               \n",
            "                                                                                                  \n",
            " block1a_activation (Activation  (None, None, None,   0          ['block1a_bn[0][0]']             \n",
            " )                              32)                                                               \n",
            "                                                                                                  \n",
            " block1a_se_squeeze (GlobalAver  (None, 32)          0           ['block1a_activation[0][0]']     \n",
            " agePooling2D)                                                                                    \n",
            "                                                                                                  \n",
            " block1a_se_reshape (Reshape)   (None, 1, 1, 32)     0           ['block1a_se_squeeze[0][0]']     \n",
            "                                                                                                  \n",
            " block1a_se_reduce (Conv2D)     (None, 1, 1, 8)      264         ['block1a_se_reshape[0][0]']     \n",
            "                                                                                                  \n",
            " block1a_se_expand (Conv2D)     (None, 1, 1, 32)     288         ['block1a_se_reduce[0][0]']      \n",
            "                                                                                                  \n",
            " block1a_se_excite (Multiply)   (None, None, None,   0           ['block1a_activation[0][0]',     \n",
            "                                32)                               'block1a_se_expand[0][0]']      \n",
            "                                                                                                  \n",
            " block1a_project_conv (Conv2D)  (None, None, None,   512         ['block1a_se_excite[0][0]']      \n",
            "                                16)                                                               \n",
            "                                                                                                  \n",
            " block1a_project_bn (BatchNorma  (None, None, None,   64         ['block1a_project_conv[0][0]']   \n",
            " lization)                      16)                                                               \n",
            "                                                                                                  \n",
            " block2a_expand_conv (Conv2D)   (None, None, None,   1536        ['block1a_project_bn[0][0]']     \n",
            "                                96)                                                               \n",
            "                                                                                                  \n",
            " block2a_expand_bn (BatchNormal  (None, None, None,   384        ['block2a_expand_conv[0][0]']    \n",
            " ization)                       96)                                                               \n",
            "                                                                                                  \n",
            " block2a_expand_activation (Act  (None, None, None,   0          ['block2a_expand_bn[0][0]']      \n",
            " ivation)                       96)                                                               \n",
            "                                                                                                  \n",
            " block2a_dwconv_pad (ZeroPaddin  (None, None, None,   0          ['block2a_expand_activation[0][0]\n",
            " g2D)                           96)                              ']                               \n",
            "                                                                                                  \n",
            " block2a_dwconv (DepthwiseConv2  (None, None, None,   864        ['block2a_dwconv_pad[0][0]']     \n",
            " D)                             96)                                                               \n",
            "                                                                                                  \n",
            " block2a_bn (BatchNormalization  (None, None, None,   384        ['block2a_dwconv[0][0]']         \n",
            " )                              96)                                                               \n",
            "                                                                                                  \n",
            " block2a_activation (Activation  (None, None, None,   0          ['block2a_bn[0][0]']             \n",
            " )                              96)                                                               \n",
            "                                                                                                  \n",
            " block2a_se_squeeze (GlobalAver  (None, 96)          0           ['block2a_activation[0][0]']     \n",
            " agePooling2D)                                                                                    \n",
            "                                                                                                  \n",
            " block2a_se_reshape (Reshape)   (None, 1, 1, 96)     0           ['block2a_se_squeeze[0][0]']     \n",
            "                                                                                                  \n",
            " block2a_se_reduce (Conv2D)     (None, 1, 1, 4)      388         ['block2a_se_reshape[0][0]']     \n",
            "                                                                                                  \n",
            " block2a_se_expand (Conv2D)     (None, 1, 1, 96)     480         ['block2a_se_reduce[0][0]']      \n",
            "                                                                                                  \n",
            " block2a_se_excite (Multiply)   (None, None, None,   0           ['block2a_activation[0][0]',     \n",
            "                                96)                               'block2a_se_expand[0][0]']      \n",
            "                                                                                                  \n",
            " block2a_project_conv (Conv2D)  (None, None, None,   2304        ['block2a_se_excite[0][0]']      \n",
            "                                24)                                                               \n",
            "                                                                                                  \n",
            " block2a_project_bn (BatchNorma  (None, None, None,   96         ['block2a_project_conv[0][0]']   \n",
            " lization)                      24)                                                               \n",
            "                                                                                                  \n",
            " block2b_expand_conv (Conv2D)   (None, None, None,   3456        ['block2a_project_bn[0][0]']     \n",
            "                                144)                                                              \n",
            "                                                                                                  \n",
            " block2b_expand_bn (BatchNormal  (None, None, None,   576        ['block2b_expand_conv[0][0]']    \n",
            " ization)                       144)                                                              \n",
            "                                                                                                  \n",
            " block2b_expand_activation (Act  (None, None, None,   0          ['block2b_expand_bn[0][0]']      \n",
            " ivation)                       144)                                                              \n",
            "                                                                                                  \n",
            " block2b_dwconv (DepthwiseConv2  (None, None, None,   1296       ['block2b_expand_activation[0][0]\n",
            " D)                             144)                             ']                               \n",
            "                                                                                                  \n",
            " block2b_bn (BatchNormalization  (None, None, None,   576        ['block2b_dwconv[0][0]']         \n",
            " )                              144)                                                              \n",
            "                                                                                                  \n",
            " block2b_activation (Activation  (None, None, None,   0          ['block2b_bn[0][0]']             \n",
            " )                              144)                                                              \n",
            "                                                                                                  \n",
            " block2b_se_squeeze (GlobalAver  (None, 144)         0           ['block2b_activation[0][0]']     \n",
            " agePooling2D)                                                                                    \n",
            "                                                                                                  \n",
            " block2b_se_reshape (Reshape)   (None, 1, 1, 144)    0           ['block2b_se_squeeze[0][0]']     \n",
            "                                                                                                  \n",
            " block2b_se_reduce (Conv2D)     (None, 1, 1, 6)      870         ['block2b_se_reshape[0][0]']     \n",
            "                                                                                                  \n",
            " block2b_se_expand (Conv2D)     (None, 1, 1, 144)    1008        ['block2b_se_reduce[0][0]']      \n",
            "                                                                                                  \n",
            " block2b_se_excite (Multiply)   (None, None, None,   0           ['block2b_activation[0][0]',     \n",
            "                                144)                              'block2b_se_expand[0][0]']      \n",
            "                                                                                                  \n",
            " block2b_project_conv (Conv2D)  (None, None, None,   3456        ['block2b_se_excite[0][0]']      \n",
            "                                24)                                                               \n",
            "                                                                                                  \n",
            " block2b_project_bn (BatchNorma  (None, None, None,   96         ['block2b_project_conv[0][0]']   \n",
            " lization)                      24)                                                               \n",
            "                                                                                                  \n",
            " block2b_drop (Dropout)         (None, None, None,   0           ['block2b_project_bn[0][0]']     \n",
            "                                24)                                                               \n",
            "                                                                                                  \n",
            " block2b_add (Add)              (None, None, None,   0           ['block2b_drop[0][0]',           \n",
            "                                24)                               'block2a_project_bn[0][0]']     \n",
            "                                                                                                  \n",
            " block3a_expand_conv (Conv2D)   (None, None, None,   3456        ['block2b_add[0][0]']            \n",
            "                                144)                                                              \n",
            "                                                                                                  \n",
            " block3a_expand_bn (BatchNormal  (None, None, None,   576        ['block3a_expand_conv[0][0]']    \n",
            " ization)                       144)                                                              \n",
            "                                                                                                  \n",
            " block3a_expand_activation (Act  (None, None, None,   0          ['block3a_expand_bn[0][0]']      \n",
            " ivation)                       144)                                                              \n",
            "                                                                                                  \n",
            " block3a_dwconv_pad (ZeroPaddin  (None, None, None,   0          ['block3a_expand_activation[0][0]\n",
            " g2D)                           144)                             ']                               \n",
            "                                                                                                  \n",
            " block3a_dwconv (DepthwiseConv2  (None, None, None,   3600       ['block3a_dwconv_pad[0][0]']     \n",
            " D)                             144)                                                              \n",
            "                                                                                                  \n",
            " block3a_bn (BatchNormalization  (None, None, None,   576        ['block3a_dwconv[0][0]']         \n",
            " )                              144)                                                              \n",
            "                                                                                                  \n",
            " block3a_activation (Activation  (None, None, None,   0          ['block3a_bn[0][0]']             \n",
            " )                              144)                                                              \n",
            "                                                                                                  \n",
            " block3a_se_squeeze (GlobalAver  (None, 144)         0           ['block3a_activation[0][0]']     \n",
            " agePooling2D)                                                                                    \n",
            "                                                                                                  \n",
            " block3a_se_reshape (Reshape)   (None, 1, 1, 144)    0           ['block3a_se_squeeze[0][0]']     \n",
            "                                                                                                  \n",
            " block3a_se_reduce (Conv2D)     (None, 1, 1, 6)      870         ['block3a_se_reshape[0][0]']     \n",
            "                                                                                                  \n",
            " block3a_se_expand (Conv2D)     (None, 1, 1, 144)    1008        ['block3a_se_reduce[0][0]']      \n",
            "                                                                                                  \n",
            " block3a_se_excite (Multiply)   (None, None, None,   0           ['block3a_activation[0][0]',     \n",
            "                                144)                              'block3a_se_expand[0][0]']      \n",
            "                                                                                                  \n",
            " block3a_project_conv (Conv2D)  (None, None, None,   5760        ['block3a_se_excite[0][0]']      \n",
            "                                40)                                                               \n",
            "                                                                                                  \n",
            " block3a_project_bn (BatchNorma  (None, None, None,   160        ['block3a_project_conv[0][0]']   \n",
            " lization)                      40)                                                               \n",
            "                                                                                                  \n",
            " block3b_expand_conv (Conv2D)   (None, None, None,   9600        ['block3a_project_bn[0][0]']     \n",
            "                                240)                                                              \n",
            "                                                                                                  \n",
            " block3b_expand_bn (BatchNormal  (None, None, None,   960        ['block3b_expand_conv[0][0]']    \n",
            " ization)                       240)                                                              \n",
            "                                                                                                  \n",
            " block3b_expand_activation (Act  (None, None, None,   0          ['block3b_expand_bn[0][0]']      \n",
            " ivation)                       240)                                                              \n",
            "                                                                                                  \n",
            " block3b_dwconv (DepthwiseConv2  (None, None, None,   6000       ['block3b_expand_activation[0][0]\n",
            " D)                             240)                             ']                               \n",
            "                                                                                                  \n",
            " block3b_bn (BatchNormalization  (None, None, None,   960        ['block3b_dwconv[0][0]']         \n",
            " )                              240)                                                              \n",
            "                                                                                                  \n",
            " block3b_activation (Activation  (None, None, None,   0          ['block3b_bn[0][0]']             \n",
            " )                              240)                                                              \n",
            "                                                                                                  \n",
            " block3b_se_squeeze (GlobalAver  (None, 240)         0           ['block3b_activation[0][0]']     \n",
            " agePooling2D)                                                                                    \n",
            "                                                                                                  \n",
            " block3b_se_reshape (Reshape)   (None, 1, 1, 240)    0           ['block3b_se_squeeze[0][0]']     \n",
            "                                                                                                  \n",
            " block3b_se_reduce (Conv2D)     (None, 1, 1, 10)     2410        ['block3b_se_reshape[0][0]']     \n",
            "                                                                                                  \n",
            " block3b_se_expand (Conv2D)     (None, 1, 1, 240)    2640        ['block3b_se_reduce[0][0]']      \n",
            "                                                                                                  \n",
            " block3b_se_excite (Multiply)   (None, None, None,   0           ['block3b_activation[0][0]',     \n",
            "                                240)                              'block3b_se_expand[0][0]']      \n",
            "                                                                                                  \n",
            " block3b_project_conv (Conv2D)  (None, None, None,   9600        ['block3b_se_excite[0][0]']      \n",
            "                                40)                                                               \n",
            "                                                                                                  \n",
            " block3b_project_bn (BatchNorma  (None, None, None,   160        ['block3b_project_conv[0][0]']   \n",
            " lization)                      40)                                                               \n",
            "                                                                                                  \n",
            " block3b_drop (Dropout)         (None, None, None,   0           ['block3b_project_bn[0][0]']     \n",
            "                                40)                                                               \n",
            "                                                                                                  \n",
            " block3b_add (Add)              (None, None, None,   0           ['block3b_drop[0][0]',           \n",
            "                                40)                               'block3a_project_bn[0][0]']     \n",
            "                                                                                                  \n",
            " block4a_expand_conv (Conv2D)   (None, None, None,   9600        ['block3b_add[0][0]']            \n",
            "                                240)                                                              \n",
            "                                                                                                  \n",
            " block4a_expand_bn (BatchNormal  (None, None, None,   960        ['block4a_expand_conv[0][0]']    \n",
            " ization)                       240)                                                              \n",
            "                                                                                                  \n",
            " block4a_expand_activation (Act  (None, None, None,   0          ['block4a_expand_bn[0][0]']      \n",
            " ivation)                       240)                                                              \n",
            "                                                                                                  \n",
            " block4a_dwconv_pad (ZeroPaddin  (None, None, None,   0          ['block4a_expand_activation[0][0]\n",
            " g2D)                           240)                             ']                               \n",
            "                                                                                                  \n",
            " block4a_dwconv (DepthwiseConv2  (None, None, None,   2160       ['block4a_dwconv_pad[0][0]']     \n",
            " D)                             240)                                                              \n",
            "                                                                                                  \n",
            " block4a_bn (BatchNormalization  (None, None, None,   960        ['block4a_dwconv[0][0]']         \n",
            " )                              240)                                                              \n",
            "                                                                                                  \n",
            " block4a_activation (Activation  (None, None, None,   0          ['block4a_bn[0][0]']             \n",
            " )                              240)                                                              \n",
            "                                                                                                  \n",
            " block4a_se_squeeze (GlobalAver  (None, 240)         0           ['block4a_activation[0][0]']     \n",
            " agePooling2D)                                                                                    \n",
            "                                                                                                  \n",
            " block4a_se_reshape (Reshape)   (None, 1, 1, 240)    0           ['block4a_se_squeeze[0][0]']     \n",
            "                                                                                                  \n",
            " block4a_se_reduce (Conv2D)     (None, 1, 1, 10)     2410        ['block4a_se_reshape[0][0]']     \n",
            "                                                                                                  \n",
            " block4a_se_expand (Conv2D)     (None, 1, 1, 240)    2640        ['block4a_se_reduce[0][0]']      \n",
            "                                                                                                  \n",
            " block4a_se_excite (Multiply)   (None, None, None,   0           ['block4a_activation[0][0]',     \n",
            "                                240)                              'block4a_se_expand[0][0]']      \n",
            "                                                                                                  \n",
            " block4a_project_conv (Conv2D)  (None, None, None,   19200       ['block4a_se_excite[0][0]']      \n",
            "                                80)                                                               \n",
            "                                                                                                  \n",
            " block4a_project_bn (BatchNorma  (None, None, None,   320        ['block4a_project_conv[0][0]']   \n",
            " lization)                      80)                                                               \n",
            "                                                                                                  \n",
            " block4b_expand_conv (Conv2D)   (None, None, None,   38400       ['block4a_project_bn[0][0]']     \n",
            "                                480)                                                              \n",
            "                                                                                                  \n",
            " block4b_expand_bn (BatchNormal  (None, None, None,   1920       ['block4b_expand_conv[0][0]']    \n",
            " ization)                       480)                                                              \n",
            "                                                                                                  \n",
            " block4b_expand_activation (Act  (None, None, None,   0          ['block4b_expand_bn[0][0]']      \n",
            " ivation)                       480)                                                              \n",
            "                                                                                                  \n",
            " block4b_dwconv (DepthwiseConv2  (None, None, None,   4320       ['block4b_expand_activation[0][0]\n",
            " D)                             480)                             ']                               \n",
            "                                                                                                  \n",
            " block4b_bn (BatchNormalization  (None, None, None,   1920       ['block4b_dwconv[0][0]']         \n",
            " )                              480)                                                              \n",
            "                                                                                                  \n",
            " block4b_activation (Activation  (None, None, None,   0          ['block4b_bn[0][0]']             \n",
            " )                              480)                                                              \n",
            "                                                                                                  \n",
            " block4b_se_squeeze (GlobalAver  (None, 480)         0           ['block4b_activation[0][0]']     \n",
            " agePooling2D)                                                                                    \n",
            "                                                                                                  \n",
            " block4b_se_reshape (Reshape)   (None, 1, 1, 480)    0           ['block4b_se_squeeze[0][0]']     \n",
            "                                                                                                  \n",
            " block4b_se_reduce (Conv2D)     (None, 1, 1, 20)     9620        ['block4b_se_reshape[0][0]']     \n",
            "                                                                                                  \n",
            " block4b_se_expand (Conv2D)     (None, 1, 1, 480)    10080       ['block4b_se_reduce[0][0]']      \n",
            "                                                                                                  \n",
            " block4b_se_excite (Multiply)   (None, None, None,   0           ['block4b_activation[0][0]',     \n",
            "                                480)                              'block4b_se_expand[0][0]']      \n",
            "                                                                                                  \n",
            " block4b_project_conv (Conv2D)  (None, None, None,   38400       ['block4b_se_excite[0][0]']      \n",
            "                                80)                                                               \n",
            "                                                                                                  \n",
            " block4b_project_bn (BatchNorma  (None, None, None,   320        ['block4b_project_conv[0][0]']   \n",
            " lization)                      80)                                                               \n",
            "                                                                                                  \n",
            " block4b_drop (Dropout)         (None, None, None,   0           ['block4b_project_bn[0][0]']     \n",
            "                                80)                                                               \n",
            "                                                                                                  \n",
            " block4b_add (Add)              (None, None, None,   0           ['block4b_drop[0][0]',           \n",
            "                                80)                               'block4a_project_bn[0][0]']     \n",
            "                                                                                                  \n",
            " block4c_expand_conv (Conv2D)   (None, None, None,   38400       ['block4b_add[0][0]']            \n",
            "                                480)                                                              \n",
            "                                                                                                  \n",
            " block4c_expand_bn (BatchNormal  (None, None, None,   1920       ['block4c_expand_conv[0][0]']    \n",
            " ization)                       480)                                                              \n",
            "                                                                                                  \n",
            " block4c_expand_activation (Act  (None, None, None,   0          ['block4c_expand_bn[0][0]']      \n",
            " ivation)                       480)                                                              \n",
            "                                                                                                  \n",
            " block4c_dwconv (DepthwiseConv2  (None, None, None,   4320       ['block4c_expand_activation[0][0]\n",
            " D)                             480)                             ']                               \n",
            "                                                                                                  \n",
            " block4c_bn (BatchNormalization  (None, None, None,   1920       ['block4c_dwconv[0][0]']         \n",
            " )                              480)                                                              \n",
            "                                                                                                  \n",
            " block4c_activation (Activation  (None, None, None,   0          ['block4c_bn[0][0]']             \n",
            " )                              480)                                                              \n",
            "                                                                                                  \n",
            " block4c_se_squeeze (GlobalAver  (None, 480)         0           ['block4c_activation[0][0]']     \n",
            " agePooling2D)                                                                                    \n",
            "                                                                                                  \n",
            " block4c_se_reshape (Reshape)   (None, 1, 1, 480)    0           ['block4c_se_squeeze[0][0]']     \n",
            "                                                                                                  \n",
            " block4c_se_reduce (Conv2D)     (None, 1, 1, 20)     9620        ['block4c_se_reshape[0][0]']     \n",
            "                                                                                                  \n",
            " block4c_se_expand (Conv2D)     (None, 1, 1, 480)    10080       ['block4c_se_reduce[0][0]']      \n",
            "                                                                                                  \n",
            " block4c_se_excite (Multiply)   (None, None, None,   0           ['block4c_activation[0][0]',     \n",
            "                                480)                              'block4c_se_expand[0][0]']      \n",
            "                                                                                                  \n",
            " block4c_project_conv (Conv2D)  (None, None, None,   38400       ['block4c_se_excite[0][0]']      \n",
            "                                80)                                                               \n",
            "                                                                                                  \n",
            " block4c_project_bn (BatchNorma  (None, None, None,   320        ['block4c_project_conv[0][0]']   \n",
            " lization)                      80)                                                               \n",
            "                                                                                                  \n",
            " block4c_drop (Dropout)         (None, None, None,   0           ['block4c_project_bn[0][0]']     \n",
            "                                80)                                                               \n",
            "                                                                                                  \n",
            " block4c_add (Add)              (None, None, None,   0           ['block4c_drop[0][0]',           \n",
            "                                80)                               'block4b_add[0][0]']            \n",
            "                                                                                                  \n",
            " block5a_expand_conv (Conv2D)   (None, None, None,   38400       ['block4c_add[0][0]']            \n",
            "                                480)                                                              \n",
            "                                                                                                  \n",
            " block5a_expand_bn (BatchNormal  (None, None, None,   1920       ['block5a_expand_conv[0][0]']    \n",
            " ization)                       480)                                                              \n",
            "                                                                                                  \n",
            " block5a_expand_activation (Act  (None, None, None,   0          ['block5a_expand_bn[0][0]']      \n",
            " ivation)                       480)                                                              \n",
            "                                                                                                  \n",
            " block5a_dwconv (DepthwiseConv2  (None, None, None,   12000      ['block5a_expand_activation[0][0]\n",
            " D)                             480)                             ']                               \n",
            "                                                                                                  \n",
            " block5a_bn (BatchNormalization  (None, None, None,   1920       ['block5a_dwconv[0][0]']         \n",
            " )                              480)                                                              \n",
            "                                                                                                  \n",
            " block5a_activation (Activation  (None, None, None,   0          ['block5a_bn[0][0]']             \n",
            " )                              480)                                                              \n",
            "                                                                                                  \n",
            " block5a_se_squeeze (GlobalAver  (None, 480)         0           ['block5a_activation[0][0]']     \n",
            " agePooling2D)                                                                                    \n",
            "                                                                                                  \n",
            " block5a_se_reshape (Reshape)   (None, 1, 1, 480)    0           ['block5a_se_squeeze[0][0]']     \n",
            "                                                                                                  \n",
            " block5a_se_reduce (Conv2D)     (None, 1, 1, 20)     9620        ['block5a_se_reshape[0][0]']     \n",
            "                                                                                                  \n",
            " block5a_se_expand (Conv2D)     (None, 1, 1, 480)    10080       ['block5a_se_reduce[0][0]']      \n",
            "                                                                                                  \n",
            " block5a_se_excite (Multiply)   (None, None, None,   0           ['block5a_activation[0][0]',     \n",
            "                                480)                              'block5a_se_expand[0][0]']      \n",
            "                                                                                                  \n",
            " block5a_project_conv (Conv2D)  (None, None, None,   53760       ['block5a_se_excite[0][0]']      \n",
            "                                112)                                                              \n",
            "                                                                                                  \n",
            " block5a_project_bn (BatchNorma  (None, None, None,   448        ['block5a_project_conv[0][0]']   \n",
            " lization)                      112)                                                              \n",
            "                                                                                                  \n",
            " block5b_expand_conv (Conv2D)   (None, None, None,   75264       ['block5a_project_bn[0][0]']     \n",
            "                                672)                                                              \n",
            "                                                                                                  \n",
            " block5b_expand_bn (BatchNormal  (None, None, None,   2688       ['block5b_expand_conv[0][0]']    \n",
            " ization)                       672)                                                              \n",
            "                                                                                                  \n",
            " block5b_expand_activation (Act  (None, None, None,   0          ['block5b_expand_bn[0][0]']      \n",
            " ivation)                       672)                                                              \n",
            "                                                                                                  \n",
            " block5b_dwconv (DepthwiseConv2  (None, None, None,   16800      ['block5b_expand_activation[0][0]\n",
            " D)                             672)                             ']                               \n",
            "                                                                                                  \n",
            " block5b_bn (BatchNormalization  (None, None, None,   2688       ['block5b_dwconv[0][0]']         \n",
            " )                              672)                                                              \n",
            "                                                                                                  \n",
            " block5b_activation (Activation  (None, None, None,   0          ['block5b_bn[0][0]']             \n",
            " )                              672)                                                              \n",
            "                                                                                                  \n",
            " block5b_se_squeeze (GlobalAver  (None, 672)         0           ['block5b_activation[0][0]']     \n",
            " agePooling2D)                                                                                    \n",
            "                                                                                                  \n",
            " block5b_se_reshape (Reshape)   (None, 1, 1, 672)    0           ['block5b_se_squeeze[0][0]']     \n",
            "                                                                                                  \n",
            " block5b_se_reduce (Conv2D)     (None, 1, 1, 28)     18844       ['block5b_se_reshape[0][0]']     \n",
            "                                                                                                  \n",
            " block5b_se_expand (Conv2D)     (None, 1, 1, 672)    19488       ['block5b_se_reduce[0][0]']      \n",
            "                                                                                                  \n",
            " block5b_se_excite (Multiply)   (None, None, None,   0           ['block5b_activation[0][0]',     \n",
            "                                672)                              'block5b_se_expand[0][0]']      \n",
            "                                                                                                  \n",
            " block5b_project_conv (Conv2D)  (None, None, None,   75264       ['block5b_se_excite[0][0]']      \n",
            "                                112)                                                              \n",
            "                                                                                                  \n",
            " block5b_project_bn (BatchNorma  (None, None, None,   448        ['block5b_project_conv[0][0]']   \n",
            " lization)                      112)                                                              \n",
            "                                                                                                  \n",
            " block5b_drop (Dropout)         (None, None, None,   0           ['block5b_project_bn[0][0]']     \n",
            "                                112)                                                              \n",
            "                                                                                                  \n",
            " block5b_add (Add)              (None, None, None,   0           ['block5b_drop[0][0]',           \n",
            "                                112)                              'block5a_project_bn[0][0]']     \n",
            "                                                                                                  \n",
            " block5c_expand_conv (Conv2D)   (None, None, None,   75264       ['block5b_add[0][0]']            \n",
            "                                672)                                                              \n",
            "                                                                                                  \n",
            " block5c_expand_bn (BatchNormal  (None, None, None,   2688       ['block5c_expand_conv[0][0]']    \n",
            " ization)                       672)                                                              \n",
            "                                                                                                  \n",
            " block5c_expand_activation (Act  (None, None, None,   0          ['block5c_expand_bn[0][0]']      \n",
            " ivation)                       672)                                                              \n",
            "                                                                                                  \n",
            " block5c_dwconv (DepthwiseConv2  (None, None, None,   16800      ['block5c_expand_activation[0][0]\n",
            " D)                             672)                             ']                               \n",
            "                                                                                                  \n",
            " block5c_bn (BatchNormalization  (None, None, None,   2688       ['block5c_dwconv[0][0]']         \n",
            " )                              672)                                                              \n",
            "                                                                                                  \n",
            " block5c_activation (Activation  (None, None, None,   0          ['block5c_bn[0][0]']             \n",
            " )                              672)                                                              \n",
            "                                                                                                  \n",
            " block5c_se_squeeze (GlobalAver  (None, 672)         0           ['block5c_activation[0][0]']     \n",
            " agePooling2D)                                                                                    \n",
            "                                                                                                  \n",
            " block5c_se_reshape (Reshape)   (None, 1, 1, 672)    0           ['block5c_se_squeeze[0][0]']     \n",
            "                                                                                                  \n",
            " block5c_se_reduce (Conv2D)     (None, 1, 1, 28)     18844       ['block5c_se_reshape[0][0]']     \n",
            "                                                                                                  \n",
            " block5c_se_expand (Conv2D)     (None, 1, 1, 672)    19488       ['block5c_se_reduce[0][0]']      \n",
            "                                                                                                  \n",
            " block5c_se_excite (Multiply)   (None, None, None,   0           ['block5c_activation[0][0]',     \n",
            "                                672)                              'block5c_se_expand[0][0]']      \n",
            "                                                                                                  \n",
            " block5c_project_conv (Conv2D)  (None, None, None,   75264       ['block5c_se_excite[0][0]']      \n",
            "                                112)                                                              \n",
            "                                                                                                  \n",
            " block5c_project_bn (BatchNorma  (None, None, None,   448        ['block5c_project_conv[0][0]']   \n",
            " lization)                      112)                                                              \n",
            "                                                                                                  \n",
            " block5c_drop (Dropout)         (None, None, None,   0           ['block5c_project_bn[0][0]']     \n",
            "                                112)                                                              \n",
            "                                                                                                  \n",
            " block5c_add (Add)              (None, None, None,   0           ['block5c_drop[0][0]',           \n",
            "                                112)                              'block5b_add[0][0]']            \n",
            "                                                                                                  \n",
            " block6a_expand_conv (Conv2D)   (None, None, None,   75264       ['block5c_add[0][0]']            \n",
            "                                672)                                                              \n",
            "                                                                                                  \n",
            " block6a_expand_bn (BatchNormal  (None, None, None,   2688       ['block6a_expand_conv[0][0]']    \n",
            " ization)                       672)                                                              \n",
            "                                                                                                  \n",
            " block6a_expand_activation (Act  (None, None, None,   0          ['block6a_expand_bn[0][0]']      \n",
            " ivation)                       672)                                                              \n",
            "                                                                                                  \n",
            " block6a_dwconv_pad (ZeroPaddin  (None, None, None,   0          ['block6a_expand_activation[0][0]\n",
            " g2D)                           672)                             ']                               \n",
            "                                                                                                  \n",
            " block6a_dwconv (DepthwiseConv2  (None, None, None,   16800      ['block6a_dwconv_pad[0][0]']     \n",
            " D)                             672)                                                              \n",
            "                                                                                                  \n",
            " block6a_bn (BatchNormalization  (None, None, None,   2688       ['block6a_dwconv[0][0]']         \n",
            " )                              672)                                                              \n",
            "                                                                                                  \n",
            " block6a_activation (Activation  (None, None, None,   0          ['block6a_bn[0][0]']             \n",
            " )                              672)                                                              \n",
            "                                                                                                  \n",
            " block6a_se_squeeze (GlobalAver  (None, 672)         0           ['block6a_activation[0][0]']     \n",
            " agePooling2D)                                                                                    \n",
            "                                                                                                  \n",
            " block6a_se_reshape (Reshape)   (None, 1, 1, 672)    0           ['block6a_se_squeeze[0][0]']     \n",
            "                                                                                                  \n",
            " block6a_se_reduce (Conv2D)     (None, 1, 1, 28)     18844       ['block6a_se_reshape[0][0]']     \n",
            "                                                                                                  \n",
            " block6a_se_expand (Conv2D)     (None, 1, 1, 672)    19488       ['block6a_se_reduce[0][0]']      \n",
            "                                                                                                  \n",
            " block6a_se_excite (Multiply)   (None, None, None,   0           ['block6a_activation[0][0]',     \n",
            "                                672)                              'block6a_se_expand[0][0]']      \n",
            "                                                                                                  \n",
            " block6a_project_conv (Conv2D)  (None, None, None,   129024      ['block6a_se_excite[0][0]']      \n",
            "                                192)                                                              \n",
            "                                                                                                  \n",
            " block6a_project_bn (BatchNorma  (None, None, None,   768        ['block6a_project_conv[0][0]']   \n",
            " lization)                      192)                                                              \n",
            "                                                                                                  \n",
            " block6b_expand_conv (Conv2D)   (None, None, None,   221184      ['block6a_project_bn[0][0]']     \n",
            "                                1152)                                                             \n",
            "                                                                                                  \n",
            " block6b_expand_bn (BatchNormal  (None, None, None,   4608       ['block6b_expand_conv[0][0]']    \n",
            " ization)                       1152)                                                             \n",
            "                                                                                                  \n",
            " block6b_expand_activation (Act  (None, None, None,   0          ['block6b_expand_bn[0][0]']      \n",
            " ivation)                       1152)                                                             \n",
            "                                                                                                  \n",
            " block6b_dwconv (DepthwiseConv2  (None, None, None,   28800      ['block6b_expand_activation[0][0]\n",
            " D)                             1152)                            ']                               \n",
            "                                                                                                  \n",
            " block6b_bn (BatchNormalization  (None, None, None,   4608       ['block6b_dwconv[0][0]']         \n",
            " )                              1152)                                                             \n",
            "                                                                                                  \n",
            " block6b_activation (Activation  (None, None, None,   0          ['block6b_bn[0][0]']             \n",
            " )                              1152)                                                             \n",
            "                                                                                                  \n",
            " block6b_se_squeeze (GlobalAver  (None, 1152)        0           ['block6b_activation[0][0]']     \n",
            " agePooling2D)                                                                                    \n",
            "                                                                                                  \n",
            " block6b_se_reshape (Reshape)   (None, 1, 1, 1152)   0           ['block6b_se_squeeze[0][0]']     \n",
            "                                                                                                  \n",
            " block6b_se_reduce (Conv2D)     (None, 1, 1, 48)     55344       ['block6b_se_reshape[0][0]']     \n",
            "                                                                                                  \n",
            " block6b_se_expand (Conv2D)     (None, 1, 1, 1152)   56448       ['block6b_se_reduce[0][0]']      \n",
            "                                                                                                  \n",
            " block6b_se_excite (Multiply)   (None, None, None,   0           ['block6b_activation[0][0]',     \n",
            "                                1152)                             'block6b_se_expand[0][0]']      \n",
            "                                                                                                  \n",
            " block6b_project_conv (Conv2D)  (None, None, None,   221184      ['block6b_se_excite[0][0]']      \n",
            "                                192)                                                              \n",
            "                                                                                                  \n",
            " block6b_project_bn (BatchNorma  (None, None, None,   768        ['block6b_project_conv[0][0]']   \n",
            " lization)                      192)                                                              \n",
            "                                                                                                  \n",
            " block6b_drop (Dropout)         (None, None, None,   0           ['block6b_project_bn[0][0]']     \n",
            "                                192)                                                              \n",
            "                                                                                                  \n",
            " block6b_add (Add)              (None, None, None,   0           ['block6b_drop[0][0]',           \n",
            "                                192)                              'block6a_project_bn[0][0]']     \n",
            "                                                                                                  \n",
            " block6c_expand_conv (Conv2D)   (None, None, None,   221184      ['block6b_add[0][0]']            \n",
            "                                1152)                                                             \n",
            "                                                                                                  \n",
            " block6c_expand_bn (BatchNormal  (None, None, None,   4608       ['block6c_expand_conv[0][0]']    \n",
            " ization)                       1152)                                                             \n",
            "                                                                                                  \n",
            " block6c_expand_activation (Act  (None, None, None,   0          ['block6c_expand_bn[0][0]']      \n",
            " ivation)                       1152)                                                             \n",
            "                                                                                                  \n",
            " block6c_dwconv (DepthwiseConv2  (None, None, None,   28800      ['block6c_expand_activation[0][0]\n",
            " D)                             1152)                            ']                               \n",
            "                                                                                                  \n",
            " block6c_bn (BatchNormalization  (None, None, None,   4608       ['block6c_dwconv[0][0]']         \n",
            " )                              1152)                                                             \n",
            "                                                                                                  \n",
            " block6c_activation (Activation  (None, None, None,   0          ['block6c_bn[0][0]']             \n",
            " )                              1152)                                                             \n",
            "                                                                                                  \n",
            " block6c_se_squeeze (GlobalAver  (None, 1152)        0           ['block6c_activation[0][0]']     \n",
            " agePooling2D)                                                                                    \n",
            "                                                                                                  \n",
            " block6c_se_reshape (Reshape)   (None, 1, 1, 1152)   0           ['block6c_se_squeeze[0][0]']     \n",
            "                                                                                                  \n",
            " block6c_se_reduce (Conv2D)     (None, 1, 1, 48)     55344       ['block6c_se_reshape[0][0]']     \n",
            "                                                                                                  \n",
            " block6c_se_expand (Conv2D)     (None, 1, 1, 1152)   56448       ['block6c_se_reduce[0][0]']      \n",
            "                                                                                                  \n",
            " block6c_se_excite (Multiply)   (None, None, None,   0           ['block6c_activation[0][0]',     \n",
            "                                1152)                             'block6c_se_expand[0][0]']      \n",
            "                                                                                                  \n",
            " block6c_project_conv (Conv2D)  (None, None, None,   221184      ['block6c_se_excite[0][0]']      \n",
            "                                192)                                                              \n",
            "                                                                                                  \n",
            " block6c_project_bn (BatchNorma  (None, None, None,   768        ['block6c_project_conv[0][0]']   \n",
            " lization)                      192)                                                              \n",
            "                                                                                                  \n",
            " block6c_drop (Dropout)         (None, None, None,   0           ['block6c_project_bn[0][0]']     \n",
            "                                192)                                                              \n",
            "                                                                                                  \n",
            " block6c_add (Add)              (None, None, None,   0           ['block6c_drop[0][0]',           \n",
            "                                192)                              'block6b_add[0][0]']            \n",
            "                                                                                                  \n",
            " block6d_expand_conv (Conv2D)   (None, None, None,   221184      ['block6c_add[0][0]']            \n",
            "                                1152)                                                             \n",
            "                                                                                                  \n",
            " block6d_expand_bn (BatchNormal  (None, None, None,   4608       ['block6d_expand_conv[0][0]']    \n",
            " ization)                       1152)                                                             \n",
            "                                                                                                  \n",
            " block6d_expand_activation (Act  (None, None, None,   0          ['block6d_expand_bn[0][0]']      \n",
            " ivation)                       1152)                                                             \n",
            "                                                                                                  \n",
            " block6d_dwconv (DepthwiseConv2  (None, None, None,   28800      ['block6d_expand_activation[0][0]\n",
            " D)                             1152)                            ']                               \n",
            "                                                                                                  \n",
            " block6d_bn (BatchNormalization  (None, None, None,   4608       ['block6d_dwconv[0][0]']         \n",
            " )                              1152)                                                             \n",
            "                                                                                                  \n",
            " block6d_activation (Activation  (None, None, None,   0          ['block6d_bn[0][0]']             \n",
            " )                              1152)                                                             \n",
            "                                                                                                  \n",
            " block6d_se_squeeze (GlobalAver  (None, 1152)        0           ['block6d_activation[0][0]']     \n",
            " agePooling2D)                                                                                    \n",
            "                                                                                                  \n",
            " block6d_se_reshape (Reshape)   (None, 1, 1, 1152)   0           ['block6d_se_squeeze[0][0]']     \n",
            "                                                                                                  \n",
            " block6d_se_reduce (Conv2D)     (None, 1, 1, 48)     55344       ['block6d_se_reshape[0][0]']     \n",
            "                                                                                                  \n",
            " block6d_se_expand (Conv2D)     (None, 1, 1, 1152)   56448       ['block6d_se_reduce[0][0]']      \n",
            "                                                                                                  \n",
            " block6d_se_excite (Multiply)   (None, None, None,   0           ['block6d_activation[0][0]',     \n",
            "                                1152)                             'block6d_se_expand[0][0]']      \n",
            "                                                                                                  \n",
            " block6d_project_conv (Conv2D)  (None, None, None,   221184      ['block6d_se_excite[0][0]']      \n",
            "                                192)                                                              \n",
            "                                                                                                  \n",
            " block6d_project_bn (BatchNorma  (None, None, None,   768        ['block6d_project_conv[0][0]']   \n",
            " lization)                      192)                                                              \n",
            "                                                                                                  \n",
            " block6d_drop (Dropout)         (None, None, None,   0           ['block6d_project_bn[0][0]']     \n",
            "                                192)                                                              \n",
            "                                                                                                  \n",
            " block6d_add (Add)              (None, None, None,   0           ['block6d_drop[0][0]',           \n",
            "                                192)                              'block6c_add[0][0]']            \n",
            "                                                                                                  \n",
            " block7a_expand_conv (Conv2D)   (None, None, None,   221184      ['block6d_add[0][0]']            \n",
            "                                1152)                                                             \n",
            "                                                                                                  \n",
            " block7a_expand_bn (BatchNormal  (None, None, None,   4608       ['block7a_expand_conv[0][0]']    \n",
            " ization)                       1152)                                                             \n",
            "                                                                                                  \n",
            " block7a_expand_activation (Act  (None, None, None,   0          ['block7a_expand_bn[0][0]']      \n",
            " ivation)                       1152)                                                             \n",
            "                                                                                                  \n",
            " block7a_dwconv (DepthwiseConv2  (None, None, None,   10368      ['block7a_expand_activation[0][0]\n",
            " D)                             1152)                            ']                               \n",
            "                                                                                                  \n",
            " block7a_bn (BatchNormalization  (None, None, None,   4608       ['block7a_dwconv[0][0]']         \n",
            " )                              1152)                                                             \n",
            "                                                                                                  \n",
            " block7a_activation (Activation  (None, None, None,   0          ['block7a_bn[0][0]']             \n",
            " )                              1152)                                                             \n",
            "                                                                                                  \n",
            " block7a_se_squeeze (GlobalAver  (None, 1152)        0           ['block7a_activation[0][0]']     \n",
            " agePooling2D)                                                                                    \n",
            "                                                                                                  \n",
            " block7a_se_reshape (Reshape)   (None, 1, 1, 1152)   0           ['block7a_se_squeeze[0][0]']     \n",
            "                                                                                                  \n",
            " block7a_se_reduce (Conv2D)     (None, 1, 1, 48)     55344       ['block7a_se_reshape[0][0]']     \n",
            "                                                                                                  \n",
            " block7a_se_expand (Conv2D)     (None, 1, 1, 1152)   56448       ['block7a_se_reduce[0][0]']      \n",
            "                                                                                                  \n",
            " block7a_se_excite (Multiply)   (None, None, None,   0           ['block7a_activation[0][0]',     \n",
            "                                1152)                             'block7a_se_expand[0][0]']      \n",
            "                                                                                                  \n",
            " block7a_project_conv (Conv2D)  (None, None, None,   368640      ['block7a_se_excite[0][0]']      \n",
            "                                320)                                                              \n",
            "                                                                                                  \n",
            " block7a_project_bn (BatchNorma  (None, None, None,   1280       ['block7a_project_conv[0][0]']   \n",
            " lization)                      320)                                                              \n",
            "                                                                                                  \n",
            " top_conv (Conv2D)              (None, None, None,   409600      ['block7a_project_bn[0][0]']     \n",
            "                                1280)                                                             \n",
            "                                                                                                  \n",
            " top_bn (BatchNormalization)    (None, None, None,   5120        ['top_conv[0][0]']               \n",
            "                                1280)                                                             \n",
            "                                                                                                  \n",
            " top_activation (Activation)    (None, None, None,   0           ['top_bn[0][0]']                 \n",
            "                                1280)                                                             \n",
            "                                                                                                  \n",
            "==================================================================================================\n",
            "Total params: 4,049,571\n",
            "Trainable params: 0\n",
            "Non-trainable params: 4,049,571\n",
            "__________________________________________________________________________________________________\n"
          ]
        }
      ]
    },
    {
      "cell_type": "code",
      "source": [
        "model1.summary()"
      ],
      "metadata": {
        "colab": {
          "base_uri": "https://localhost:8080/"
        },
        "id": "yvYe71N92vHF",
        "outputId": "de5bc01c-acdb-4fca-a766-57c4f161c2b2"
      },
      "execution_count": 16,
      "outputs": [
        {
          "output_type": "stream",
          "name": "stdout",
          "text": [
            "Model: \"model\"\n",
            "_________________________________________________________________\n",
            " Layer (type)                Output Shape              Param #   \n",
            "=================================================================\n",
            " input_layer (InputLayer)    [(None, 224, 224, 3)]     0         \n",
            "                                                                 \n",
            " efficientnetb0 (Functional)  (None, None, None, 1280)  4049571  \n",
            "                                                                 \n",
            " global_average_pooling2d (G  (None, 1280)             0         \n",
            " lobalAveragePooling2D)                                          \n",
            "                                                                 \n",
            " output_layer (Dense)        (None, 10)                12810     \n",
            "                                                                 \n",
            "=================================================================\n",
            "Total params: 4,062,381\n",
            "Trainable params: 12,810\n",
            "Non-trainable params: 4,049,571\n",
            "_________________________________________________________________\n"
          ]
        }
      ]
    },
    {
      "cell_type": "code",
      "source": [
        "pd.DataFrame(history1.history).plot(figsize=(10, 7))"
      ],
      "metadata": {
        "colab": {
          "base_uri": "https://localhost:8080/",
          "height": 616
        },
        "id": "6d_PLZ9R0Lmy",
        "outputId": "7815edf7-dda9-4d7c-8604-5ea8a9305529"
      },
      "execution_count": 17,
      "outputs": [
        {
          "output_type": "execute_result",
          "data": {
            "text/plain": [
              "<Axes: >"
            ]
          },
          "metadata": {},
          "execution_count": 17
        },
        {
          "output_type": "display_data",
          "data": {
            "text/plain": [
              "<Figure size 1000x700 with 1 Axes>"
            ],
            "image/png": "[encoded data removed]"
          },
          "metadata": {}
        }
      ]
    },
    {
      "cell_type": "code",
      "source": [
        "!wget https://storage.googleapis.com/ztm_tf_course/food_vision/10_food_classes_1_percent.zip"
      ],
      "metadata": {
        "colab": {
          "base_uri": "https://localhost:8080/"
        },
        "id": "co-RL_9K00W9",
        "outputId": "3b65b176-0aca-40e7-c0d9-f3e688c167ec"
      },
      "execution_count": 18,
      "outputs": [
        {
          "output_type": "stream",
          "name": "stdout",
          "text": [
            "--2023-04-01 00:35:42--  https://storage.googleapis.com/ztm_tf_course/food_vision/10_food_classes_1_percent.zip\n",
            "Resolving storage.googleapis.com (storage.googleapis.com)... 74.125.195.128, 142.250.99.128, 142.250.107.128, ...\n",
            "Connecting to storage.googleapis.com (storage.googleapis.com)|74.125.195.128|:443... connected.\n",
            "HTTP request sent, awaiting response... 200 OK\n",
            "Length: 133612354 (127M) [application/zip]\n",
            "Saving to: ‘10_food_classes_1_percent.zip’\n",
            "\n",
            "10_food_classes_1_p 100%[===================>] 127.42M   131MB/s    in 1.0s    \n",
            "\n",
            "2023-04-01 00:35:43 (131 MB/s) - ‘10_food_classes_1_percent.zip’ saved [133612354/133612354]\n",
            "\n"
          ]
        }
      ]
    },
    {
      "cell_type": "code",
      "source": [
        "unzip_data(\"/content/10_food_classes_1_percent.zip\")"
      ],
      "metadata": {
        "id": "FvTqw0W2HhIA"
      },
      "execution_count": 19,
      "outputs": []
    },
    {
      "cell_type": "code",
      "source": [
        "train_dir_1_percent = \"/content/10_food_classes_1_percent/train\"\n",
        "test_dir_1_percent = \"/content/10_food_classes_1_percent/test\""
      ],
      "metadata": {
        "id": "Gycsr_GsHpNP"
      },
      "execution_count": 20,
      "outputs": []
    },
    {
      "cell_type": "code",
      "source": [
        "train_data_1_percent = image_dataset_from_directory(train_dir_1_percent,\n",
        "                                                    image_size = IMAGE_SIZE,\n",
        "                                                    label_mode = \"categorical\",\n",
        "                                                    batch_size = 32)\n",
        "\n",
        "test_data_1_percent = image_dataset_from_directory(test_dir_1_percent,\n",
        "                                         image_size = IMAGE_SIZE,\n",
        "                                         label_mode = \"categorical\",\n",
        "                                         batch_size = 32)"
      ],
      "metadata": {
        "colab": {
          "base_uri": "https://localhost:8080/"
        },
        "id": "B3NQzTT-H0vu",
        "outputId": "a97c21ce-c061-4ac8-eff1-226c8816b4b5"
      },
      "execution_count": 21,
      "outputs": [
        {
          "output_type": "stream",
          "name": "stdout",
          "text": [
            "Found 70 files belonging to 10 classes.\n",
            "Found 2500 files belonging to 10 classes.\n"
          ]
        }
      ]
    },
    {
      "cell_type": "code",
      "source": [
        "data_aug_model = Sequential([\n",
        "    tf.keras.layers.RandomFlip(\"horizontal\"),\n",
        "    tf.keras.layers.RandomRotation(0.2),\n",
        "    tf.keras.layers.RandomZoom(0.2),\n",
        "    tf.keras.layers.RandomHeight(0.2),\n",
        "    tf.keras.layers.RandomWidth(0.2),\n",
        "    # tf.keras.layers.Rescale(1./255), # not needed for efficientnet\n",
        "], name = \"data_augmentation\")"
      ],
      "metadata": {
        "id": "Rh9U58K4I7mP"
      },
      "execution_count": 22,
      "outputs": []
    },
    {
      "cell_type": "code",
      "source": [
        "base_model = tf.keras.applications.EfficientNetB0(include_top=False)\n",
        "base_model.trainable = False\n",
        "inputs = Input(shape = INPUT_SHAPE)\n",
        "x = data_aug_model(inputs, training = True)\n",
        "x = base_model(x, training = False)\n",
        "x = tf.keras.layers.GlobalAveragePooling2D()(x)\n",
        "outputs = Dense(10, activation=\"softmax\")(x)\n",
        "\n",
        "model2 = tf.keras.Model(inputs, outputs)\n",
        "model2.compile(loss = categorical_crossentropy,\n",
        "               optimizer = Adam(),\n",
        "               metrics = [\"accuracy\"])\n",
        "\n",
        "history2 = model2.fit(train_data_1_percent, epochs=5, steps_per_epoch=len(train_data_1_percent), validation_data=test_data_1_percent, validation_steps=int(0.25*len(test_data_1_percent)))"
      ],
      "metadata": {
        "colab": {
          "base_uri": "https://localhost:8080/"
        },
        "id": "GpXS7M2mUc-H",
        "outputId": "226825ed-835b-4b36-c6a5-6914c31cf64e"
      },
      "execution_count": 23,
      "outputs": [
        {
          "output_type": "stream",
          "name": "stdout",
          "text": [
            "Epoch 1/5\n",
            "3/3 [==============================] - 23s 7s/step - loss: 2.4677 - accuracy: 0.0143 - val_loss: 2.3458 - val_accuracy: 0.1151\n",
            "Epoch 2/5\n",
            "3/3 [==============================] - 10s 5s/step - loss: 2.2177 - accuracy: 0.0714 - val_loss: 2.2136 - val_accuracy: 0.1957\n",
            "Epoch 3/5\n",
            "3/3 [==============================] - 9s 4s/step - loss: 2.0186 - accuracy: 0.2857 - val_loss: 2.0976 - val_accuracy: 0.2401\n",
            "Epoch 4/5\n",
            "3/3 [==============================] - 9s 4s/step - loss: 1.8622 - accuracy: 0.3857 - val_loss: 2.0223 - val_accuracy: 0.2878\n",
            "Epoch 5/5\n",
            "3/3 [==============================] - 8s 4s/step - loss: 1.6595 - accuracy: 0.6429 - val_loss: 1.9284 - val_accuracy: 0.3586\n"
          ]
        }
      ]
    },
    {
      "cell_type": "code",
      "source": [
        "model2.summary()"
      ],
      "metadata": {
        "colab": {
          "base_uri": "https://localhost:8080/"
        },
        "id": "DcULCJtHdhs1",
        "outputId": "e98d995f-0fdb-433e-a757-534e024539c6"
      },
      "execution_count": 24,
      "outputs": [
        {
          "output_type": "stream",
          "name": "stdout",
          "text": [
            "Model: \"model_1\"\n",
            "_________________________________________________________________\n",
            " Layer (type)                Output Shape              Param #   \n",
            "=================================================================\n",
            " input_3 (InputLayer)        [(None, 224, 224, 3)]     0         \n",
            "                                                                 \n",
            " data_augmentation (Sequenti  (None, None, None, 3)    0         \n",
            " al)                                                             \n",
            "                                                                 \n",
            " efficientnetb0 (Functional)  (None, None, None, 1280)  4049571  \n",
            "                                                                 \n",
            " global_average_pooling2d_1   (None, 1280)             0         \n",
            " (GlobalAveragePooling2D)                                        \n",
            "                                                                 \n",
            " dense (Dense)               (None, 10)                12810     \n",
            "                                                                 \n",
            "=================================================================\n",
            "Total params: 4,062,381\n",
            "Trainable params: 12,810\n",
            "Non-trainable params: 4,049,571\n",
            "_________________________________________________________________\n"
          ]
        }
      ]
    },
    {
      "cell_type": "code",
      "source": [
        "model2.evaluate(test_data_1_percent)"
      ],
      "metadata": {
        "colab": {
          "base_uri": "https://localhost:8080/"
        },
        "id": "DGncwhjfdjy_",
        "outputId": "1401b5be-0ffd-42f7-c280-d50028ef88a5"
      },
      "execution_count": 25,
      "outputs": [
        {
          "output_type": "stream",
          "name": "stdout",
          "text": [
            "79/79 [==============================] - 27s 333ms/step - loss: 1.9178 - accuracy: 0.3756\n"
          ]
        },
        {
          "output_type": "execute_result",
          "data": {
            "text/plain": [
              "[1.9178394079208374, 0.37560001015663147]"
            ]
          },
          "metadata": {},
          "execution_count": 25
        }
      ]
    },
    {
      "cell_type": "code",
      "source": [
        "plot_loss_curves(history2)"
      ],
      "metadata": {
        "colab": {
          "base_uri": "https://localhost:8080/",
          "height": 927
        },
        "id": "rW3Q3nxRdo56",
        "outputId": "4b9dd647-811e-42cc-bd4f-5dbd13d111f5"
      },
      "execution_count": 26,
      "outputs": [
        {
          "output_type": "display_data",
          "data": {
            "text/plain": [
              "<Figure size 640x480 with 1 Axes>"
            ],
            "image/png": "[encoded data removed]"
          },
          "metadata": {}
        },
        {
          "output_type": "display_data",
          "data": {
            "text/plain": [
              "<Figure size 640x480 with 1 Axes>"
            ],
            "image/png": "[encoded data removed]"
          },
          "metadata": {}
        }
      ]
    },
    {
      "cell_type": "code",
      "source": [
        "# model 3\n",
        "base_model = tf.keras.applications.EfficientNetB0(include_top=False)\n",
        "base_model.trainable = False\n",
        "\n",
        "data_aug_model = Sequential([\n",
        "    tf.keras.layers.RandomFlip(\"horizontal\"),\n",
        "    tf.keras.layers.RandomZoom(0.2),\n",
        "    tf.keras.layers.RandomHeight(0.2),\n",
        "    tf.keras.layers.RandomWidth(0.2),\n",
        "    tf.keras.layers.RandomRotation(0.2),\n",
        "])\n",
        "\n",
        "inputs = Input(shape = INPUT_SHAPE)\n",
        "x = data_aug_model(inputs, training = True),\n",
        "x = base_model(x, training = False)\n",
        "x = tf.keras.layers.GlobalAveragePooling2D()(x)\n",
        "outputs = Dense(10, activation = \"softmax\")(x)\n",
        "\n",
        "model3 = tf.keras.Model(inputs, outputs)\n",
        "model3.compile(loss = categorical_crossentropy,\n",
        "               optimizer = Adam(),\n",
        "               metrics = [\"accuracy\"])\n",
        "\n",
        "history3 = model3.fit(train_data_10percent, \n",
        "                      epochs=5, \n",
        "                      steps_per_epoch=len(train_data_10percent), \n",
        "                      validation_data=test_data_10percent, \n",
        "                      validation_steps=int(0.25*len(test_data_10percent)),\n",
        "                      callbacks=[tf.keras.callbacks.ModelCheckpoint(\n",
        "                                                         filepath=\"model3_checkpoint\",\n",
        "                                                         save_weights_only=True,\n",
        "                                                         save_best_only=False,\n",
        "                                                         save_freq=\"epoch\",\n",
        "                                                         verbose=1)])"
      ],
      "metadata": {
        "colab": {
          "base_uri": "https://localhost:8080/"
        },
        "id": "pWK6oeqCdupI",
        "outputId": "c6d62cb4-b00b-47c8-8c6c-3bbed73af94d"
      },
      "execution_count": 27,
      "outputs": [
        {
          "output_type": "stream",
          "name": "stdout",
          "text": [
            "Epoch 1/5\n",
            "24/24 [==============================] - ETA: 0s - loss: 1.9619 - accuracy: 0.3507\n",
            "Epoch 1: saving model to model3_checkpoint\n",
            "24/24 [==============================] - 23s 682ms/step - loss: 1.9619 - accuracy: 0.3507 - val_loss: 1.4870 - val_accuracy: 0.6513\n",
            "Epoch 2/5\n",
            "24/24 [==============================] - ETA: 0s - loss: 1.3074 - accuracy: 0.7107\n",
            "Epoch 2: saving model to model3_checkpoint\n",
            "24/24 [==============================] - 13s 554ms/step - loss: 1.3074 - accuracy: 0.7107 - val_loss: 1.0819 - val_accuracy: 0.7697\n",
            "Epoch 3/5\n",
            "24/24 [==============================] - ETA: 0s - loss: 0.9799 - accuracy: 0.7800\n",
            "Epoch 3: saving model to model3_checkpoint\n",
            "24/24 [==============================] - 13s 512ms/step - loss: 0.9799 - accuracy: 0.7800 - val_loss: 0.8707 - val_accuracy: 0.8026\n",
            "Epoch 4/5\n",
            "24/24 [==============================] - ETA: 0s - loss: 0.8263 - accuracy: 0.8080\n",
            "Epoch 4: saving model to model3_checkpoint\n",
            "24/24 [==============================] - 17s 725ms/step - loss: 0.8263 - accuracy: 0.8080 - val_loss: 0.8050 - val_accuracy: 0.7911\n",
            "Epoch 5/5\n",
            "24/24 [==============================] - ETA: 0s - loss: 0.7447 - accuracy: 0.8293\n",
            "Epoch 5: saving model to model3_checkpoint\n",
            "24/24 [==============================] - 13s 526ms/step - loss: 0.7447 - accuracy: 0.8293 - val_loss: 0.7198 - val_accuracy: 0.8207\n"
          ]
        }
      ]
    },
    {
      "cell_type": "code",
      "source": [
        "model3.evaluate(test_data_10percent)"
      ],
      "metadata": {
        "colab": {
          "base_uri": "https://localhost:8080/"
        },
        "id": "KgL7ET0VfmIP",
        "outputId": "5752a84f-8636-4ad6-e5be-9b8cca1b25ce"
      },
      "execution_count": 28,
      "outputs": [
        {
          "output_type": "stream",
          "name": "stdout",
          "text": [
            "79/79 [==============================] - 20s 240ms/step - loss: 0.7539 - accuracy: 0.8008\n"
          ]
        },
        {
          "output_type": "execute_result",
          "data": {
            "text/plain": [
              "[0.7539339065551758, 0.8008000254631042]"
            ]
          },
          "metadata": {},
          "execution_count": 28
        }
      ]
    },
    {
      "cell_type": "code",
      "source": [
        "plot_loss_curves(history3)"
      ],
      "metadata": {
        "colab": {
          "base_uri": "https://localhost:8080/",
          "height": 927
        },
        "id": "eBLsv61_pF_I",
        "outputId": "a94164b7-8091-49ee-b189-a58a78dc13ae"
      },
      "execution_count": 29,
      "outputs": [
        {
          "output_type": "display_data",
          "data": {
            "text/plain": [
              "<Figure size 640x480 with 1 Axes>"
            ],
            "image/png": "[encoded data removed]"
          },
          "metadata": {}
        },
        {
          "output_type": "display_data",
          "data": {
            "text/plain": [
              "<Figure size 640x480 with 1 Axes>"
            ],
            "image/png": "[encoded data removed]"
          },
          "metadata": {}
        }
      ]
    },
    {
      "cell_type": "code",
      "source": [
        "# model 4\n",
        "base_model.trainable = False\n",
        "\n",
        "inputs = Input(shape = INPUT_SHAPE)\n",
        "x = data_aug_model(inputs, training = True),\n",
        "x = base_model(x, training = False)\n",
        "x = tf.keras.layers.GlobalAveragePooling2D()(x)\n",
        "outputs = Dense(10, activation = \"softmax\")(x)\n",
        "\n",
        "model4 = tf.keras.Model(inputs, outputs)\n",
        "\n",
        "\n",
        "model4.compile(loss = categorical_crossentropy,\n",
        "               optimizer = Adam(),\n",
        "               metrics = [\"accuracy\"])\n",
        "model4.load_weights(\"model3_checkpoint\")\n"
      ],
      "metadata": {
        "id": "DSE92UgfpYUr",
        "colab": {
          "base_uri": "https://localhost:8080/"
        },
        "outputId": "196ec9de-398f-458b-8fa9-ab7e5b55f3b8"
      },
      "execution_count": 30,
      "outputs": [
        {
          "output_type": "execute_result",
          "data": {
            "text/plain": [
              "<tensorflow.python.checkpoint.checkpoint.CheckpointLoadStatus at 0x7f4e10582430>"
            ]
          },
          "metadata": {},
          "execution_count": 30
        }
      ]
    },
    {
      "cell_type": "code",
      "source": [
        "base_model.trainable = True\n",
        "for layer in base_model.layers[:-10]:\n",
        "  layer.trainable = False\n",
        "\n",
        "# for i, layer in enumerate(base_model.layers):\n",
        "#   print(i, layer, layer.trainable)\n",
        "\n",
        "model4.compile(loss = categorical_crossentropy,\n",
        "               optimizer = Adam(learning_rate = 0.0001),\n",
        "               metrics = [\"accuracy\"])\n",
        "\n",
        "fine_tune_epochs = 10 # initial(5) + 5\n",
        "\n",
        "history4 = model4.fit(train_data_10percent, \n",
        "                      epochs=fine_tune_epochs, \n",
        "                      steps_per_epoch=len(train_data_10percent), \n",
        "                      validation_data=test_data_10percent, \n",
        "                      validation_steps=int(0.25*len(test_data_10percent)),\n",
        "                      callbacks=[tf.keras.callbacks.ModelCheckpoint(\n",
        "                                                         filepath=\"model4_checkpoint\",\n",
        "                                                         save_weights_only=True,\n",
        "                                                         save_best_only=False,\n",
        "                                                         save_freq=\"epoch\",\n",
        "                                                         verbose=1)],\n",
        "                      initial_epoch = history3.epoch[-1])"
      ],
      "metadata": {
        "colab": {
          "base_uri": "https://localhost:8080/"
        },
        "id": "rMXBEFXDZxuO",
        "outputId": "efdf95af-8c80-4760-986f-dc5ea5e7ea7e"
      },
      "execution_count": 31,
      "outputs": [
        {
          "output_type": "stream",
          "name": "stdout",
          "text": [
            "Epoch 5/10\n",
            "24/24 [==============================] - ETA: 0s - loss: 0.6325 - accuracy: 0.8200\n",
            "Epoch 5: saving model to model4_checkpoint\n",
            "24/24 [==============================] - 25s 581ms/step - loss: 0.6325 - accuracy: 0.8200 - val_loss: 0.6002 - val_accuracy: 0.8092\n",
            "Epoch 6/10\n",
            "24/24 [==============================] - ETA: 0s - loss: 0.4918 - accuracy: 0.8693\n",
            "Epoch 6: saving model to model4_checkpoint\n",
            "24/24 [==============================] - 18s 731ms/step - loss: 0.4918 - accuracy: 0.8693 - val_loss: 0.5584 - val_accuracy: 0.8207\n",
            "Epoch 7/10\n",
            "24/24 [==============================] - ETA: 0s - loss: 0.4287 - accuracy: 0.8853\n",
            "Epoch 7: saving model to model4_checkpoint\n",
            "24/24 [==============================] - 14s 526ms/step - loss: 0.4287 - accuracy: 0.8853 - val_loss: 0.5838 - val_accuracy: 0.8141\n",
            "Epoch 8/10\n",
            "24/24 [==============================] - ETA: 0s - loss: 0.3829 - accuracy: 0.8973\n",
            "Epoch 8: saving model to model4_checkpoint\n",
            "24/24 [==============================] - 12s 490ms/step - loss: 0.3829 - accuracy: 0.8973 - val_loss: 0.5661 - val_accuracy: 0.8207\n",
            "Epoch 9/10\n",
            "24/24 [==============================] - ETA: 0s - loss: 0.3687 - accuracy: 0.8893\n",
            "Epoch 9: saving model to model4_checkpoint\n",
            "24/24 [==============================] - 11s 443ms/step - loss: 0.3687 - accuracy: 0.8893 - val_loss: 0.5766 - val_accuracy: 0.8109\n",
            "Epoch 10/10\n",
            "24/24 [==============================] - ETA: 0s - loss: 0.3034 - accuracy: 0.9200\n",
            "Epoch 10: saving model to model4_checkpoint\n",
            "24/24 [==============================] - 11s 469ms/step - loss: 0.3034 - accuracy: 0.9200 - val_loss: 0.4988 - val_accuracy: 0.8536\n"
          ]
        }
      ]
    },
    {
      "cell_type": "code",
      "source": [],
      "metadata": {
        "id": "SDOMd0rheDBy"
      },
      "execution_count": 31,
      "outputs": []
    },
    {
      "cell_type": "code",
      "source": [
        "model4.summary()"
      ],
      "metadata": {
        "colab": {
          "base_uri": "https://localhost:8080/"
        },
        "id": "2AXr6Y_HbQoC",
        "outputId": "82cff42e-1700-429e-d412-539810a946eb"
      },
      "execution_count": 32,
      "outputs": [
        {
          "output_type": "stream",
          "name": "stdout",
          "text": [
            "Model: \"model_3\"\n",
            "_________________________________________________________________\n",
            " Layer (type)                Output Shape              Param #   \n",
            "=================================================================\n",
            " input_6 (InputLayer)        [(None, 224, 224, 3)]     0         \n",
            "                                                                 \n",
            " sequential (Sequential)     (None, None, None, 3)     0         \n",
            "                                                                 \n",
            " efficientnetb0 (Functional)  (None, None, None, 1280)  4049571  \n",
            "                                                                 \n",
            " global_average_pooling2d_3   (None, 1280)             0         \n",
            " (GlobalAveragePooling2D)                                        \n",
            "                                                                 \n",
            " dense_2 (Dense)             (None, 10)                12810     \n",
            "                                                                 \n",
            "=================================================================\n",
            "Total params: 4,062,381\n",
            "Trainable params: 906,042\n",
            "Non-trainable params: 3,156,339\n",
            "_________________________________________________________________\n"
          ]
        }
      ]
    },
    {
      "cell_type": "code",
      "source": [
        "plot_loss_curves(history4)"
      ],
      "metadata": {
        "colab": {
          "base_uri": "https://localhost:8080/",
          "height": 927
        },
        "id": "qwFQKATJcKz1",
        "outputId": "67147559-467d-48a3-d7ef-3494264fece4"
      },
      "execution_count": 33,
      "outputs": [
        {
          "output_type": "display_data",
          "data": {
            "text/plain": [
              "<Figure size 640x480 with 1 Axes>"
            ],
            "image/png": "[encoded data removed]"
          },
          "metadata": {}
        },
        {
          "output_type": "display_data",
          "data": {
            "text/plain": [
              "<Figure size 640x480 with 1 Axes>"
            ],
            "image/png": "[encoded data removed]"
          },
          "metadata": {}
        }
      ]
    },
    {
      "cell_type": "code",
      "source": [
        "model4.evaluate(test_data_10percent)"
      ],
      "metadata": {
        "colab": {
          "base_uri": "https://localhost:8080/"
        },
        "id": "5YDP9_u9dNbN",
        "outputId": "1e5407d4-c1f4-4f7b-c9c5-92799c2edb83"
      },
      "execution_count": 34,
      "outputs": [
        {
          "output_type": "stream",
          "name": "stdout",
          "text": [
            "79/79 [==============================] - 17s 205ms/step - loss: 0.5503 - accuracy: 0.8164\n"
          ]
        },
        {
          "output_type": "execute_result",
          "data": {
            "text/plain": [
              "[0.5503450632095337, 0.8163999915122986]"
            ]
          },
          "metadata": {},
          "execution_count": 34
        }
      ]
    },
    {
      "cell_type": "code",
      "source": [
        "! wget https://storage.googleapis.com/ztm_tf_course/food_vision/10_food_classes_all_data.zip"
      ],
      "metadata": {
        "colab": {
          "base_uri": "https://localhost:8080/"
        },
        "id": "bSv6hQ5RdRnq",
        "outputId": "3c0418fd-fc30-45c8-f6f9-37395706ecbb"
      },
      "execution_count": 35,
      "outputs": [
        {
          "output_type": "stream",
          "name": "stdout",
          "text": [
            "--2023-04-01 00:41:39--  https://storage.googleapis.com/ztm_tf_course/food_vision/10_food_classes_all_data.zip\n",
            "Resolving storage.googleapis.com (storage.googleapis.com)... 74.125.195.128, 172.253.117.128, 142.250.99.128, ...\n",
            "Connecting to storage.googleapis.com (storage.googleapis.com)|74.125.195.128|:443... connected.\n",
            "HTTP request sent, awaiting response... 200 OK\n",
            "Length: 519183241 (495M) [application/zip]\n",
            "Saving to: ‘10_food_classes_all_data.zip’\n",
            "\n",
            "10_food_classes_all 100%[===================>] 495.13M   151MB/s    in 3.4s    \n",
            "\n",
            "2023-04-01 00:41:42 (148 MB/s) - ‘10_food_classes_all_data.zip’ saved [519183241/519183241]\n",
            "\n"
          ]
        }
      ]
    },
    {
      "cell_type": "code",
      "source": [
        "unzip_data(\"/content/10_food_classes_all_data.zip\")"
      ],
      "metadata": {
        "id": "LeNDCYelBruM"
      },
      "execution_count": 36,
      "outputs": []
    },
    {
      "cell_type": "code",
      "source": [
        "train_full_dir = \"/content/10_food_classes_all_data/train\"\n",
        "test_dir = \"/content/10_food_classes_all_data/test\""
      ],
      "metadata": {
        "id": "DpuD9wiaBzXt"
      },
      "execution_count": 37,
      "outputs": []
    },
    {
      "cell_type": "code",
      "source": [
        "train_data_full = image_dataset_from_directory(train_full_dir, \n",
        "                                               image_size = IMAGE_SIZE,\n",
        "                                               label_mode = \"categorical\",\n",
        "                                               batch_size = 32)\n",
        "\n",
        "test_data = image_dataset_from_directory(test_dir, \n",
        "                                               image_size = IMAGE_SIZE,\n",
        "                                               label_mode = \"categorical\",\n",
        "                                               batch_size = 32)"
      ],
      "metadata": {
        "colab": {
          "base_uri": "https://localhost:8080/"
        },
        "id": "8EA4M240B88i",
        "outputId": "4dd13e83-51ec-462e-d97a-51219cc5b843"
      },
      "execution_count": 38,
      "outputs": [
        {
          "output_type": "stream",
          "name": "stdout",
          "text": [
            "Found 7500 files belonging to 10 classes.\n",
            "Found 2500 files belonging to 10 classes.\n"
          ]
        }
      ]
    },
    {
      "cell_type": "code",
      "source": [
        "model5 = model3\n",
        "model5.load_weights(\"model3_checkpoint\")"
      ],
      "metadata": {
        "colab": {
          "base_uri": "https://localhost:8080/"
        },
        "id": "fJozVcd8Chfd",
        "outputId": "6925d55b-0a15-4ffd-f693-2c93a1097834"
      },
      "execution_count": 39,
      "outputs": [
        {
          "output_type": "execute_result",
          "data": {
            "text/plain": [
              "<tensorflow.python.checkpoint.checkpoint.CheckpointLoadStatus at 0x7f4e27d99a60>"
            ]
          },
          "metadata": {},
          "execution_count": 39
        }
      ]
    },
    {
      "cell_type": "code",
      "source": [
        "model5.evaluate(test_data)"
      ],
      "metadata": {
        "colab": {
          "base_uri": "https://localhost:8080/"
        },
        "id": "I3SPwNthGtGk",
        "outputId": "d0eb462b-aa8f-41c7-f284-ac5fdf753174"
      },
      "execution_count": 40,
      "outputs": [
        {
          "output_type": "stream",
          "name": "stdout",
          "text": [
            "79/79 [==============================] - 16s 199ms/step - loss: 0.7628 - accuracy: 0.7992\n"
          ]
        },
        {
          "output_type": "execute_result",
          "data": {
            "text/plain": [
              "[0.7627929449081421, 0.7991999983787537]"
            ]
          },
          "metadata": {},
          "execution_count": 40
        }
      ]
    },
    {
      "cell_type": "code",
      "source": [
        "model5.summary()"
      ],
      "metadata": {
        "colab": {
          "base_uri": "https://localhost:8080/"
        },
        "id": "D1FfYGExG47O",
        "outputId": "b2aa41ce-f4a1-4897-8f00-c160c189ee28"
      },
      "execution_count": 41,
      "outputs": [
        {
          "output_type": "stream",
          "name": "stdout",
          "text": [
            "Model: \"model_2\"\n",
            "_________________________________________________________________\n",
            " Layer (type)                Output Shape              Param #   \n",
            "=================================================================\n",
            " input_5 (InputLayer)        [(None, 224, 224, 3)]     0         \n",
            "                                                                 \n",
            " sequential (Sequential)     (None, None, None, 3)     0         \n",
            "                                                                 \n",
            " efficientnetb0 (Functional)  (None, None, None, 1280)  4049571  \n",
            "                                                                 \n",
            " global_average_pooling2d_2   (None, 1280)             0         \n",
            " (GlobalAveragePooling2D)                                        \n",
            "                                                                 \n",
            " dense_1 (Dense)             (None, 10)                12810     \n",
            "                                                                 \n",
            "=================================================================\n",
            "Total params: 4,062,381\n",
            "Trainable params: 906,042\n",
            "Non-trainable params: 3,156,339\n",
            "_________________________________________________________________\n"
          ]
        }
      ]
    },
    {
      "cell_type": "code",
      "source": [
        "for i, layer in enumerate(model5.layers):\n",
        "  print(i, layer.name, layer.trainable)"
      ],
      "metadata": {
        "colab": {
          "base_uri": "https://localhost:8080/"
        },
        "id": "zpmwY_yTIlKB",
        "outputId": "417a534c-aafe-4818-c832-5a394973b719"
      },
      "execution_count": 42,
      "outputs": [
        {
          "output_type": "stream",
          "name": "stdout",
          "text": [
            "0 input_5 True\n",
            "1 sequential True\n",
            "2 efficientnetb0 True\n",
            "3 global_average_pooling2d_2 True\n",
            "4 dense_1 True\n"
          ]
        }
      ]
    },
    {
      "cell_type": "code",
      "source": [
        "model5.layers[2].trainable=True"
      ],
      "metadata": {
        "id": "0gl3_8eZJN57"
      },
      "execution_count": 43,
      "outputs": []
    },
    {
      "cell_type": "code",
      "source": [
        "for i, layer in enumerate(model5.layers[2].layers):\n",
        "  print(i, layer.name, layer.trainable)"
      ],
      "metadata": {
        "colab": {
          "base_uri": "https://localhost:8080/"
        },
        "id": "kl0fe70kItZ7",
        "outputId": "f8dbec82-9b2c-470e-cdce-901a186c2e81"
      },
      "execution_count": 44,
      "outputs": [
        {
          "output_type": "stream",
          "name": "stdout",
          "text": [
            "0 input_4 True\n",
            "1 rescaling_4 True\n",
            "2 normalization_2 True\n",
            "3 rescaling_5 True\n",
            "4 stem_conv_pad True\n",
            "5 stem_conv True\n",
            "6 stem_bn True\n",
            "7 stem_activation True\n",
            "8 block1a_dwconv True\n",
            "9 block1a_bn True\n",
            "10 block1a_activation True\n",
            "11 block1a_se_squeeze True\n",
            "12 block1a_se_reshape True\n",
            "13 block1a_se_reduce True\n",
            "14 block1a_se_expand True\n",
            "15 block1a_se_excite True\n",
            "16 block1a_project_conv True\n",
            "17 block1a_project_bn True\n",
            "18 block2a_expand_conv True\n",
            "19 block2a_expand_bn True\n",
            "20 block2a_expand_activation True\n",
            "21 block2a_dwconv_pad True\n",
            "22 block2a_dwconv True\n",
            "23 block2a_bn True\n",
            "24 block2a_activation True\n",
            "25 block2a_se_squeeze True\n",
            "26 block2a_se_reshape True\n",
            "27 block2a_se_reduce True\n",
            "28 block2a_se_expand True\n",
            "29 block2a_se_excite True\n",
            "30 block2a_project_conv True\n",
            "31 block2a_project_bn True\n",
            "32 block2b_expand_conv True\n",
            "33 block2b_expand_bn True\n",
            "34 block2b_expand_activation True\n",
            "35 block2b_dwconv True\n",
            "36 block2b_bn True\n",
            "37 block2b_activation True\n",
            "38 block2b_se_squeeze True\n",
            "39 block2b_se_reshape True\n",
            "40 block2b_se_reduce True\n",
            "41 block2b_se_expand True\n",
            "42 block2b_se_excite True\n",
            "43 block2b_project_conv True\n",
            "44 block2b_project_bn True\n",
            "45 block2b_drop True\n",
            "46 block2b_add True\n",
            "47 block3a_expand_conv True\n",
            "48 block3a_expand_bn True\n",
            "49 block3a_expand_activation True\n",
            "50 block3a_dwconv_pad True\n",
            "51 block3a_dwconv True\n",
            "52 block3a_bn True\n",
            "53 block3a_activation True\n",
            "54 block3a_se_squeeze True\n",
            "55 block3a_se_reshape True\n",
            "56 block3a_se_reduce True\n",
            "57 block3a_se_expand True\n",
            "58 block3a_se_excite True\n",
            "59 block3a_project_conv True\n",
            "60 block3a_project_bn True\n",
            "61 block3b_expand_conv True\n",
            "62 block3b_expand_bn True\n",
            "63 block3b_expand_activation True\n",
            "64 block3b_dwconv True\n",
            "65 block3b_bn True\n",
            "66 block3b_activation True\n",
            "67 block3b_se_squeeze True\n",
            "68 block3b_se_reshape True\n",
            "69 block3b_se_reduce True\n",
            "70 block3b_se_expand True\n",
            "71 block3b_se_excite True\n",
            "72 block3b_project_conv True\n",
            "73 block3b_project_bn True\n",
            "74 block3b_drop True\n",
            "75 block3b_add True\n",
            "76 block4a_expand_conv True\n",
            "77 block4a_expand_bn True\n",
            "78 block4a_expand_activation True\n",
            "79 block4a_dwconv_pad True\n",
            "80 block4a_dwconv True\n",
            "81 block4a_bn True\n",
            "82 block4a_activation True\n",
            "83 block4a_se_squeeze True\n",
            "84 block4a_se_reshape True\n",
            "85 block4a_se_reduce True\n",
            "86 block4a_se_expand True\n",
            "87 block4a_se_excite True\n",
            "88 block4a_project_conv True\n",
            "89 block4a_project_bn True\n",
            "90 block4b_expand_conv True\n",
            "91 block4b_expand_bn True\n",
            "92 block4b_expand_activation True\n",
            "93 block4b_dwconv True\n",
            "94 block4b_bn True\n",
            "95 block4b_activation True\n",
            "96 block4b_se_squeeze True\n",
            "97 block4b_se_reshape True\n",
            "98 block4b_se_reduce True\n",
            "99 block4b_se_expand True\n",
            "100 block4b_se_excite True\n",
            "101 block4b_project_conv True\n",
            "102 block4b_project_bn True\n",
            "103 block4b_drop True\n",
            "104 block4b_add True\n",
            "105 block4c_expand_conv True\n",
            "106 block4c_expand_bn True\n",
            "107 block4c_expand_activation True\n",
            "108 block4c_dwconv True\n",
            "109 block4c_bn True\n",
            "110 block4c_activation True\n",
            "111 block4c_se_squeeze True\n",
            "112 block4c_se_reshape True\n",
            "113 block4c_se_reduce True\n",
            "114 block4c_se_expand True\n",
            "115 block4c_se_excite True\n",
            "116 block4c_project_conv True\n",
            "117 block4c_project_bn True\n",
            "118 block4c_drop True\n",
            "119 block4c_add True\n",
            "120 block5a_expand_conv True\n",
            "121 block5a_expand_bn True\n",
            "122 block5a_expand_activation True\n",
            "123 block5a_dwconv True\n",
            "124 block5a_bn True\n",
            "125 block5a_activation True\n",
            "126 block5a_se_squeeze True\n",
            "127 block5a_se_reshape True\n",
            "128 block5a_se_reduce True\n",
            "129 block5a_se_expand True\n",
            "130 block5a_se_excite True\n",
            "131 block5a_project_conv True\n",
            "132 block5a_project_bn True\n",
            "133 block5b_expand_conv True\n",
            "134 block5b_expand_bn True\n",
            "135 block5b_expand_activation True\n",
            "136 block5b_dwconv True\n",
            "137 block5b_bn True\n",
            "138 block5b_activation True\n",
            "139 block5b_se_squeeze True\n",
            "140 block5b_se_reshape True\n",
            "141 block5b_se_reduce True\n",
            "142 block5b_se_expand True\n",
            "143 block5b_se_excite True\n",
            "144 block5b_project_conv True\n",
            "145 block5b_project_bn True\n",
            "146 block5b_drop True\n",
            "147 block5b_add True\n",
            "148 block5c_expand_conv True\n",
            "149 block5c_expand_bn True\n",
            "150 block5c_expand_activation True\n",
            "151 block5c_dwconv True\n",
            "152 block5c_bn True\n",
            "153 block5c_activation True\n",
            "154 block5c_se_squeeze True\n",
            "155 block5c_se_reshape True\n",
            "156 block5c_se_reduce True\n",
            "157 block5c_se_expand True\n",
            "158 block5c_se_excite True\n",
            "159 block5c_project_conv True\n",
            "160 block5c_project_bn True\n",
            "161 block5c_drop True\n",
            "162 block5c_add True\n",
            "163 block6a_expand_conv True\n",
            "164 block6a_expand_bn True\n",
            "165 block6a_expand_activation True\n",
            "166 block6a_dwconv_pad True\n",
            "167 block6a_dwconv True\n",
            "168 block6a_bn True\n",
            "169 block6a_activation True\n",
            "170 block6a_se_squeeze True\n",
            "171 block6a_se_reshape True\n",
            "172 block6a_se_reduce True\n",
            "173 block6a_se_expand True\n",
            "174 block6a_se_excite True\n",
            "175 block6a_project_conv True\n",
            "176 block6a_project_bn True\n",
            "177 block6b_expand_conv True\n",
            "178 block6b_expand_bn True\n",
            "179 block6b_expand_activation True\n",
            "180 block6b_dwconv True\n",
            "181 block6b_bn True\n",
            "182 block6b_activation True\n",
            "183 block6b_se_squeeze True\n",
            "184 block6b_se_reshape True\n",
            "185 block6b_se_reduce True\n",
            "186 block6b_se_expand True\n",
            "187 block6b_se_excite True\n",
            "188 block6b_project_conv True\n",
            "189 block6b_project_bn True\n",
            "190 block6b_drop True\n",
            "191 block6b_add True\n",
            "192 block6c_expand_conv True\n",
            "193 block6c_expand_bn True\n",
            "194 block6c_expand_activation True\n",
            "195 block6c_dwconv True\n",
            "196 block6c_bn True\n",
            "197 block6c_activation True\n",
            "198 block6c_se_squeeze True\n",
            "199 block6c_se_reshape True\n",
            "200 block6c_se_reduce True\n",
            "201 block6c_se_expand True\n",
            "202 block6c_se_excite True\n",
            "203 block6c_project_conv True\n",
            "204 block6c_project_bn True\n",
            "205 block6c_drop True\n",
            "206 block6c_add True\n",
            "207 block6d_expand_conv True\n",
            "208 block6d_expand_bn True\n",
            "209 block6d_expand_activation True\n",
            "210 block6d_dwconv True\n",
            "211 block6d_bn True\n",
            "212 block6d_activation True\n",
            "213 block6d_se_squeeze True\n",
            "214 block6d_se_reshape True\n",
            "215 block6d_se_reduce True\n",
            "216 block6d_se_expand True\n",
            "217 block6d_se_excite True\n",
            "218 block6d_project_conv True\n",
            "219 block6d_project_bn True\n",
            "220 block6d_drop True\n",
            "221 block6d_add True\n",
            "222 block7a_expand_conv True\n",
            "223 block7a_expand_bn True\n",
            "224 block7a_expand_activation True\n",
            "225 block7a_dwconv True\n",
            "226 block7a_bn True\n",
            "227 block7a_activation True\n",
            "228 block7a_se_squeeze True\n",
            "229 block7a_se_reshape True\n",
            "230 block7a_se_reduce True\n",
            "231 block7a_se_expand True\n",
            "232 block7a_se_excite True\n",
            "233 block7a_project_conv True\n",
            "234 block7a_project_bn True\n",
            "235 top_conv True\n",
            "236 top_bn True\n",
            "237 top_activation True\n"
          ]
        }
      ]
    },
    {
      "cell_type": "code",
      "source": [
        "for i, layer in enumerate(model5.layers[2].layers[:-10]):\n",
        "  layer.trainable = False"
      ],
      "metadata": {
        "id": "Pjx8sJPPJf_N"
      },
      "execution_count": 45,
      "outputs": []
    },
    {
      "cell_type": "code",
      "source": [
        "for i, layer in enumerate(model5.layers[2].layers):\n",
        "  print(i, layer.name, layer.trainable)"
      ],
      "metadata": {
        "colab": {
          "base_uri": "https://localhost:8080/"
        },
        "id": "aiixmA6yJrAt",
        "outputId": "3e71828e-b003-43ab-cbe6-fb52b9104943"
      },
      "execution_count": 46,
      "outputs": [
        {
          "output_type": "stream",
          "name": "stdout",
          "text": [
            "0 input_4 False\n",
            "1 rescaling_4 False\n",
            "2 normalization_2 False\n",
            "3 rescaling_5 False\n",
            "4 stem_conv_pad False\n",
            "5 stem_conv False\n",
            "6 stem_bn False\n",
            "7 stem_activation False\n",
            "8 block1a_dwconv False\n",
            "9 block1a_bn False\n",
            "10 block1a_activation False\n",
            "11 block1a_se_squeeze False\n",
            "12 block1a_se_reshape False\n",
            "13 block1a_se_reduce False\n",
            "14 block1a_se_expand False\n",
            "15 block1a_se_excite False\n",
            "16 block1a_project_conv False\n",
            "17 block1a_project_bn False\n",
            "18 block2a_expand_conv False\n",
            "19 block2a_expand_bn False\n",
            "20 block2a_expand_activation False\n",
            "21 block2a_dwconv_pad False\n",
            "22 block2a_dwconv False\n",
            "23 block2a_bn False\n",
            "24 block2a_activation False\n",
            "25 block2a_se_squeeze False\n",
            "26 block2a_se_reshape False\n",
            "27 block2a_se_reduce False\n",
            "28 block2a_se_expand False\n",
            "29 block2a_se_excite False\n",
            "30 block2a_project_conv False\n",
            "31 block2a_project_bn False\n",
            "32 block2b_expand_conv False\n",
            "33 block2b_expand_bn False\n",
            "34 block2b_expand_activation False\n",
            "35 block2b_dwconv False\n",
            "36 block2b_bn False\n",
            "37 block2b_activation False\n",
            "38 block2b_se_squeeze False\n",
            "39 block2b_se_reshape False\n",
            "40 block2b_se_reduce False\n",
            "41 block2b_se_expand False\n",
            "42 block2b_se_excite False\n",
            "43 block2b_project_conv False\n",
            "44 block2b_project_bn False\n",
            "45 block2b_drop False\n",
            "46 block2b_add False\n",
            "47 block3a_expand_conv False\n",
            "48 block3a_expand_bn False\n",
            "49 block3a_expand_activation False\n",
            "50 block3a_dwconv_pad False\n",
            "51 block3a_dwconv False\n",
            "52 block3a_bn False\n",
            "53 block3a_activation False\n",
            "54 block3a_se_squeeze False\n",
            "55 block3a_se_reshape False\n",
            "56 block3a_se_reduce False\n",
            "57 block3a_se_expand False\n",
            "58 block3a_se_excite False\n",
            "59 block3a_project_conv False\n",
            "60 block3a_project_bn False\n",
            "61 block3b_expand_conv False\n",
            "62 block3b_expand_bn False\n",
            "63 block3b_expand_activation False\n",
            "64 block3b_dwconv False\n",
            "65 block3b_bn False\n",
            "66 block3b_activation False\n",
            "67 block3b_se_squeeze False\n",
            "68 block3b_se_reshape False\n",
            "69 block3b_se_reduce False\n",
            "70 block3b_se_expand False\n",
            "71 block3b_se_excite False\n",
            "72 block3b_project_conv False\n",
            "73 block3b_project_bn False\n",
            "74 block3b_drop False\n",
            "75 block3b_add False\n",
            "76 block4a_expand_conv False\n",
            "77 block4a_expand_bn False\n",
            "78 block4a_expand_activation False\n",
            "79 block4a_dwconv_pad False\n",
            "80 block4a_dwconv False\n",
            "81 block4a_bn False\n",
            "82 block4a_activation False\n",
            "83 block4a_se_squeeze False\n",
            "84 block4a_se_reshape False\n",
            "85 block4a_se_reduce False\n",
            "86 block4a_se_expand False\n",
            "87 block4a_se_excite False\n",
            "88 block4a_project_conv False\n",
            "89 block4a_project_bn False\n",
            "90 block4b_expand_conv False\n",
            "91 block4b_expand_bn False\n",
            "92 block4b_expand_activation False\n",
            "93 block4b_dwconv False\n",
            "94 block4b_bn False\n",
            "95 block4b_activation False\n",
            "96 block4b_se_squeeze False\n",
            "97 block4b_se_reshape False\n",
            "98 block4b_se_reduce False\n",
            "99 block4b_se_expand False\n",
            "100 block4b_se_excite False\n",
            "101 block4b_project_conv False\n",
            "102 block4b_project_bn False\n",
            "103 block4b_drop False\n",
            "104 block4b_add False\n",
            "105 block4c_expand_conv False\n",
            "106 block4c_expand_bn False\n",
            "107 block4c_expand_activation False\n",
            "108 block4c_dwconv False\n",
            "109 block4c_bn False\n",
            "110 block4c_activation False\n",
            "111 block4c_se_squeeze False\n",
            "112 block4c_se_reshape False\n",
            "113 block4c_se_reduce False\n",
            "114 block4c_se_expand False\n",
            "115 block4c_se_excite False\n",
            "116 block4c_project_conv False\n",
            "117 block4c_project_bn False\n",
            "118 block4c_drop False\n",
            "119 block4c_add False\n",
            "120 block5a_expand_conv False\n",
            "121 block5a_expand_bn False\n",
            "122 block5a_expand_activation False\n",
            "123 block5a_dwconv False\n",
            "124 block5a_bn False\n",
            "125 block5a_activation False\n",
            "126 block5a_se_squeeze False\n",
            "127 block5a_se_reshape False\n",
            "128 block5a_se_reduce False\n",
            "129 block5a_se_expand False\n",
            "130 block5a_se_excite False\n",
            "131 block5a_project_conv False\n",
            "132 block5a_project_bn False\n",
            "133 block5b_expand_conv False\n",
            "134 block5b_expand_bn False\n",
            "135 block5b_expand_activation False\n",
            "136 block5b_dwconv False\n",
            "137 block5b_bn False\n",
            "138 block5b_activation False\n",
            "139 block5b_se_squeeze False\n",
            "140 block5b_se_reshape False\n",
            "141 block5b_se_reduce False\n",
            "142 block5b_se_expand False\n",
            "143 block5b_se_excite False\n",
            "144 block5b_project_conv False\n",
            "145 block5b_project_bn False\n",
            "146 block5b_drop False\n",
            "147 block5b_add False\n",
            "148 block5c_expand_conv False\n",
            "149 block5c_expand_bn False\n",
            "150 block5c_expand_activation False\n",
            "151 block5c_dwconv False\n",
            "152 block5c_bn False\n",
            "153 block5c_activation False\n",
            "154 block5c_se_squeeze False\n",
            "155 block5c_se_reshape False\n",
            "156 block5c_se_reduce False\n",
            "157 block5c_se_expand False\n",
            "158 block5c_se_excite False\n",
            "159 block5c_project_conv False\n",
            "160 block5c_project_bn False\n",
            "161 block5c_drop False\n",
            "162 block5c_add False\n",
            "163 block6a_expand_conv False\n",
            "164 block6a_expand_bn False\n",
            "165 block6a_expand_activation False\n",
            "166 block6a_dwconv_pad False\n",
            "167 block6a_dwconv False\n",
            "168 block6a_bn False\n",
            "169 block6a_activation False\n",
            "170 block6a_se_squeeze False\n",
            "171 block6a_se_reshape False\n",
            "172 block6a_se_reduce False\n",
            "173 block6a_se_expand False\n",
            "174 block6a_se_excite False\n",
            "175 block6a_project_conv False\n",
            "176 block6a_project_bn False\n",
            "177 block6b_expand_conv False\n",
            "178 block6b_expand_bn False\n",
            "179 block6b_expand_activation False\n",
            "180 block6b_dwconv False\n",
            "181 block6b_bn False\n",
            "182 block6b_activation False\n",
            "183 block6b_se_squeeze False\n",
            "184 block6b_se_reshape False\n",
            "185 block6b_se_reduce False\n",
            "186 block6b_se_expand False\n",
            "187 block6b_se_excite False\n",
            "188 block6b_project_conv False\n",
            "189 block6b_project_bn False\n",
            "190 block6b_drop False\n",
            "191 block6b_add False\n",
            "192 block6c_expand_conv False\n",
            "193 block6c_expand_bn False\n",
            "194 block6c_expand_activation False\n",
            "195 block6c_dwconv False\n",
            "196 block6c_bn False\n",
            "197 block6c_activation False\n",
            "198 block6c_se_squeeze False\n",
            "199 block6c_se_reshape False\n",
            "200 block6c_se_reduce False\n",
            "201 block6c_se_expand False\n",
            "202 block6c_se_excite False\n",
            "203 block6c_project_conv False\n",
            "204 block6c_project_bn False\n",
            "205 block6c_drop False\n",
            "206 block6c_add False\n",
            "207 block6d_expand_conv False\n",
            "208 block6d_expand_bn False\n",
            "209 block6d_expand_activation False\n",
            "210 block6d_dwconv False\n",
            "211 block6d_bn False\n",
            "212 block6d_activation False\n",
            "213 block6d_se_squeeze False\n",
            "214 block6d_se_reshape False\n",
            "215 block6d_se_reduce False\n",
            "216 block6d_se_expand False\n",
            "217 block6d_se_excite False\n",
            "218 block6d_project_conv False\n",
            "219 block6d_project_bn False\n",
            "220 block6d_drop False\n",
            "221 block6d_add False\n",
            "222 block7a_expand_conv False\n",
            "223 block7a_expand_bn False\n",
            "224 block7a_expand_activation False\n",
            "225 block7a_dwconv False\n",
            "226 block7a_bn False\n",
            "227 block7a_activation False\n",
            "228 block7a_se_squeeze True\n",
            "229 block7a_se_reshape True\n",
            "230 block7a_se_reduce True\n",
            "231 block7a_se_expand True\n",
            "232 block7a_se_excite True\n",
            "233 block7a_project_conv True\n",
            "234 block7a_project_bn True\n",
            "235 top_conv True\n",
            "236 top_bn True\n",
            "237 top_activation True\n"
          ]
        }
      ]
    },
    {
      "cell_type": "code",
      "source": [
        "for i, layer in enumerate(model5.layers):\n",
        "  print(i, layer.name, layer.trainable)"
      ],
      "metadata": {
        "colab": {
          "base_uri": "https://localhost:8080/"
        },
        "id": "TwALqmkGKyUc",
        "outputId": "dc35254e-9bac-421a-cf39-ba28f5fa1e7b"
      },
      "execution_count": 47,
      "outputs": [
        {
          "output_type": "stream",
          "name": "stdout",
          "text": [
            "0 input_5 True\n",
            "1 sequential True\n",
            "2 efficientnetb0 True\n",
            "3 global_average_pooling2d_2 True\n",
            "4 dense_1 True\n"
          ]
        }
      ]
    },
    {
      "cell_type": "code",
      "source": [
        "model5.compile(loss = categorical_crossentropy,\n",
        "               optimizer = Adam(learning_rate = 0.0001),\n",
        "               metrics=[\"accuracy\"])"
      ],
      "metadata": {
        "id": "DlrN9QR5G_fP"
      },
      "execution_count": 48,
      "outputs": []
    },
    {
      "cell_type": "code",
      "source": [
        "history5 = model5.fit(train_data_full,\n",
        "                      epochs = 10, \n",
        "                      steps_per_epoch = len(train_data_full),\n",
        "                      validation_data = test_data,\n",
        "                      validation_steps = int(0.25*len(test_data)),\n",
        "                      callbacks=[tf.keras.callbacks.ModelCheckpoint(\n",
        "                                                         filepath=\"model5_checkpoint\",\n",
        "                                                         save_weights_only=True,\n",
        "                                                         save_best_only=False,\n",
        "                                                         save_freq=\"epoch\",\n",
        "                                                         verbose=1)],\n",
        "                      initial_epoch=history3.epoch[-1])"
      ],
      "metadata": {
        "colab": {
          "base_uri": "https://localhost:8080/"
        },
        "id": "-BH_DaYvHPPx",
        "outputId": "332b2c31-b04c-4c2f-930a-91cc6cfd5ec2"
      },
      "execution_count": 50,
      "outputs": [
        {
          "output_type": "stream",
          "name": "stdout",
          "text": [
            "Epoch 5/10\n",
            "235/235 [==============================] - ETA: 0s - loss: 0.3923 - accuracy: 0.8744\n",
            "Epoch 5: saving model to model5_checkpoint\n",
            "235/235 [==============================] - 40s 168ms/step - loss: 0.3923 - accuracy: 0.8744 - val_loss: 0.3554 - val_accuracy: 0.8832\n",
            "Epoch 6/10\n",
            "235/235 [==============================] - ETA: 0s - loss: 0.3630 - accuracy: 0.8848\n",
            "Epoch 6: saving model to model5_checkpoint\n",
            "235/235 [==============================] - 39s 164ms/step - loss: 0.3630 - accuracy: 0.8848 - val_loss: 0.3356 - val_accuracy: 0.8980\n",
            "Epoch 7/10\n",
            "235/235 [==============================] - ETA: 0s - loss: 0.3350 - accuracy: 0.8904\n",
            "Epoch 7: saving model to model5_checkpoint\n",
            "235/235 [==============================] - 36s 153ms/step - loss: 0.3350 - accuracy: 0.8904 - val_loss: 0.3542 - val_accuracy: 0.8898\n",
            "Epoch 8/10\n",
            "235/235 [==============================] - ETA: 0s - loss: 0.3160 - accuracy: 0.8981\n",
            "Epoch 8: saving model to model5_checkpoint\n",
            "235/235 [==============================] - 37s 156ms/step - loss: 0.3160 - accuracy: 0.8981 - val_loss: 0.2890 - val_accuracy: 0.9013\n",
            "Epoch 9/10\n",
            "235/235 [==============================] - ETA: 0s - loss: 0.2924 - accuracy: 0.9081\n",
            "Epoch 9: saving model to model5_checkpoint\n",
            "235/235 [==============================] - 35s 148ms/step - loss: 0.2924 - accuracy: 0.9081 - val_loss: 0.3425 - val_accuracy: 0.8964\n",
            "Epoch 10/10\n",
            "235/235 [==============================] - ETA: 0s - loss: 0.2786 - accuracy: 0.9137\n",
            "Epoch 10: saving model to model5_checkpoint\n",
            "235/235 [==============================] - 35s 145ms/step - loss: 0.2786 - accuracy: 0.9137 - val_loss: 0.3172 - val_accuracy: 0.8947\n"
          ]
        }
      ]
    },
    {
      "cell_type": "code",
      "source": [
        "model5.evaluate(test_data)"
      ],
      "metadata": {
        "colab": {
          "base_uri": "https://localhost:8080/"
        },
        "id": "jqNVQXmjKZt3",
        "outputId": "24a8c8fd-5a1c-44be-c32d-05982fd6b588"
      },
      "execution_count": 51,
      "outputs": [
        {
          "output_type": "stream",
          "name": "stdout",
          "text": [
            "79/79 [==============================] - 10s 119ms/step - loss: 0.3370 - accuracy: 0.8924\n"
          ]
        },
        {
          "output_type": "execute_result",
          "data": {
            "text/plain": [
              "[0.3369666635990143, 0.8924000263214111]"
            ]
          },
          "metadata": {},
          "execution_count": 51
        }
      ]
    },
    {
      "cell_type": "code",
      "source": [
        "plot_loss_curves(history5)"
      ],
      "metadata": {
        "colab": {
          "base_uri": "https://localhost:8080/",
          "height": 927
        },
        "id": "iP00Qev0KrWc",
        "outputId": "26daf311-0b92-44ae-b06f-e9cbebf4771e"
      },
      "execution_count": 52,
      "outputs": [
        {
          "output_type": "display_data",
          "data": {
            "text/plain": [
              "<Figure size 640x480 with 1 Axes>"
            ],
            "image/png": "[encoded data removed]"
          },
          "metadata": {}
        },
        {
          "output_type": "display_data",
          "data": {
            "text/plain": [
              "<Figure size 640x480 with 1 Axes>"
            ],
            "image/png": "[encoded data removed]"
          },
          "metadata": {}
        }
      ]
    },
    {
      "cell_type": "code",
      "source": [],
      "metadata": {
        "id": "oiwKPrUGLBZl"
      },
      "execution_count": null,
      "outputs": []
    }
  ]
}