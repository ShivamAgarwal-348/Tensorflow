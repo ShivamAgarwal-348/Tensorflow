{
  "nbformat": 4,
  "nbformat_minor": 0,
  "metadata": {
    "colab": {
      "provenance": []
    },
    "kernelspec": {
      "name": "python3",
      "display_name": "Python 3"
    },
    "language_info": {
      "name": "python"
    }
  },
  "cells": [
    {
      "cell_type": "code",
      "execution_count": 1,
      "metadata": {
        "colab": {
          "base_uri": "https://localhost:8080/",
          "height": 35
        },
        "id": "LwvA3MuJwn5a",
        "outputId": "7a307805-f470-46e1-c016-8df270f8013d"
      },
      "outputs": [
        {
          "output_type": "execute_result",
          "data": {
            "text/plain": [
              "'2.11.0'"
            ],
            "application/vnd.google.colaboratory.intrinsic+json": {
              "type": "string"
            }
          },
          "metadata": {},
          "execution_count": 1
        }
      ],
      "source": [
        "import tensorflow as tf\n",
        "tf.__version__"
      ]
    },
    {
      "cell_type": "code",
      "source": [
        "import numpy as np\n",
        "import matplotlib.pyplot as plt\n",
        "\n",
        "X = np.array([1, 4, 7, 10, 13, 16, 19, 22])\n",
        "\n",
        "y = np.array([3, 6, 9, 12, 15, 18, 21, 24])\n",
        "\n",
        "plt.scatter(X, y)"
      ],
      "metadata": {
        "colab": {
          "base_uri": "https://localhost:8080/",
          "height": 286
        },
        "id": "zAzrj1egvxV-",
        "outputId": "6fb88b24-9f9b-4680-c5a2-bf5bc08fdaa7"
      },
      "execution_count": 2,
      "outputs": [
        {
          "output_type": "execute_result",
          "data": {
            "text/plain": [
              "<matplotlib.collections.PathCollection at 0x7f0fed46c100>"
            ]
          },
          "metadata": {},
          "execution_count": 2
        },
        {
          "output_type": "display_data",
          "data": {
            "text/plain": [
              "<Figure size 432x288 with 1 Axes>"
            ],
            "image/png": "[encoded data removed]"
          },
          "metadata": {
            "needs_background": "light"
          }
        }
      ]
    },
    {
      "cell_type": "code",
      "source": [
        "y == X+2 "
      ],
      "metadata": {
        "colab": {
          "base_uri": "https://localhost:8080/"
        },
        "id": "RjOZlhhRwl88",
        "outputId": "b83a415a-ba77-4b61-884c-a238bfbea516"
      },
      "execution_count": 3,
      "outputs": [
        {
          "output_type": "execute_result",
          "data": {
            "text/plain": [
              "array([ True,  True,  True,  True,  True,  True,  True,  True])"
            ]
          },
          "metadata": {},
          "execution_count": 3
        }
      ]
    },
    {
      "cell_type": "code",
      "source": [
        "X = tf.constant(X)\n",
        "y = tf.constant(y)\n",
        "tf.random.set_seed(42)\n",
        "\n",
        "X, y"
      ],
      "metadata": {
        "colab": {
          "base_uri": "https://localhost:8080/"
        },
        "id": "K7hfOOLZw0fi",
        "outputId": "fbe61a3f-2046-470d-f389-1c6a66adbb20"
      },
      "execution_count": 4,
      "outputs": [
        {
          "output_type": "execute_result",
          "data": {
            "text/plain": [
              "(<tf.Tensor: shape=(8,), dtype=int64, numpy=array([ 1,  4,  7, 10, 13, 16, 19, 22])>,\n",
              " <tf.Tensor: shape=(8,), dtype=int64, numpy=array([ 3,  6,  9, 12, 15, 18, 21, 24])>)"
            ]
          },
          "metadata": {},
          "execution_count": 4
        }
      ]
    },
    {
      "cell_type": "code",
      "source": [
        "from keras.optimizers import SGD\n",
        "\n",
        "model = tf.keras.Sequential([\n",
        "    tf.keras.layers.Dense(1, input_shape=[1])\n",
        "    # tf.keras.layers.Dense(1)\n",
        "])\n",
        "\n",
        "model.compile(loss = tf.keras.losses.mae, optimizer = SGD(), metrics=[\"mae\"])\n",
        "\n",
        "# model.fit(tf.expand_dims(X, axis=-1), y, epochs=10)\n",
        "model.fit(X, y, epochs=5)"
      ],
      "metadata": {
        "colab": {
          "base_uri": "https://localhost:8080/"
        },
        "id": "mdGXZhYvyJ4f",
        "outputId": "1b0d536a-6b76-4f7a-8077-097b3e1f100e"
      },
      "execution_count": 5,
      "outputs": [
        {
          "output_type": "stream",
          "name": "stdout",
          "text": [
            "Epoch 1/5\n",
            "1/1 [==============================] - 1s 657ms/step - loss: 22.5717 - mae: 22.5717\n",
            "Epoch 2/5\n",
            "1/1 [==============================] - 0s 9ms/step - loss: 21.2392 - mae: 21.2392\n",
            "Epoch 3/5\n",
            "1/1 [==============================] - 0s 11ms/step - loss: 19.9067 - mae: 19.9067\n",
            "Epoch 4/5\n",
            "1/1 [==============================] - 0s 26ms/step - loss: 18.5742 - mae: 18.5742\n",
            "Epoch 5/5\n",
            "1/1 [==============================] - 0s 11ms/step - loss: 17.2417 - mae: 17.2417\n"
          ]
        },
        {
          "output_type": "execute_result",
          "data": {
            "text/plain": [
              "<keras.callbacks.History at 0x7f0fe5d35340>"
            ]
          },
          "metadata": {},
          "execution_count": 5
        }
      ]
    },
    {
      "cell_type": "code",
      "source": [
        "model.predict([2])"
      ],
      "metadata": {
        "colab": {
          "base_uri": "https://localhost:8080/"
        },
        "id": "6lEdq_Ob0dCX",
        "outputId": "9277b5c3-f424-4b11-94f1-9c089f6645dc"
      },
      "execution_count": 6,
      "outputs": [
        {
          "output_type": "stream",
          "name": "stdout",
          "text": [
            "1/1 [==============================] - 0s 98ms/step\n"
          ]
        },
        {
          "output_type": "execute_result",
          "data": {
            "text/plain": [
              "array([[-0.37769055]], dtype=float32)"
            ]
          },
          "metadata": {},
          "execution_count": 6
        }
      ]
    },
    {
      "cell_type": "markdown",
      "source": [
        "# Larger Model"
      ],
      "metadata": {
        "id": "TiLy9dh06N0F"
      }
    },
    {
      "cell_type": "code",
      "source": [
        "from keras.optimizers import SGD\n",
        "\n",
        "model = tf.keras.Sequential([\n",
        "    tf.keras.layers.Dense(1, input_shape=[1])\n",
        "    # tf.keras.layers.Dense(1)\n",
        "])\n",
        "\n",
        "model.compile(loss = tf.keras.losses.mae,\n",
        "              optimizer = SGD(), \n",
        "              metrics=[\"mae\"])\n",
        "\n",
        "# model.fit(tf.expand_dims(X, axis=-1), y, epochs=10)\n",
        "model.fit(X, y, epochs=100)"
      ],
      "metadata": {
        "colab": {
          "base_uri": "https://localhost:8080/"
        },
        "id": "e9eCcEX73hHT",
        "outputId": "58c8ed6b-be2e-46c7-80bf-283f8a1bb988"
      },
      "execution_count": 7,
      "outputs": [
        {
          "output_type": "stream",
          "name": "stdout",
          "text": [
            "Epoch 1/100\n",
            "1/1 [==============================] - 0s 314ms/step - loss: 25.0396 - mae: 25.0396\n",
            "Epoch 2/100\n",
            "1/1 [==============================] - 0s 10ms/step - loss: 23.7071 - mae: 23.7071\n",
            "Epoch 3/100\n",
            "1/1 [==============================] - 0s 9ms/step - loss: 22.3746 - mae: 22.3746\n",
            "Epoch 4/100\n",
            "1/1 [==============================] - 0s 11ms/step - loss: 21.0421 - mae: 21.0421\n",
            "Epoch 5/100\n",
            "1/1 [==============================] - 0s 9ms/step - loss: 19.7096 - mae: 19.7096\n",
            "Epoch 6/100\n",
            "1/1 [==============================] - 0s 10ms/step - loss: 18.3771 - mae: 18.3771\n",
            "Epoch 7/100\n",
            "1/1 [==============================] - 0s 9ms/step - loss: 17.0446 - mae: 17.0446\n",
            "Epoch 8/100\n",
            "1/1 [==============================] - 0s 9ms/step - loss: 15.7121 - mae: 15.7121\n",
            "Epoch 9/100\n",
            "1/1 [==============================] - 0s 9ms/step - loss: 14.3796 - mae: 14.3796\n",
            "Epoch 10/100\n",
            "1/1 [==============================] - 0s 9ms/step - loss: 13.0471 - mae: 13.0471\n",
            "Epoch 11/100\n",
            "1/1 [==============================] - 0s 10ms/step - loss: 11.7146 - mae: 11.7146\n",
            "Epoch 12/100\n",
            "1/1 [==============================] - 0s 9ms/step - loss: 10.3821 - mae: 10.3821\n",
            "Epoch 13/100\n",
            "1/1 [==============================] - 0s 9ms/step - loss: 9.0496 - mae: 9.0496\n",
            "Epoch 14/100\n",
            "1/1 [==============================] - 0s 8ms/step - loss: 7.7171 - mae: 7.7171\n",
            "Epoch 15/100\n",
            "1/1 [==============================] - 0s 9ms/step - loss: 6.3846 - mae: 6.3846\n",
            "Epoch 16/100\n",
            "1/1 [==============================] - 0s 11ms/step - loss: 5.0521 - mae: 5.0521\n",
            "Epoch 17/100\n",
            "1/1 [==============================] - 0s 10ms/step - loss: 3.7196 - mae: 3.7196\n",
            "Epoch 18/100\n",
            "1/1 [==============================] - 0s 9ms/step - loss: 2.3871 - mae: 2.3871\n",
            "Epoch 19/100\n",
            "1/1 [==============================] - 0s 9ms/step - loss: 1.0546 - mae: 1.0546\n",
            "Epoch 20/100\n",
            "1/1 [==============================] - 0s 9ms/step - loss: 1.0907 - mae: 1.0907\n",
            "Epoch 21/100\n",
            "1/1 [==============================] - 0s 8ms/step - loss: 0.7856 - mae: 0.7856\n",
            "Epoch 22/100\n",
            "1/1 [==============================] - 0s 10ms/step - loss: 0.7674 - mae: 0.7674\n",
            "Epoch 23/100\n",
            "1/1 [==============================] - 0s 11ms/step - loss: 0.7849 - mae: 0.7849\n",
            "Epoch 24/100\n",
            "1/1 [==============================] - 0s 10ms/step - loss: 0.7857 - mae: 0.7857\n",
            "Epoch 25/100\n",
            "1/1 [==============================] - 0s 11ms/step - loss: 0.9243 - mae: 0.9243\n",
            "Epoch 26/100\n",
            "1/1 [==============================] - 0s 9ms/step - loss: 0.7800 - mae: 0.7800\n",
            "Epoch 27/100\n",
            "1/1 [==============================] - 0s 11ms/step - loss: 0.9243 - mae: 0.9243\n",
            "Epoch 28/100\n",
            "1/1 [==============================] - 0s 10ms/step - loss: 0.7749 - mae: 0.7749\n",
            "Epoch 29/100\n",
            "1/1 [==============================] - 0s 9ms/step - loss: 0.7568 - mae: 0.7568\n",
            "Epoch 30/100\n",
            "1/1 [==============================] - 0s 8ms/step - loss: 0.7712 - mae: 0.7712\n",
            "Epoch 31/100\n",
            "1/1 [==============================] - 0s 9ms/step - loss: 0.7800 - mae: 0.7800\n",
            "Epoch 32/100\n",
            "1/1 [==============================] - 0s 10ms/step - loss: 0.9093 - mae: 0.9093\n",
            "Epoch 33/100\n",
            "1/1 [==============================] - 0s 11ms/step - loss: 0.7744 - mae: 0.7744\n",
            "Epoch 34/100\n",
            "1/1 [==============================] - 0s 9ms/step - loss: 0.9093 - mae: 0.9093\n",
            "Epoch 35/100\n",
            "1/1 [==============================] - 0s 9ms/step - loss: 0.7688 - mae: 0.7688\n",
            "Epoch 36/100\n",
            "1/1 [==============================] - 0s 9ms/step - loss: 0.9093 - mae: 0.9093\n",
            "Epoch 37/100\n",
            "1/1 [==============================] - 0s 9ms/step - loss: 0.7632 - mae: 0.7632\n",
            "Epoch 38/100\n",
            "1/1 [==============================] - 0s 9ms/step - loss: 0.9093 - mae: 0.9093\n",
            "Epoch 39/100\n",
            "1/1 [==============================] - 0s 9ms/step - loss: 0.7575 - mae: 0.7575\n",
            "Epoch 40/100\n",
            "1/1 [==============================] - 0s 11ms/step - loss: 0.9093 - mae: 0.9093\n",
            "Epoch 41/100\n",
            "1/1 [==============================] - 0s 10ms/step - loss: 0.7531 - mae: 0.7531\n",
            "Epoch 42/100\n",
            "1/1 [==============================] - 0s 9ms/step - loss: 0.7349 - mae: 0.7349\n",
            "Epoch 43/100\n",
            "1/1 [==============================] - 0s 11ms/step - loss: 0.7518 - mae: 0.7518\n",
            "Epoch 44/100\n",
            "1/1 [==============================] - 0s 11ms/step - loss: 0.7575 - mae: 0.7575\n",
            "Epoch 45/100\n",
            "1/1 [==============================] - 0s 11ms/step - loss: 0.8943 - mae: 0.8943\n",
            "Epoch 46/100\n",
            "1/1 [==============================] - 0s 11ms/step - loss: 0.7519 - mae: 0.7519\n",
            "Epoch 47/100\n",
            "1/1 [==============================] - 0s 10ms/step - loss: 0.8943 - mae: 0.8943\n",
            "Epoch 48/100\n",
            "1/1 [==============================] - 0s 11ms/step - loss: 0.7463 - mae: 0.7463\n",
            "Epoch 49/100\n",
            "1/1 [==============================] - 0s 14ms/step - loss: 0.8943 - mae: 0.8943\n",
            "Epoch 50/100\n",
            "1/1 [==============================] - 0s 9ms/step - loss: 0.7406 - mae: 0.7406\n",
            "Epoch 51/100\n",
            "1/1 [==============================] - 0s 13ms/step - loss: 0.8944 - mae: 0.8944\n",
            "Epoch 52/100\n",
            "1/1 [==============================] - 0s 10ms/step - loss: 0.7350 - mae: 0.7350\n",
            "Epoch 53/100\n",
            "1/1 [==============================] - 0s 11ms/step - loss: 0.8944 - mae: 0.8944\n",
            "Epoch 54/100\n",
            "1/1 [==============================] - 0s 11ms/step - loss: 0.7312 - mae: 0.7312\n",
            "Epoch 55/100\n",
            "1/1 [==============================] - 0s 11ms/step - loss: 0.7131 - mae: 0.7131\n",
            "Epoch 56/100\n",
            "1/1 [==============================] - 0s 10ms/step - loss: 0.7324 - mae: 0.7324\n",
            "Epoch 57/100\n",
            "1/1 [==============================] - 0s 10ms/step - loss: 0.7350 - mae: 0.7350\n",
            "Epoch 58/100\n",
            "1/1 [==============================] - 0s 14ms/step - loss: 0.8794 - mae: 0.8794\n",
            "Epoch 59/100\n",
            "1/1 [==============================] - 0s 12ms/step - loss: 0.7294 - mae: 0.7294\n",
            "Epoch 60/100\n",
            "1/1 [==============================] - 0s 9ms/step - loss: 0.8794 - mae: 0.8794\n",
            "Epoch 61/100\n",
            "1/1 [==============================] - 0s 9ms/step - loss: 0.7238 - mae: 0.7238\n",
            "Epoch 62/100\n",
            "1/1 [==============================] - 0s 9ms/step - loss: 0.8794 - mae: 0.8794\n",
            "Epoch 63/100\n",
            "1/1 [==============================] - 0s 9ms/step - loss: 0.7181 - mae: 0.7181\n",
            "Epoch 64/100\n",
            "1/1 [==============================] - 0s 10ms/step - loss: 0.8794 - mae: 0.8794\n",
            "Epoch 65/100\n",
            "1/1 [==============================] - 0s 9ms/step - loss: 0.7131 - mae: 0.7131\n",
            "Epoch 66/100\n",
            "1/1 [==============================] - 0s 10ms/step - loss: 0.6949 - mae: 0.6949\n",
            "Epoch 67/100\n",
            "1/1 [==============================] - 0s 9ms/step - loss: 0.7149 - mae: 0.7149\n",
            "Epoch 68/100\n",
            "1/1 [==============================] - 0s 11ms/step - loss: 0.7181 - mae: 0.7181\n",
            "Epoch 69/100\n",
            "1/1 [==============================] - 0s 9ms/step - loss: 0.8644 - mae: 0.8644\n",
            "Epoch 70/100\n",
            "1/1 [==============================] - 0s 9ms/step - loss: 0.7125 - mae: 0.7125\n",
            "Epoch 71/100\n",
            "1/1 [==============================] - 0s 9ms/step - loss: 0.8644 - mae: 0.8644\n",
            "Epoch 72/100\n",
            "1/1 [==============================] - 0s 9ms/step - loss: 0.7069 - mae: 0.7069\n",
            "Epoch 73/100\n",
            "1/1 [==============================] - 0s 9ms/step - loss: 0.8644 - mae: 0.8644\n",
            "Epoch 74/100\n",
            "1/1 [==============================] - 0s 9ms/step - loss: 0.7013 - mae: 0.7013\n",
            "Epoch 75/100\n",
            "1/1 [==============================] - 0s 9ms/step - loss: 0.8644 - mae: 0.8644\n",
            "Epoch 76/100\n",
            "1/1 [==============================] - 0s 9ms/step - loss: 0.6956 - mae: 0.6956\n",
            "Epoch 77/100\n",
            "1/1 [==============================] - 0s 9ms/step - loss: 0.8644 - mae: 0.8644\n",
            "Epoch 78/100\n",
            "1/1 [==============================] - 0s 9ms/step - loss: 0.6912 - mae: 0.6912\n",
            "Epoch 79/100\n",
            "1/1 [==============================] - 0s 9ms/step - loss: 0.6731 - mae: 0.6731\n",
            "Epoch 80/100\n",
            "1/1 [==============================] - 0s 9ms/step - loss: 0.6955 - mae: 0.6955\n",
            "Epoch 81/100\n",
            "1/1 [==============================] - 0s 9ms/step - loss: 0.6956 - mae: 0.6956\n",
            "Epoch 82/100\n",
            "1/1 [==============================] - 0s 9ms/step - loss: 0.8494 - mae: 0.8494\n",
            "Epoch 83/100\n",
            "1/1 [==============================] - 0s 9ms/step - loss: 0.6900 - mae: 0.6900\n",
            "Epoch 84/100\n",
            "1/1 [==============================] - 0s 9ms/step - loss: 0.8494 - mae: 0.8494\n",
            "Epoch 85/100\n",
            "1/1 [==============================] - 0s 9ms/step - loss: 0.6844 - mae: 0.6844\n",
            "Epoch 86/100\n",
            "1/1 [==============================] - 0s 15ms/step - loss: 0.8494 - mae: 0.8494\n",
            "Epoch 87/100\n",
            "1/1 [==============================] - 0s 19ms/step - loss: 0.6788 - mae: 0.6788\n",
            "Epoch 88/100\n",
            "1/1 [==============================] - 0s 13ms/step - loss: 0.8494 - mae: 0.8494\n",
            "Epoch 89/100\n",
            "1/1 [==============================] - 0s 9ms/step - loss: 0.6731 - mae: 0.6731\n",
            "Epoch 90/100\n",
            "1/1 [==============================] - 0s 9ms/step - loss: 0.8494 - mae: 0.8494\n",
            "Epoch 91/100\n",
            "1/1 [==============================] - 0s 9ms/step - loss: 0.6693 - mae: 0.6693\n",
            "Epoch 92/100\n",
            "1/1 [==============================] - 0s 9ms/step - loss: 0.6512 - mae: 0.6512\n",
            "Epoch 93/100\n",
            "1/1 [==============================] - 0s 9ms/step - loss: 0.6762 - mae: 0.6762\n",
            "Epoch 94/100\n",
            "1/1 [==============================] - 0s 12ms/step - loss: 0.6731 - mae: 0.6731\n",
            "Epoch 95/100\n",
            "1/1 [==============================] - 0s 12ms/step - loss: 0.8344 - mae: 0.8344\n",
            "Epoch 96/100\n",
            "1/1 [==============================] - 0s 10ms/step - loss: 0.6675 - mae: 0.6675\n",
            "Epoch 97/100\n",
            "1/1 [==============================] - 0s 10ms/step - loss: 0.8344 - mae: 0.8344\n",
            "Epoch 98/100\n",
            "1/1 [==============================] - 0s 11ms/step - loss: 0.6619 - mae: 0.6619\n",
            "Epoch 99/100\n",
            "1/1 [==============================] - 0s 8ms/step - loss: 0.8344 - mae: 0.8344\n",
            "Epoch 100/100\n",
            "1/1 [==============================] - 0s 10ms/step - loss: 0.6563 - mae: 0.6563\n"
          ]
        },
        {
          "output_type": "execute_result",
          "data": {
            "text/plain": [
              "<keras.callbacks.History at 0x7f0fe66613d0>"
            ]
          },
          "metadata": {},
          "execution_count": 7
        }
      ]
    },
    {
      "cell_type": "code",
      "source": [
        "model.predict([5])"
      ],
      "metadata": {
        "colab": {
          "base_uri": "https://localhost:8080/"
        },
        "id": "sX3eOLNC6v9k",
        "outputId": "ae7d5b70-cb5e-4451-dd65-ea9d58b68a48"
      },
      "execution_count": 8,
      "outputs": [
        {
          "output_type": "stream",
          "name": "stdout",
          "text": [
            "1/1 [==============================] - 0s 63ms/step\n"
          ]
        },
        {
          "output_type": "execute_result",
          "data": {
            "text/plain": [
              "array([[6.1952925]], dtype=float32)"
            ]
          },
          "metadata": {},
          "execution_count": 8
        }
      ]
    },
    {
      "cell_type": "code",
      "source": [
        "model = tf.keras.Sequential([\n",
        "    tf.keras.layers.Dense(100, input_shape=[1], activation=\"relu\"),\n",
        "    tf.keras.layers.Dense(1)\n",
        "])\n",
        "\n",
        "model.compile(loss = tf.keras.losses.mae,\n",
        "              optimizer = tf.keras.optimizers.SGD(),\n",
        "              metrics = [\"mae\"])\n",
        "\n",
        "model.fit(X, y, epochs=100)"
      ],
      "metadata": {
        "colab": {
          "base_uri": "https://localhost:8080/"
        },
        "id": "-PaLFvZd6zQn",
        "outputId": "b73856e1-737f-4640-a5ab-a3b2b1fad7ee"
      },
      "execution_count": 9,
      "outputs": [
        {
          "output_type": "stream",
          "name": "stdout",
          "text": [
            "Epoch 1/100\n",
            "1/1 [==============================] - 0s 442ms/step - loss: 13.9236 - mae: 13.9236\n",
            "Epoch 2/100\n",
            "1/1 [==============================] - 0s 12ms/step - loss: 10.9527 - mae: 10.9527\n",
            "Epoch 3/100\n",
            "1/1 [==============================] - 0s 10ms/step - loss: 8.1472 - mae: 8.1472\n",
            "Epoch 4/100\n",
            "1/1 [==============================] - 0s 9ms/step - loss: 5.2240 - mae: 5.2240\n",
            "Epoch 5/100\n",
            "1/1 [==============================] - 0s 10ms/step - loss: 1.9748 - mae: 1.9748\n",
            "Epoch 6/100\n",
            "1/1 [==============================] - 0s 10ms/step - loss: 2.3128 - mae: 2.3128\n",
            "Epoch 7/100\n",
            "1/1 [==============================] - 0s 10ms/step - loss: 1.8420 - mae: 1.8420\n",
            "Epoch 8/100\n",
            "1/1 [==============================] - 0s 10ms/step - loss: 2.4072 - mae: 2.4072\n",
            "Epoch 9/100\n",
            "1/1 [==============================] - 0s 11ms/step - loss: 1.7211 - mae: 1.7211\n",
            "Epoch 10/100\n",
            "1/1 [==============================] - 0s 9ms/step - loss: 2.4986 - mae: 2.4986\n",
            "Epoch 11/100\n",
            "1/1 [==============================] - 0s 13ms/step - loss: 1.6044 - mae: 1.6044\n",
            "Epoch 12/100\n",
            "1/1 [==============================] - 0s 12ms/step - loss: 2.5872 - mae: 2.5872\n",
            "Epoch 13/100\n",
            "1/1 [==============================] - 0s 11ms/step - loss: 1.4915 - mae: 1.4915\n",
            "Epoch 14/100\n",
            "1/1 [==============================] - 0s 9ms/step - loss: 2.6733 - mae: 2.6733\n",
            "Epoch 15/100\n",
            "1/1 [==============================] - 0s 9ms/step - loss: 1.3824 - mae: 1.3824\n",
            "Epoch 16/100\n",
            "1/1 [==============================] - 0s 9ms/step - loss: 2.7569 - mae: 2.7569\n",
            "Epoch 17/100\n",
            "1/1 [==============================] - 0s 9ms/step - loss: 1.2771 - mae: 1.2771\n",
            "Epoch 18/100\n",
            "1/1 [==============================] - 0s 9ms/step - loss: 2.8379 - mae: 2.8379\n",
            "Epoch 19/100\n",
            "1/1 [==============================] - 0s 9ms/step - loss: 1.1755 - mae: 1.1755\n",
            "Epoch 20/100\n",
            "1/1 [==============================] - 0s 9ms/step - loss: 2.9165 - mae: 2.9165\n",
            "Epoch 21/100\n",
            "1/1 [==============================] - 0s 11ms/step - loss: 1.0770 - mae: 1.0770\n",
            "Epoch 22/100\n",
            "1/1 [==============================] - 0s 9ms/step - loss: 2.9929 - mae: 2.9929\n",
            "Epoch 23/100\n",
            "1/1 [==============================] - 0s 9ms/step - loss: 0.9815 - mae: 0.9815\n",
            "Epoch 24/100\n",
            "1/1 [==============================] - 0s 10ms/step - loss: 3.0674 - mae: 3.0674\n",
            "Epoch 25/100\n",
            "1/1 [==============================] - 0s 9ms/step - loss: 0.8888 - mae: 0.8888\n",
            "Epoch 26/100\n",
            "1/1 [==============================] - 0s 9ms/step - loss: 3.1401 - mae: 3.1401\n",
            "Epoch 27/100\n",
            "1/1 [==============================] - 0s 13ms/step - loss: 0.8301 - mae: 0.8301\n",
            "Epoch 28/100\n",
            "1/1 [==============================] - 0s 13ms/step - loss: 1.6543 - mae: 1.6543\n",
            "Epoch 29/100\n",
            "1/1 [==============================] - 0s 11ms/step - loss: 1.6462 - mae: 1.6462\n",
            "Epoch 30/100\n",
            "1/1 [==============================] - 0s 11ms/step - loss: 2.2866 - mae: 2.2866\n",
            "Epoch 31/100\n",
            "1/1 [==============================] - 0s 8ms/step - loss: 1.5576 - mae: 1.5576\n",
            "Epoch 32/100\n",
            "1/1 [==============================] - 0s 9ms/step - loss: 2.3562 - mae: 2.3562\n",
            "Epoch 33/100\n",
            "1/1 [==============================] - 0s 9ms/step - loss: 1.4717 - mae: 1.4717\n",
            "Epoch 34/100\n",
            "1/1 [==============================] - 0s 9ms/step - loss: 2.4241 - mae: 2.4241\n",
            "Epoch 35/100\n",
            "1/1 [==============================] - 0s 9ms/step - loss: 1.3903 - mae: 1.3903\n",
            "Epoch 36/100\n",
            "1/1 [==============================] - 0s 9ms/step - loss: 2.4887 - mae: 2.4887\n",
            "Epoch 37/100\n",
            "1/1 [==============================] - 0s 9ms/step - loss: 1.3098 - mae: 1.3098\n",
            "Epoch 38/100\n",
            "1/1 [==============================] - 0s 9ms/step - loss: 2.5520 - mae: 2.5520\n",
            "Epoch 39/100\n",
            "1/1 [==============================] - 0s 9ms/step - loss: 1.2172 - mae: 1.2172\n",
            "Epoch 40/100\n",
            "1/1 [==============================] - 0s 13ms/step - loss: 2.6138 - mae: 2.6138\n",
            "Epoch 41/100\n",
            "1/1 [==============================] - 0s 9ms/step - loss: 1.1186 - mae: 1.1186\n",
            "Epoch 42/100\n",
            "1/1 [==============================] - 0s 10ms/step - loss: 2.6722 - mae: 2.6722\n",
            "Epoch 43/100\n",
            "1/1 [==============================] - 0s 10ms/step - loss: 1.0484 - mae: 1.0484\n",
            "Epoch 44/100\n",
            "1/1 [==============================] - 0s 11ms/step - loss: 2.7296 - mae: 2.7296\n",
            "Epoch 45/100\n",
            "1/1 [==============================] - 0s 10ms/step - loss: 0.9797 - mae: 0.9797\n",
            "Epoch 46/100\n",
            "1/1 [==============================] - 0s 10ms/step - loss: 2.7860 - mae: 2.7860\n",
            "Epoch 47/100\n",
            "1/1 [==============================] - 0s 11ms/step - loss: 0.9125 - mae: 0.9125\n",
            "Epoch 48/100\n",
            "1/1 [==============================] - 0s 12ms/step - loss: 2.8413 - mae: 2.8413\n",
            "Epoch 49/100\n",
            "1/1 [==============================] - 0s 12ms/step - loss: 0.8468 - mae: 0.8468\n",
            "Epoch 50/100\n",
            "1/1 [==============================] - 0s 10ms/step - loss: 2.8958 - mae: 2.8958\n",
            "Epoch 51/100\n",
            "1/1 [==============================] - 0s 9ms/step - loss: 0.7962 - mae: 0.7962\n",
            "Epoch 52/100\n",
            "1/1 [==============================] - 0s 13ms/step - loss: 1.5121 - mae: 1.5121\n",
            "Epoch 53/100\n",
            "1/1 [==============================] - 0s 9ms/step - loss: 1.5698 - mae: 1.5698\n",
            "Epoch 54/100\n",
            "1/1 [==============================] - 0s 8ms/step - loss: 2.0837 - mae: 2.0837\n",
            "Epoch 55/100\n",
            "1/1 [==============================] - 0s 9ms/step - loss: 1.5067 - mae: 1.5067\n",
            "Epoch 56/100\n",
            "1/1 [==============================] - 0s 9ms/step - loss: 2.1362 - mae: 2.1362\n",
            "Epoch 57/100\n",
            "1/1 [==============================] - 0s 9ms/step - loss: 1.4447 - mae: 1.4447\n",
            "Epoch 58/100\n",
            "1/1 [==============================] - 0s 9ms/step - loss: 2.1880 - mae: 2.1880\n",
            "Epoch 59/100\n",
            "1/1 [==============================] - 0s 11ms/step - loss: 1.3845 - mae: 1.3845\n",
            "Epoch 60/100\n",
            "1/1 [==============================] - 0s 13ms/step - loss: 2.2386 - mae: 2.2386\n",
            "Epoch 61/100\n",
            "1/1 [==============================] - 0s 9ms/step - loss: 1.3256 - mae: 1.3256\n",
            "Epoch 62/100\n",
            "1/1 [==============================] - 0s 9ms/step - loss: 2.2883 - mae: 2.2883\n",
            "Epoch 63/100\n",
            "1/1 [==============================] - 0s 9ms/step - loss: 1.2677 - mae: 1.2677\n",
            "Epoch 64/100\n",
            "1/1 [==============================] - 0s 9ms/step - loss: 2.3375 - mae: 2.3375\n",
            "Epoch 65/100\n",
            "1/1 [==============================] - 0s 9ms/step - loss: 1.2096 - mae: 1.2096\n",
            "Epoch 66/100\n",
            "1/1 [==============================] - 0s 9ms/step - loss: 2.3868 - mae: 2.3868\n",
            "Epoch 67/100\n",
            "1/1 [==============================] - 0s 9ms/step - loss: 1.1493 - mae: 1.1493\n",
            "Epoch 68/100\n",
            "1/1 [==============================] - 0s 9ms/step - loss: 2.4347 - mae: 2.4347\n",
            "Epoch 69/100\n",
            "1/1 [==============================] - 0s 9ms/step - loss: 1.0865 - mae: 1.0865\n",
            "Epoch 70/100\n",
            "1/1 [==============================] - 0s 9ms/step - loss: 2.4823 - mae: 2.4823\n",
            "Epoch 71/100\n",
            "1/1 [==============================] - 0s 9ms/step - loss: 1.0309 - mae: 1.0309\n",
            "Epoch 72/100\n",
            "1/1 [==============================] - 0s 13ms/step - loss: 2.5291 - mae: 2.5291\n",
            "Epoch 73/100\n",
            "1/1 [==============================] - 0s 9ms/step - loss: 0.9740 - mae: 0.9740\n",
            "Epoch 74/100\n",
            "1/1 [==============================] - 0s 9ms/step - loss: 2.5754 - mae: 2.5754\n",
            "Epoch 75/100\n",
            "1/1 [==============================] - 0s 9ms/step - loss: 0.9217 - mae: 0.9217\n",
            "Epoch 76/100\n",
            "1/1 [==============================] - 0s 9ms/step - loss: 2.6214 - mae: 2.6214\n",
            "Epoch 77/100\n",
            "1/1 [==============================] - 0s 9ms/step - loss: 0.8698 - mae: 0.8698\n",
            "Epoch 78/100\n",
            "1/1 [==============================] - 0s 9ms/step - loss: 2.6671 - mae: 2.6671\n",
            "Epoch 79/100\n",
            "1/1 [==============================] - 0s 9ms/step - loss: 0.8185 - mae: 0.8185\n",
            "Epoch 80/100\n",
            "1/1 [==============================] - 0s 9ms/step - loss: 2.7126 - mae: 2.7126\n",
            "Epoch 81/100\n",
            "1/1 [==============================] - 0s 9ms/step - loss: 0.7677 - mae: 0.7677\n",
            "Epoch 82/100\n",
            "1/1 [==============================] - 0s 9ms/step - loss: 2.7578 - mae: 2.7578\n",
            "Epoch 83/100\n",
            "1/1 [==============================] - 0s 8ms/step - loss: 0.7278 - mae: 0.7278\n",
            "Epoch 84/100\n",
            "1/1 [==============================] - 0s 9ms/step - loss: 1.4255 - mae: 1.4255\n",
            "Epoch 85/100\n",
            "1/1 [==============================] - 0s 9ms/step - loss: 1.4630 - mae: 1.4630\n",
            "Epoch 86/100\n",
            "1/1 [==============================] - 0s 9ms/step - loss: 1.9783 - mae: 1.9783\n",
            "Epoch 87/100\n",
            "1/1 [==============================] - 0s 10ms/step - loss: 1.4137 - mae: 1.4137\n",
            "Epoch 88/100\n",
            "1/1 [==============================] - 0s 9ms/step - loss: 2.0223 - mae: 2.0223\n",
            "Epoch 89/100\n",
            "1/1 [==============================] - 0s 9ms/step - loss: 1.3648 - mae: 1.3648\n",
            "Epoch 90/100\n",
            "1/1 [==============================] - 0s 9ms/step - loss: 2.0660 - mae: 2.0660\n",
            "Epoch 91/100\n",
            "1/1 [==============================] - 0s 9ms/step - loss: 1.3163 - mae: 1.3163\n",
            "Epoch 92/100\n",
            "1/1 [==============================] - 0s 9ms/step - loss: 2.1096 - mae: 2.1096\n",
            "Epoch 93/100\n",
            "1/1 [==============================] - 0s 9ms/step - loss: 1.2681 - mae: 1.2681\n",
            "Epoch 94/100\n",
            "1/1 [==============================] - 0s 9ms/step - loss: 2.1531 - mae: 2.1531\n",
            "Epoch 95/100\n",
            "1/1 [==============================] - 0s 11ms/step - loss: 1.2201 - mae: 1.2201\n",
            "Epoch 96/100\n",
            "1/1 [==============================] - 0s 9ms/step - loss: 2.1965 - mae: 2.1965\n",
            "Epoch 97/100\n",
            "1/1 [==============================] - 0s 9ms/step - loss: 1.1725 - mae: 1.1725\n",
            "Epoch 98/100\n",
            "1/1 [==============================] - 0s 9ms/step - loss: 2.2398 - mae: 2.2398\n",
            "Epoch 99/100\n",
            "1/1 [==============================] - 0s 9ms/step - loss: 1.1250 - mae: 1.1250\n",
            "Epoch 100/100\n",
            "1/1 [==============================] - 0s 9ms/step - loss: 2.2831 - mae: 2.2831\n"
          ]
        },
        {
          "output_type": "execute_result",
          "data": {
            "text/plain": [
              "<keras.callbacks.History at 0x7f0fe65976a0>"
            ]
          },
          "metadata": {},
          "execution_count": 9
        }
      ]
    },
    {
      "cell_type": "code",
      "source": [
        "model.predict([5])"
      ],
      "metadata": {
        "colab": {
          "base_uri": "https://localhost:8080/"
        },
        "id": "348Ne-_i7t05",
        "outputId": "1c86f36a-3609-415f-f1d8-e3bf2e969896"
      },
      "execution_count": 10,
      "outputs": [
        {
          "output_type": "stream",
          "name": "stdout",
          "text": [
            "1/1 [==============================] - 0s 72ms/step\n"
          ]
        },
        {
          "output_type": "execute_result",
          "data": {
            "text/plain": [
              "array([[5.7022233]], dtype=float32)"
            ]
          },
          "metadata": {},
          "execution_count": 10
        }
      ]
    },
    {
      "cell_type": "code",
      "source": [
        "model = tf.keras.Sequential([\n",
        "    tf.keras.layers.Dense(100, input_shape=[1], activation=\"relu\"),\n",
        "    tf.keras.layers.Dense(1)\n",
        "])\n",
        "\n",
        "model.compile(loss = tf.keras.losses.mae,\n",
        "              optimizer = tf.keras.optimizers.Adam(lr=0.001),\n",
        "              metrics = [\"mae\"])\n",
        "\n",
        "model.fit(X, y, epochs=100)"
      ],
      "metadata": {
        "colab": {
          "base_uri": "https://localhost:8080/"
        },
        "id": "qKWhzOFP9dZp",
        "outputId": "b34c83f5-8b67-4c68-e818-a25fde204443"
      },
      "execution_count": 11,
      "outputs": [
        {
          "output_type": "stream",
          "name": "stderr",
          "text": [
            "WARNING:absl:`lr` is deprecated, please use `learning_rate` instead, or use the legacy optimizer, e.g.,tf.keras.optimizers.legacy.Adam.\n"
          ]
        },
        {
          "output_type": "stream",
          "name": "stdout",
          "text": [
            "Epoch 1/100\n",
            "1/1 [==============================] - 1s 574ms/step - loss: 13.3403 - mae: 13.3403\n",
            "Epoch 2/100\n",
            "1/1 [==============================] - 0s 11ms/step - loss: 13.2042 - mae: 13.2042\n",
            "Epoch 3/100\n",
            "1/1 [==============================] - 0s 9ms/step - loss: 13.0679 - mae: 13.0679\n",
            "Epoch 4/100\n",
            "1/1 [==============================] - 0s 9ms/step - loss: 12.9314 - mae: 12.9314\n",
            "Epoch 5/100\n",
            "1/1 [==============================] - 0s 9ms/step - loss: 12.7962 - mae: 12.7962\n",
            "Epoch 6/100\n",
            "1/1 [==============================] - 0s 10ms/step - loss: 12.6610 - mae: 12.6610\n",
            "Epoch 7/100\n",
            "1/1 [==============================] - 0s 8ms/step - loss: 12.5254 - mae: 12.5254\n",
            "Epoch 8/100\n",
            "1/1 [==============================] - 0s 13ms/step - loss: 12.3896 - mae: 12.3896\n",
            "Epoch 9/100\n",
            "1/1 [==============================] - 0s 10ms/step - loss: 12.2534 - mae: 12.2534\n",
            "Epoch 10/100\n",
            "1/1 [==============================] - 0s 9ms/step - loss: 12.1168 - mae: 12.1168\n",
            "Epoch 11/100\n",
            "1/1 [==============================] - 0s 8ms/step - loss: 11.9798 - mae: 11.9798\n",
            "Epoch 12/100\n",
            "1/1 [==============================] - 0s 9ms/step - loss: 11.8424 - mae: 11.8424\n",
            "Epoch 13/100\n",
            "1/1 [==============================] - 0s 9ms/step - loss: 11.7046 - mae: 11.7046\n",
            "Epoch 14/100\n",
            "1/1 [==============================] - 0s 9ms/step - loss: 11.5664 - mae: 11.5664\n",
            "Epoch 15/100\n",
            "1/1 [==============================] - 0s 9ms/step - loss: 11.4278 - mae: 11.4278\n",
            "Epoch 16/100\n",
            "1/1 [==============================] - 0s 9ms/step - loss: 11.2888 - mae: 11.2888\n",
            "Epoch 17/100\n",
            "1/1 [==============================] - 0s 9ms/step - loss: 11.1499 - mae: 11.1499\n",
            "Epoch 18/100\n",
            "1/1 [==============================] - 0s 9ms/step - loss: 11.0106 - mae: 11.0106\n",
            "Epoch 19/100\n",
            "1/1 [==============================] - 0s 9ms/step - loss: 10.8708 - mae: 10.8708\n",
            "Epoch 20/100\n",
            "1/1 [==============================] - 0s 8ms/step - loss: 10.7305 - mae: 10.7305\n",
            "Epoch 21/100\n",
            "1/1 [==============================] - 0s 9ms/step - loss: 10.5896 - mae: 10.5896\n",
            "Epoch 22/100\n",
            "1/1 [==============================] - 0s 11ms/step - loss: 10.4486 - mae: 10.4486\n",
            "Epoch 23/100\n",
            "1/1 [==============================] - 0s 8ms/step - loss: 10.3073 - mae: 10.3073\n",
            "Epoch 24/100\n",
            "1/1 [==============================] - 0s 10ms/step - loss: 10.1655 - mae: 10.1655\n",
            "Epoch 25/100\n",
            "1/1 [==============================] - 0s 9ms/step - loss: 10.0233 - mae: 10.0233\n",
            "Epoch 26/100\n",
            "1/1 [==============================] - 0s 9ms/step - loss: 9.8810 - mae: 9.8810\n",
            "Epoch 27/100\n",
            "1/1 [==============================] - 0s 8ms/step - loss: 9.7380 - mae: 9.7380\n",
            "Epoch 28/100\n",
            "1/1 [==============================] - 0s 15ms/step - loss: 9.5944 - mae: 9.5944\n",
            "Epoch 29/100\n",
            "1/1 [==============================] - 0s 10ms/step - loss: 9.4500 - mae: 9.4500\n",
            "Epoch 30/100\n",
            "1/1 [==============================] - 0s 10ms/step - loss: 9.3048 - mae: 9.3048\n",
            "Epoch 31/100\n",
            "1/1 [==============================] - 0s 15ms/step - loss: 9.1589 - mae: 9.1589\n",
            "Epoch 32/100\n",
            "1/1 [==============================] - 0s 11ms/step - loss: 9.0122 - mae: 9.0122\n",
            "Epoch 33/100\n",
            "1/1 [==============================] - 0s 11ms/step - loss: 8.8646 - mae: 8.8646\n",
            "Epoch 34/100\n",
            "1/1 [==============================] - 0s 12ms/step - loss: 8.7163 - mae: 8.7163\n",
            "Epoch 35/100\n",
            "1/1 [==============================] - 0s 11ms/step - loss: 8.5671 - mae: 8.5671\n",
            "Epoch 36/100\n",
            "1/1 [==============================] - 0s 10ms/step - loss: 8.4172 - mae: 8.4172\n",
            "Epoch 37/100\n",
            "1/1 [==============================] - 0s 10ms/step - loss: 8.2664 - mae: 8.2664\n",
            "Epoch 38/100\n",
            "1/1 [==============================] - 0s 10ms/step - loss: 8.1148 - mae: 8.1148\n",
            "Epoch 39/100\n",
            "1/1 [==============================] - 0s 12ms/step - loss: 7.9623 - mae: 7.9623\n",
            "Epoch 40/100\n",
            "1/1 [==============================] - 0s 16ms/step - loss: 7.8091 - mae: 7.8091\n",
            "Epoch 41/100\n",
            "1/1 [==============================] - 0s 11ms/step - loss: 7.6554 - mae: 7.6554\n",
            "Epoch 42/100\n",
            "1/1 [==============================] - 0s 11ms/step - loss: 7.5010 - mae: 7.5010\n",
            "Epoch 43/100\n",
            "1/1 [==============================] - 0s 11ms/step - loss: 7.3458 - mae: 7.3458\n",
            "Epoch 44/100\n",
            "1/1 [==============================] - 0s 11ms/step - loss: 7.1899 - mae: 7.1899\n",
            "Epoch 45/100\n",
            "1/1 [==============================] - 0s 10ms/step - loss: 7.0331 - mae: 7.0331\n",
            "Epoch 46/100\n",
            "1/1 [==============================] - 0s 10ms/step - loss: 6.8754 - mae: 6.8754\n",
            "Epoch 47/100\n",
            "1/1 [==============================] - 0s 11ms/step - loss: 6.7167 - mae: 6.7167\n",
            "Epoch 48/100\n",
            "1/1 [==============================] - 0s 10ms/step - loss: 6.5572 - mae: 6.5572\n",
            "Epoch 49/100\n",
            "1/1 [==============================] - 0s 10ms/step - loss: 6.3971 - mae: 6.3971\n",
            "Epoch 50/100\n",
            "1/1 [==============================] - 0s 11ms/step - loss: 6.2368 - mae: 6.2368\n",
            "Epoch 51/100\n",
            "1/1 [==============================] - 0s 10ms/step - loss: 6.0759 - mae: 6.0759\n",
            "Epoch 52/100\n",
            "1/1 [==============================] - 0s 10ms/step - loss: 5.9141 - mae: 5.9141\n",
            "Epoch 53/100\n",
            "1/1 [==============================] - 0s 10ms/step - loss: 5.7518 - mae: 5.7518\n",
            "Epoch 54/100\n",
            "1/1 [==============================] - 0s 10ms/step - loss: 5.5890 - mae: 5.5890\n",
            "Epoch 55/100\n",
            "1/1 [==============================] - 0s 10ms/step - loss: 5.4250 - mae: 5.4250\n",
            "Epoch 56/100\n",
            "1/1 [==============================] - 0s 10ms/step - loss: 5.2597 - mae: 5.2597\n",
            "Epoch 57/100\n",
            "1/1 [==============================] - 0s 10ms/step - loss: 5.0933 - mae: 5.0933\n",
            "Epoch 58/100\n",
            "1/1 [==============================] - 0s 10ms/step - loss: 4.9258 - mae: 4.9258\n",
            "Epoch 59/100\n",
            "1/1 [==============================] - 0s 10ms/step - loss: 4.7570 - mae: 4.7570\n",
            "Epoch 60/100\n",
            "1/1 [==============================] - 0s 10ms/step - loss: 4.5870 - mae: 4.5870\n",
            "Epoch 61/100\n",
            "1/1 [==============================] - 0s 10ms/step - loss: 4.4157 - mae: 4.4157\n",
            "Epoch 62/100\n",
            "1/1 [==============================] - 0s 10ms/step - loss: 4.2431 - mae: 4.2431\n",
            "Epoch 63/100\n",
            "1/1 [==============================] - 0s 10ms/step - loss: 4.0694 - mae: 4.0694\n",
            "Epoch 64/100\n",
            "1/1 [==============================] - 0s 10ms/step - loss: 3.8945 - mae: 3.8945\n",
            "Epoch 65/100\n",
            "1/1 [==============================] - 0s 9ms/step - loss: 3.7183 - mae: 3.7183\n",
            "Epoch 66/100\n",
            "1/1 [==============================] - 0s 12ms/step - loss: 3.5410 - mae: 3.5410\n",
            "Epoch 67/100\n",
            "1/1 [==============================] - 0s 11ms/step - loss: 3.3626 - mae: 3.3626\n",
            "Epoch 68/100\n",
            "1/1 [==============================] - 0s 14ms/step - loss: 3.1833 - mae: 3.1833\n",
            "Epoch 69/100\n",
            "1/1 [==============================] - 0s 14ms/step - loss: 3.0032 - mae: 3.0032\n",
            "Epoch 70/100\n",
            "1/1 [==============================] - 0s 11ms/step - loss: 2.8221 - mae: 2.8221\n",
            "Epoch 71/100\n",
            "1/1 [==============================] - 0s 14ms/step - loss: 2.6397 - mae: 2.6397\n",
            "Epoch 72/100\n",
            "1/1 [==============================] - 0s 10ms/step - loss: 2.4559 - mae: 2.4559\n",
            "Epoch 73/100\n",
            "1/1 [==============================] - 0s 10ms/step - loss: 2.2707 - mae: 2.2707\n",
            "Epoch 74/100\n",
            "1/1 [==============================] - 0s 10ms/step - loss: 2.0842 - mae: 2.0842\n",
            "Epoch 75/100\n",
            "1/1 [==============================] - 0s 9ms/step - loss: 1.8962 - mae: 1.8962\n",
            "Epoch 76/100\n",
            "1/1 [==============================] - 0s 10ms/step - loss: 1.7068 - mae: 1.7068\n",
            "Epoch 77/100\n",
            "1/1 [==============================] - 0s 10ms/step - loss: 1.5160 - mae: 1.5160\n",
            "Epoch 78/100\n",
            "1/1 [==============================] - 0s 11ms/step - loss: 1.3238 - mae: 1.3238\n",
            "Epoch 79/100\n",
            "1/1 [==============================] - 0s 9ms/step - loss: 1.1301 - mae: 1.1301\n",
            "Epoch 80/100\n",
            "1/1 [==============================] - 0s 13ms/step - loss: 0.9351 - mae: 0.9351\n",
            "Epoch 81/100\n",
            "1/1 [==============================] - 0s 9ms/step - loss: 0.7385 - mae: 0.7385\n",
            "Epoch 82/100\n",
            "1/1 [==============================] - 0s 9ms/step - loss: 0.5845 - mae: 0.5845\n",
            "Epoch 83/100\n",
            "1/1 [==============================] - 0s 11ms/step - loss: 0.5594 - mae: 0.5594\n",
            "Epoch 84/100\n",
            "1/1 [==============================] - 0s 10ms/step - loss: 0.5947 - mae: 0.5947\n",
            "Epoch 85/100\n",
            "1/1 [==============================] - 0s 10ms/step - loss: 0.6596 - mae: 0.6596\n",
            "Epoch 86/100\n",
            "1/1 [==============================] - 0s 10ms/step - loss: 0.7199 - mae: 0.7199\n",
            "Epoch 87/100\n",
            "1/1 [==============================] - 0s 10ms/step - loss: 0.7708 - mae: 0.7708\n",
            "Epoch 88/100\n",
            "1/1 [==============================] - 0s 9ms/step - loss: 0.8238 - mae: 0.8238\n",
            "Epoch 89/100\n",
            "1/1 [==============================] - 0s 10ms/step - loss: 0.8599 - mae: 0.8599\n",
            "Epoch 90/100\n",
            "1/1 [==============================] - 0s 9ms/step - loss: 0.8808 - mae: 0.8808\n",
            "Epoch 91/100\n",
            "1/1 [==============================] - 0s 10ms/step - loss: 0.8880 - mae: 0.8880\n",
            "Epoch 92/100\n",
            "1/1 [==============================] - 0s 9ms/step - loss: 0.8829 - mae: 0.8829\n",
            "Epoch 93/100\n",
            "1/1 [==============================] - 0s 10ms/step - loss: 0.8666 - mae: 0.8666\n",
            "Epoch 94/100\n",
            "1/1 [==============================] - 0s 9ms/step - loss: 0.8403 - mae: 0.8403\n",
            "Epoch 95/100\n",
            "1/1 [==============================] - 0s 10ms/step - loss: 0.8051 - mae: 0.8051\n",
            "Epoch 96/100\n",
            "1/1 [==============================] - 0s 10ms/step - loss: 0.7619 - mae: 0.7619\n",
            "Epoch 97/100\n",
            "1/1 [==============================] - 0s 11ms/step - loss: 0.7228 - mae: 0.7228\n",
            "Epoch 98/100\n",
            "1/1 [==============================] - 0s 10ms/step - loss: 0.6853 - mae: 0.6853\n",
            "Epoch 99/100\n",
            "1/1 [==============================] - 0s 10ms/step - loss: 0.6460 - mae: 0.6460\n",
            "Epoch 100/100\n",
            "1/1 [==============================] - 0s 10ms/step - loss: 0.6049 - mae: 0.6049\n"
          ]
        },
        {
          "output_type": "execute_result",
          "data": {
            "text/plain": [
              "<keras.callbacks.History at 0x7f0fe5fa2640>"
            ]
          },
          "metadata": {},
          "execution_count": 11
        }
      ]
    },
    {
      "cell_type": "code",
      "source": [
        "model.predict([5])"
      ],
      "metadata": {
        "colab": {
          "base_uri": "https://localhost:8080/"
        },
        "id": "HsWJ12Xp9fVQ",
        "outputId": "42e0d41e-3af2-4e1e-aa38-92d7243ee553"
      },
      "execution_count": 12,
      "outputs": [
        {
          "output_type": "stream",
          "name": "stdout",
          "text": [
            "1/1 [==============================] - 0s 75ms/step\n"
          ]
        },
        {
          "output_type": "execute_result",
          "data": {
            "text/plain": [
              "array([[6.2158837]], dtype=float32)"
            ]
          },
          "metadata": {},
          "execution_count": 12
        }
      ]
    },
    {
      "cell_type": "code",
      "source": [
        "X = tf.range(-100, 100, 4)\n",
        "X"
      ],
      "metadata": {
        "colab": {
          "base_uri": "https://localhost:8080/"
        },
        "id": "_KsT2lku9h-m",
        "outputId": "d1e88d50-367a-4bd2-82f1-1a6e60dcb8b9"
      },
      "execution_count": 13,
      "outputs": [
        {
          "output_type": "execute_result",
          "data": {
            "text/plain": [
              "<tf.Tensor: shape=(50,), dtype=int32, numpy=\n",
              "array([-100,  -96,  -92,  -88,  -84,  -80,  -76,  -72,  -68,  -64,  -60,\n",
              "        -56,  -52,  -48,  -44,  -40,  -36,  -32,  -28,  -24,  -20,  -16,\n",
              "        -12,   -8,   -4,    0,    4,    8,   12,   16,   20,   24,   28,\n",
              "         32,   36,   40,   44,   48,   52,   56,   60,   64,   68,   72,\n",
              "         76,   80,   84,   88,   92,   96], dtype=int32)>"
            ]
          },
          "metadata": {},
          "execution_count": 13
        }
      ]
    },
    {
      "cell_type": "code",
      "source": [
        "y = X + 10\n",
        "y"
      ],
      "metadata": {
        "colab": {
          "base_uri": "https://localhost:8080/"
        },
        "id": "huZoVaPXLy_2",
        "outputId": "844d4258-fe5b-436b-8ce4-46876aa3bb43"
      },
      "execution_count": 14,
      "outputs": [
        {
          "output_type": "execute_result",
          "data": {
            "text/plain": [
              "<tf.Tensor: shape=(50,), dtype=int32, numpy=\n",
              "array([-90, -86, -82, -78, -74, -70, -66, -62, -58, -54, -50, -46, -42,\n",
              "       -38, -34, -30, -26, -22, -18, -14, -10,  -6,  -2,   2,   6,  10,\n",
              "        14,  18,  22,  26,  30,  34,  38,  42,  46,  50,  54,  58,  62,\n",
              "        66,  70,  74,  78,  82,  86,  90,  94,  98, 102, 106], dtype=int32)>"
            ]
          },
          "metadata": {},
          "execution_count": 14
        }
      ]
    },
    {
      "cell_type": "code",
      "source": [
        "plt.scatter(X, y)"
      ],
      "metadata": {
        "colab": {
          "base_uri": "https://localhost:8080/",
          "height": 282
        },
        "id": "lyaNTTl6L5SC",
        "outputId": "83b7ee70-5938-4e47-8d1b-258f33fdc4bb"
      },
      "execution_count": 15,
      "outputs": [
        {
          "output_type": "execute_result",
          "data": {
            "text/plain": [
              "<matplotlib.collections.PathCollection at 0x7f0fe428ed90>"
            ]
          },
          "metadata": {},
          "execution_count": 15
        },
        {
          "output_type": "display_data",
          "data": {
            "text/plain": [
              "<Figure size 432x288 with 1 Axes>"
            ],
            "image/png": "[encoded data removed]"
          },
          "metadata": {
            "needs_background": "light"
          }
        }
      ]
    },
    {
      "cell_type": "code",
      "source": [
        "X_train = X[:40]\n",
        "y_train = y[:40]\n",
        "\n",
        "X_test = X[40:]\n",
        "y_test = y[40:]"
      ],
      "metadata": {
        "id": "HFAHUwV-MGCz"
      },
      "execution_count": 16,
      "outputs": []
    },
    {
      "cell_type": "code",
      "source": [
        "plt.figure(figsize=(7, 7))\n",
        "plt.scatter(X_train, y_train, c=\"b\", label=\"Training data\")\n",
        "plt.scatter(X_test, y_test, c=\"g\", label=\"Testing data\")\n",
        "plt.legend()"
      ],
      "metadata": {
        "colab": {
          "base_uri": "https://localhost:8080/",
          "height": 445
        },
        "id": "vExikROENSsT",
        "outputId": "030418a6-808f-4b88-b2ae-c1243aca112a"
      },
      "execution_count": 17,
      "outputs": [
        {
          "output_type": "execute_result",
          "data": {
            "text/plain": [
              "<matplotlib.legend.Legend at 0x7f0fe4214b20>"
            ]
          },
          "metadata": {},
          "execution_count": 17
        },
        {
          "output_type": "display_data",
          "data": {
            "text/plain": [
              "<Figure size 504x504 with 1 Axes>"
            ],
            "image/png": "[encoded data removed]"
          },
          "metadata": {
            "needs_background": "light"
          }
        }
      ]
    },
    {
      "cell_type": "code",
      "source": [
        "model = tf.keras.Sequential([\n",
        "    tf.keras.layers.InputLayer(input_shape=(1)),\n",
        "    tf.keras.layers.Dense(2),\n",
        "    tf.keras.layers.Dense(1)\n",
        "])\n",
        "\n",
        "model.compile(loss = tf.keras.losses.mae,\n",
        "              optimizer = tf.keras.optimizers.SGD(),\n",
        "              metrics=[\"mae\"])\n",
        "\n"
      ],
      "metadata": {
        "id": "OgP-YkJAN0r8"
      },
      "execution_count": 18,
      "outputs": []
    },
    {
      "cell_type": "markdown",
      "source": [
        "Visualizing the model"
      ],
      "metadata": {
        "id": "ItnqrDHcPSaT"
      }
    },
    {
      "cell_type": "code",
      "source": [
        "model.summary()"
      ],
      "metadata": {
        "colab": {
          "base_uri": "https://localhost:8080/"
        },
        "id": "X2SL4HIsPFyE",
        "outputId": "fea1a6b6-f4e0-4fbc-e74b-1680192471be"
      },
      "execution_count": 19,
      "outputs": [
        {
          "output_type": "stream",
          "name": "stdout",
          "text": [
            "Model: \"sequential_4\"\n",
            "_________________________________________________________________\n",
            " Layer (type)                Output Shape              Param #   \n",
            "=================================================================\n",
            " dense_6 (Dense)             (None, 2)                 4         \n",
            "                                                                 \n",
            " dense_7 (Dense)             (None, 1)                 3         \n",
            "                                                                 \n",
            "=================================================================\n",
            "Total params: 7\n",
            "Trainable params: 7\n",
            "Non-trainable params: 0\n",
            "_________________________________________________________________\n"
          ]
        }
      ]
    },
    {
      "cell_type": "code",
      "source": [
        "model.fit(X_train, y_train, epochs=200, verbose=0)"
      ],
      "metadata": {
        "colab": {
          "base_uri": "https://localhost:8080/"
        },
        "id": "Y2xVEkOlO9OK",
        "outputId": "a38ac021-56fe-42cb-d4d4-1342db0f9ba1"
      },
      "execution_count": 20,
      "outputs": [
        {
          "output_type": "execute_result",
          "data": {
            "text/plain": [
              "<keras.callbacks.History at 0x7f0fe418e1c0>"
            ]
          },
          "metadata": {},
          "execution_count": 20
        }
      ]
    },
    {
      "cell_type": "code",
      "source": [
        "from tensorflow.keras.utils import plot_model"
      ],
      "metadata": {
        "id": "M1-mFONuR4R_"
      },
      "execution_count": 21,
      "outputs": []
    },
    {
      "cell_type": "code",
      "source": [
        "plot_model(model, show_shapes=True)"
      ],
      "metadata": {
        "colab": {
          "base_uri": "https://localhost:8080/",
          "height": 312
        },
        "id": "2zzSVeUQZ2P8",
        "outputId": "247028cf-c0d1-414e-be66-512d5bbf3848"
      },
      "execution_count": 22,
      "outputs": [
        {
          "output_type": "execute_result",
          "data": {
            "image/png": "[encoded data removed]",
            "text/plain": [
              "<IPython.core.display.Image object>"
            ]
          },
          "metadata": {},
          "execution_count": 22
        }
      ]
    },
    {
      "cell_type": "code",
      "source": [
        "y_pred = model.predict(X_test)\n",
        "y_pred"
      ],
      "metadata": {
        "colab": {
          "base_uri": "https://localhost:8080/"
        },
        "id": "6paqFKoPZ7Fh",
        "outputId": "567ae267-d5f0-4591-ec5e-4b6cf301467e"
      },
      "execution_count": 23,
      "outputs": [
        {
          "output_type": "stream",
          "name": "stderr",
          "text": [
            "WARNING:tensorflow:5 out of the last 5 calls to <function Model.make_predict_function.<locals>.predict_function at 0x7f0fe40e6b80> triggered tf.function retracing. Tracing is expensive and the excessive number of tracings could be due to (1) creating @tf.function repeatedly in a loop, (2) passing tensors with different shapes, (3) passing Python objects instead of tensors. For (1), please define your @tf.function outside of the loop. For (2), @tf.function has reduce_retracing=True option that can avoid unnecessary retracing. For (3), please refer to https://www.tensorflow.org/guide/function#controlling_retracing and https://www.tensorflow.org/api_docs/python/tf/function for  more details.\n"
          ]
        },
        {
          "output_type": "stream",
          "name": "stdout",
          "text": [
            "1/1 [==============================] - 0s 105ms/step\n"
          ]
        },
        {
          "output_type": "execute_result",
          "data": {
            "text/plain": [
              "array([[58.441463],\n",
              "       [62.137554],\n",
              "       [65.83364 ],\n",
              "       [69.52974 ],\n",
              "       [73.22583 ],\n",
              "       [76.92192 ],\n",
              "       [80.61802 ],\n",
              "       [84.31412 ],\n",
              "       [88.01021 ],\n",
              "       [91.70631 ]], dtype=float32)"
            ]
          },
          "metadata": {},
          "execution_count": 23
        }
      ]
    },
    {
      "cell_type": "code",
      "source": [
        "y_test"
      ],
      "metadata": {
        "colab": {
          "base_uri": "https://localhost:8080/"
        },
        "id": "9w5ndc7RoNCG",
        "outputId": "60d0ec6f-8bca-4774-f12b-fa2076a87dda"
      },
      "execution_count": 24,
      "outputs": [
        {
          "output_type": "execute_result",
          "data": {
            "text/plain": [
              "<tf.Tensor: shape=(10,), dtype=int32, numpy=array([ 70,  74,  78,  82,  86,  90,  94,  98, 102, 106], dtype=int32)>"
            ]
          },
          "metadata": {},
          "execution_count": 24
        }
      ]
    },
    {
      "cell_type": "code",
      "source": [
        "plt.figure()\n",
        "\n",
        "plt.scatter(X_train, y_train)\n",
        "plt.scatter(X_test, y_test)\n",
        "plt.scatter(X_test, y_pred)\n",
        "plt.legend"
      ],
      "metadata": {
        "colab": {
          "base_uri": "https://localhost:8080/",
          "height": 282
        },
        "id": "b6ryVIXYoQMQ",
        "outputId": "ba604a78-a247-4776-8cc3-2201da442812"
      },
      "execution_count": 25,
      "outputs": [
        {
          "output_type": "execute_result",
          "data": {
            "text/plain": [
              "<function matplotlib.pyplot.legend(*args, **kwargs)>"
            ]
          },
          "metadata": {},
          "execution_count": 25
        },
        {
          "output_type": "display_data",
          "data": {
            "text/plain": [
              "<Figure size 432x288 with 1 Axes>"
            ],
            "image/png": "[encoded data removed]"
          },
          "metadata": {
            "needs_background": "light"
          }
        }
      ]
    },
    {
      "cell_type": "code",
      "source": [
        "model.evaluate(X_test, y_test)"
      ],
      "metadata": {
        "colab": {
          "base_uri": "https://localhost:8080/"
        },
        "id": "aejwX7MIo-7r",
        "outputId": "91c2ffbe-8f1d-4a1a-ccd5-7742077ceb12"
      },
      "execution_count": 26,
      "outputs": [
        {
          "output_type": "stream",
          "name": "stdout",
          "text": [
            "1/1 [==============================] - 0s 340ms/step - loss: 12.9261 - mae: 12.9261\n"
          ]
        },
        {
          "output_type": "execute_result",
          "data": {
            "text/plain": [
              "[12.926119804382324, 12.926119804382324]"
            ]
          },
          "metadata": {},
          "execution_count": 26
        }
      ]
    },
    {
      "cell_type": "code",
      "source": [
        "y_test.shape, y_pred"
      ],
      "metadata": {
        "colab": {
          "base_uri": "https://localhost:8080/"
        },
        "id": "Sg-8_mKauwUd",
        "outputId": "27b5beb0-5320-4964-857a-be9dd7c80d12"
      },
      "execution_count": 27,
      "outputs": [
        {
          "output_type": "execute_result",
          "data": {
            "text/plain": [
              "(TensorShape([10]), array([[58.441463],\n",
              "        [62.137554],\n",
              "        [65.83364 ],\n",
              "        [69.52974 ],\n",
              "        [73.22583 ],\n",
              "        [76.92192 ],\n",
              "        [80.61802 ],\n",
              "        [84.31412 ],\n",
              "        [88.01021 ],\n",
              "        [91.70631 ]], dtype=float32))"
            ]
          },
          "metadata": {},
          "execution_count": 27
        }
      ]
    },
    {
      "cell_type": "code",
      "source": [
        "tf.keras.losses.MAE(y_true = y_test, y_pred=y_pred)"
      ],
      "metadata": {
        "colab": {
          "base_uri": "https://localhost:8080/"
        },
        "id": "J34f4hNopI-t",
        "outputId": "fed45c4d-0342-4977-c852-36415539fbd3"
      },
      "execution_count": 28,
      "outputs": [
        {
          "output_type": "execute_result",
          "data": {
            "text/plain": [
              "<tf.Tensor: shape=(10,), dtype=float32, numpy=\n",
              "array([29.558537, 25.862446, 22.166359, 18.47026 , 15.419336, 13.046847,\n",
              "       11.352793, 10.337176, 10.      , 10.341261], dtype=float32)>"
            ]
          },
          "metadata": {},
          "execution_count": 28
        }
      ]
    },
    {
      "cell_type": "code",
      "source": [
        "y_pred = tf.squeeze(y_pred) # to reduce the dimension"
      ],
      "metadata": {
        "id": "SKC8b5RCsH5E"
      },
      "execution_count": 29,
      "outputs": []
    },
    {
      "cell_type": "code",
      "source": [
        "tf.keras.losses.MAE(y_true = y_test,\n",
        "                    y_pred = y_pred)"
      ],
      "metadata": {
        "colab": {
          "base_uri": "https://localhost:8080/"
        },
        "id": "ZoJ6-E7evif-",
        "outputId": "be1c3469-f0ed-46b8-e535-823e591493ce"
      },
      "execution_count": 30,
      "outputs": [
        {
          "output_type": "execute_result",
          "data": {
            "text/plain": [
              "<tf.Tensor: shape=(), dtype=float32, numpy=12.92612>"
            ]
          },
          "metadata": {},
          "execution_count": 30
        }
      ]
    },
    {
      "cell_type": "code",
      "source": [
        "tf.keras.losses.MSE(y_true = y_test,\n",
        "                    y_pred = y_pred)"
      ],
      "metadata": {
        "colab": {
          "base_uri": "https://localhost:8080/"
        },
        "id": "-jZLbJUBvo6S",
        "outputId": "ee2792f7-de1f-4482-c850-0e8acc221ae2"
      },
      "execution_count": 31,
      "outputs": [
        {
          "output_type": "execute_result",
          "data": {
            "text/plain": [
              "<tf.Tensor: shape=(), dtype=float32, numpy=167.84653>"
            ]
          },
          "metadata": {},
          "execution_count": 31
        }
      ]
    },
    {
      "cell_type": "code",
      "source": [
        "def mae(y_true, y_pred):\n",
        "  return tf.keras.losses.MAE(y_true = y_true, y_pred = tf.squeeze(y_pred))\n",
        "\n",
        "mae(y_test, y_pred)"
      ],
      "metadata": {
        "colab": {
          "base_uri": "https://localhost:8080/"
        },
        "id": "qAyM9LXxv1bZ",
        "outputId": "af8ab3dd-e852-4fa3-beaa-2cf1cad53084"
      },
      "execution_count": 32,
      "outputs": [
        {
          "output_type": "execute_result",
          "data": {
            "text/plain": [
              "<tf.Tensor: shape=(), dtype=float32, numpy=12.92612>"
            ]
          },
          "metadata": {},
          "execution_count": 32
        }
      ]
    },
    {
      "cell_type": "code",
      "source": [
        "def plot_predictions(y_pred, x_train = X_train, y_train = y_train, x_test = X_test, y_test = y_test):\n",
        "\n",
        "  plt.figure(figsize=(10,10))\n",
        "  plt.scatter(x_train, y_train)\n",
        "  plt.scatter(x_test, y_test)\n",
        "  plt.scatter(x_test, y_pred)\n",
        "  plt.legend()"
      ],
      "metadata": {
        "id": "PnmK132UsYjb"
      },
      "execution_count": 33,
      "outputs": []
    },
    {
      "cell_type": "markdown",
      "source": [
        "Running experiments"
      ],
      "metadata": {
        "id": "vo3DDnJ0uYZ8"
      }
    },
    {
      "cell_type": "markdown",
      "source": [
        "MAking a larger model"
      ],
      "metadata": {
        "id": "G3TyZbcouimg"
      }
    },
    {
      "cell_type": "markdown",
      "source": [
        "1 train for 100 epochs"
      ],
      "metadata": {
        "id": "UzDCwKYIuldj"
      }
    },
    {
      "cell_type": "markdown",
      "source": [
        "2 layers for 100 epochs"
      ],
      "metadata": {
        "id": "dSB2rYEduqDD"
      }
    },
    {
      "cell_type": "markdown",
      "source": [
        "2 layers for 500 epochs"
      ],
      "metadata": {
        "id": "5XHoPdD-usj6"
      }
    },
    {
      "cell_type": "code",
      "source": [
        "model_1 = tf.keras.Sequential([\n",
        "    tf.keras.layers.InputLayer(input_shape=(1)),\n",
        "    tf.keras.layers.Dense(1)\n",
        "])\n",
        "\n",
        "model.compile(loss = tf.keras.losses.mae,\n",
        "              optimizer = tf.keras.optimizers.SGD(),\n",
        "              metrics = [\"mae\"])\n",
        "\n",
        "model.fit(X_train, y_train, epochs=100, verbose=0)\n",
        "\n",
        "model.evaluate(X_test, y_test)"
      ],
      "metadata": {
        "colab": {
          "base_uri": "https://localhost:8080/"
        },
        "id": "NXB4-e7VtC5B",
        "outputId": "3c341bce-ab81-4c92-a1b3-fc7118a08fee"
      },
      "execution_count": 34,
      "outputs": [
        {
          "output_type": "stream",
          "name": "stdout",
          "text": [
            "1/1 [==============================] - 0s 270ms/step - loss: 31.0229 - mae: 31.0229\n"
          ]
        },
        {
          "output_type": "execute_result",
          "data": {
            "text/plain": [
              "[31.022857666015625, 31.022857666015625]"
            ]
          },
          "metadata": {},
          "execution_count": 34
        }
      ]
    },
    {
      "cell_type": "code",
      "source": [
        "y_pred_1 = model_1.predict(X_test)"
      ],
      "metadata": {
        "colab": {
          "base_uri": "https://localhost:8080/"
        },
        "id": "Hn3ZVdCBvZ0a",
        "outputId": "6552c020-96d4-40f4-bde7-e793aa991486"
      },
      "execution_count": 35,
      "outputs": [
        {
          "output_type": "stream",
          "name": "stderr",
          "text": [
            "WARNING:tensorflow:6 out of the last 6 calls to <function Model.make_predict_function.<locals>.predict_function at 0x7f0fed328940> triggered tf.function retracing. Tracing is expensive and the excessive number of tracings could be due to (1) creating @tf.function repeatedly in a loop, (2) passing tensors with different shapes, (3) passing Python objects instead of tensors. For (1), please define your @tf.function outside of the loop. For (2), @tf.function has reduce_retracing=True option that can avoid unnecessary retracing. For (3), please refer to https://www.tensorflow.org/guide/function#controlling_retracing and https://www.tensorflow.org/api_docs/python/tf/function for  more details.\n"
          ]
        },
        {
          "output_type": "stream",
          "name": "stdout",
          "text": [
            "1/1 [==============================] - 0s 118ms/step\n"
          ]
        }
      ]
    },
    {
      "cell_type": "code",
      "source": [
        "plot_predictions(y_pred = y_pred_1)"
      ],
      "metadata": {
        "colab": {
          "base_uri": "https://localhost:8080/",
          "height": 629
        },
        "id": "ll0313CrEdsZ",
        "outputId": "aee45335-83f5-40ff-dbd2-1c8cdbe89131"
      },
      "execution_count": 36,
      "outputs": [
        {
          "output_type": "stream",
          "name": "stderr",
          "text": [
            "WARNING:matplotlib.legend:No artists with labels found to put in legend.  Note that artists whose label start with an underscore are ignored when legend() is called with no argument.\n"
          ]
        },
        {
          "output_type": "display_data",
          "data": {
            "text/plain": [
              "<Figure size 720x720 with 1 Axes>"
            ],
            "image/png": "[encoded data removed]"
          },
          "metadata": {
            "needs_background": "light"
          }
        }
      ]
    },
    {
      "cell_type": "code",
      "source": [
        "mae(y_test, y_pred_1)"
      ],
      "metadata": {
        "colab": {
          "base_uri": "https://localhost:8080/"
        },
        "id": "rqCxv6k8Elg9",
        "outputId": "b8b7cf8b-9a02-4f28-ce47-7d71c21678b0"
      },
      "execution_count": 37,
      "outputs": [
        {
          "output_type": "execute_result",
          "data": {
            "text/plain": [
              "<tf.Tensor: shape=(), dtype=float32, numpy=21.756866>"
            ]
          },
          "metadata": {},
          "execution_count": 37
        }
      ]
    },
    {
      "cell_type": "markdown",
      "source": [
        "Model 2"
      ],
      "metadata": {
        "id": "tbu8OA7zGDeb"
      }
    },
    {
      "cell_type": "code",
      "source": [
        "tf.random.set_seed(42)\n",
        "\n",
        "model2 = tf.keras.Sequential([\n",
        "    tf.keras.layers.InputLayer(input_shape=(1)),\n",
        "    tf.keras.layers.Dense(10),\n",
        "    tf.keras.layers.Dense(1)\n",
        "])\n",
        "\n",
        "model2.compile(loss = tf.keras.losses.mae,\n",
        "              optimizer = tf.keras.optimizers.SGD(),\n",
        "              metrics = [\"mae\"])\n",
        "\n",
        "model2.fit(X_train, y_train, epochs = 100, verbose = 0)\n",
        "\n",
        "y_pred_2 = model2.predict(X_test)\n",
        "\n",
        "mae(y_test, y_pred_2)"
      ],
      "metadata": {
        "colab": {
          "base_uri": "https://localhost:8080/"
        },
        "id": "_5zGJsrjFPSL",
        "outputId": "a79785c9-e4b4-4e08-e07a-71dfcffdc278"
      },
      "execution_count": 38,
      "outputs": [
        {
          "output_type": "stream",
          "name": "stdout",
          "text": [
            "1/1 [==============================] - 0s 122ms/step\n"
          ]
        },
        {
          "output_type": "execute_result",
          "data": {
            "text/plain": [
              "<tf.Tensor: shape=(), dtype=float32, numpy=9.948542>"
            ]
          },
          "metadata": {},
          "execution_count": 38
        }
      ]
    },
    {
      "cell_type": "code",
      "source": [
        "plot_predictions(y_pred = y_pred_2)"
      ],
      "metadata": {
        "colab": {
          "base_uri": "https://localhost:8080/",
          "height": 629
        },
        "id": "vowwhXSuGtRw",
        "outputId": "70735eac-e0e1-4703-81e7-8d5312021afa"
      },
      "execution_count": 40,
      "outputs": [
        {
          "output_type": "stream",
          "name": "stderr",
          "text": [
            "WARNING:matplotlib.legend:No artists with labels found to put in legend.  Note that artists whose label start with an underscore are ignored when legend() is called with no argument.\n"
          ]
        },
        {
          "output_type": "display_data",
          "data": {
            "text/plain": [
              "<Figure size 720x720 with 1 Axes>"
            ],
            "image/png": "[encoded data removed]"
          },
          "metadata": {
            "needs_background": "light"
          }
        }
      ]
    },
    {
      "cell_type": "code",
      "source": [
        "tf.random.set_seed(42)\n",
        "model3 = tf.keras.Sequential([\n",
        "    tf.keras.layers.InputLayer(input_shape=(1)),\n",
        "    tf.keras.layers.Dense(10),\n",
        "    tf.keras.layers.Dense(1)\n",
        "])\n",
        "\n",
        "model3.compile(loss = tf.keras.losses.mae,\n",
        "               optimizer = tf.keras.optimizers.SGD(learning_rate = 0.0001),\n",
        "               metrics = [\"mae\"])\n",
        "\n",
        "model3.fit(X_test, y_test, epochs = 500, verbose=0)\n",
        "          \n",
        "y_pred_3 = model3.predict(X_test)\n",
        "\n",
        "mae(y_test, y_pred_3)"
      ],
      "metadata": {
        "colab": {
          "base_uri": "https://localhost:8080/"
        },
        "id": "ylxbkQ5rHoQR",
        "outputId": "09dc7e5a-1a0d-46e8-f6dd-09a641cfd08b"
      },
      "execution_count": 45,
      "outputs": [
        {
          "output_type": "stream",
          "name": "stdout",
          "text": [
            "1/1 [==============================] - 0s 54ms/step\n"
          ]
        },
        {
          "output_type": "execute_result",
          "data": {
            "text/plain": [
              "<tf.Tensor: shape=(), dtype=float32, numpy=1.261988>"
            ]
          },
          "metadata": {},
          "execution_count": 45
        }
      ]
    },
    {
      "cell_type": "code",
      "source": [
        "plot_predictions(y_pred_3)"
      ],
      "metadata": {
        "colab": {
          "base_uri": "https://localhost:8080/",
          "height": 629
        },
        "id": "YQnP_lhuIk-8",
        "outputId": "58d4ea27-2293-49d2-8a57-787b5a2245f6"
      },
      "execution_count": 46,
      "outputs": [
        {
          "output_type": "stream",
          "name": "stderr",
          "text": [
            "WARNING:matplotlib.legend:No artists with labels found to put in legend.  Note that artists whose label start with an underscore are ignored when legend() is called with no argument.\n"
          ]
        },
        {
          "output_type": "display_data",
          "data": {
            "text/plain": [
              "<Figure size 720x720 with 1 Axes>"
            ],
            "image/png": "[encoded data removed]"
          },
          "metadata": {
            "needs_background": "light"
          }
        }
      ]
    },
    {
      "cell_type": "code",
      "source": [
        "model3.save(\"01mlmodel\")"
      ],
      "metadata": {
        "colab": {
          "base_uri": "https://localhost:8080/"
        },
        "id": "62WBa_MXJDcS",
        "outputId": "bdd106cc-b893-4377-9f16-1e1c0a788fa4"
      },
      "execution_count": 47,
      "outputs": [
        {
          "output_type": "stream",
          "name": "stderr",
          "text": [
            "WARNING:absl:Found untraced functions such as _update_step_xla while saving (showing 1 of 1). These functions will not be directly callable after loading.\n"
          ]
        }
      ]
    },
    {
      "cell_type": "code",
      "source": [
        "model3.save(\"01mlmodel.h5\")"
      ],
      "metadata": {
        "id": "QvzjrG7MgzUa"
      },
      "execution_count": 48,
      "outputs": []
    },
    {
      "cell_type": "code",
      "source": [
        "loaded_model = tf.keras.models.load_model(\"/content/01mlmodel\")"
      ],
      "metadata": {
        "id": "XqIPifM2hDv-"
      },
      "execution_count": 50,
      "outputs": []
    },
    {
      "cell_type": "code",
      "source": [
        "loaded_model.summary()"
      ],
      "metadata": {
        "colab": {
          "base_uri": "https://localhost:8080/"
        },
        "id": "EVxRJXvXbjsL",
        "outputId": "e3476cca-6f57-4f17-92d2-dac3bdf66898"
      },
      "execution_count": 51,
      "outputs": [
        {
          "output_type": "stream",
          "name": "stdout",
          "text": [
            "Model: \"sequential_7\"\n",
            "_________________________________________________________________\n",
            " Layer (type)                Output Shape              Param #   \n",
            "=================================================================\n",
            " dense_11 (Dense)            (None, 10)                20        \n",
            "                                                                 \n",
            " dense_12 (Dense)            (None, 1)                 11        \n",
            "                                                                 \n",
            "=================================================================\n",
            "Total params: 31\n",
            "Trainable params: 31\n",
            "Non-trainable params: 0\n",
            "_________________________________________________________________\n"
          ]
        }
      ]
    },
    {
      "cell_type": "code",
      "source": [
        "plot_model(loaded_model, show_shapes=True)"
      ],
      "metadata": {
        "colab": {
          "base_uri": "https://localhost:8080/",
          "height": 312
        },
        "id": "4E-IjZxQcUJL",
        "outputId": "370bd601-c3d8-4b1b-9519-2ab771d5a0c3"
      },
      "execution_count": 54,
      "outputs": [
        {
          "output_type": "execute_result",
          "data": {
            "image/png": "[encoded data removed]",
            "text/plain": [
              "<IPython.core.display.Image object>"
            ]
          },
          "metadata": {},
          "execution_count": 54
        }
      ]
    },
    {
      "cell_type": "code",
      "source": [
        "from google.colab import files\n",
        "files.download(\"/content/01mlmodel\")"
      ],
      "metadata": {
        "id": "gkeDPMBEcZWu"
      },
      "execution_count": null,
      "outputs": []
    },
    {
      "cell_type": "code",
      "source": [
        "from google.colab import files\n",
        "files.download(\"/content/01mlmodel.h5\")"
      ],
      "metadata": {
        "colab": {
          "base_uri": "https://localhost:8080/",
          "height": 17
        },
        "id": "pzoW5uKkkrH3",
        "outputId": "e8070d4a-c11f-461a-dd4a-722231dbf1a2"
      },
      "execution_count": 56,
      "outputs": [
        {
          "output_type": "display_data",
          "data": {
            "text/plain": [
              "<IPython.core.display.Javascript object>"
            ],
            "application/javascript": [
              "\n",
              "    async function download(id, filename, size) {\n",
              "      if (!google.colab.kernel.accessAllowed) {\n",
              "        return;\n",
              "      }\n",
              "      const div = document.createElement('div');\n",
              "      const label = document.createElement('label');\n",
              "      label.textContent = `Downloading \"${filename}\": `;\n",
              "      div.appendChild(label);\n",
              "      const progress = document.createElement('progress');\n",
              "      progress.max = size;\n",
              "      div.appendChild(progress);\n",
              "      document.body.appendChild(div);\n",
              "\n",
              "      const buffers = [];\n",
              "      let downloaded = 0;\n",
              "\n",
              "      const channel = await google.colab.kernel.comms.open(id);\n",
              "      // Send a message to notify the kernel that we're ready.\n",
              "      channel.send({})\n",
              "\n",
              "      for await (const message of channel.messages) {\n",
              "        // Send a message to notify the kernel that we're ready.\n",
              "        channel.send({})\n",
              "        if (message.buffers) {\n",
              "          for (const buffer of message.buffers) {\n",
              "            buffers.push(buffer);\n",
              "            downloaded += buffer.byteLength;\n",
              "            progress.value = downloaded;\n",
              "          }\n",
              "        }\n",
              "      }\n",
              "      const blob = new Blob(buffers, {type: 'application/binary'});\n",
              "      const a = document.createElement('a');\n",
              "      a.href = window.URL.createObjectURL(blob);\n",
              "      a.download = filename;\n",
              "      div.appendChild(a);\n",
              "      a.click();\n",
              "      div.remove();\n",
              "    }\n",
              "  "
            ]
          },
          "metadata": {}
        },
        {
          "output_type": "display_data",
          "data": {
            "text/plain": [
              "<IPython.core.display.Javascript object>"
            ],
            "application/javascript": [
              "download(\"download_86324200-6fbd-417c-bf60-80d75bdf3b17\", \"01mlmodel.h5\", 22120)"
            ]
          },
          "metadata": {}
        }
      ]
    },
    {
      "cell_type": "markdown",
      "source": [
        "A larger Wxample\n"
      ],
      "metadata": {
        "id": "4FCv0ONtmCjR"
      }
    },
    {
      "cell_type": "code",
      "source": [
        "import tensorflow as tf\n",
        "import pandas as pd\n",
        "import numpy as np\n",
        "import matplotlib.pyplot as plt\n",
        "\n",
        "insurance = pd.read_csv(\"https://raw.githubusercontent.com/stedy/Machine-Learning-with-R-datasets/master/insurance.csv\")"
      ],
      "metadata": {
        "id": "G1HCpMiik00Y"
      },
      "execution_count": 57,
      "outputs": []
    },
    {
      "cell_type": "code",
      "source": [
        "insurance"
      ],
      "metadata": {
        "colab": {
          "base_uri": "https://localhost:8080/",
          "height": 423
        },
        "id": "YLnmT-yFo1vH",
        "outputId": "5ca241a3-3b5c-4090-b69c-b1f03af52f31"
      },
      "execution_count": 58,
      "outputs": [
        {
          "output_type": "execute_result",
          "data": {
            "text/plain": [
              "      age     sex     bmi  children smoker     region      charges\n",
              "0      19  female  27.900         0    yes  southwest  16884.92400\n",
              "1      18    male  33.770         1     no  southeast   1725.55230\n",
              "2      28    male  33.000         3     no  southeast   4449.46200\n",
              "3      33    male  22.705         0     no  northwest  21984.47061\n",
              "4      32    male  28.880         0     no  northwest   3866.85520\n",
              "...   ...     ...     ...       ...    ...        ...          ...\n",
              "1333   50    male  30.970         3     no  northwest  10600.54830\n",
              "1334   18  female  31.920         0     no  northeast   2205.98080\n",
              "1335   18  female  36.850         0     no  southeast   1629.83350\n",
              "1336   21  female  25.800         0     no  southwest   2007.94500\n",
              "1337   61  female  29.070         0    yes  northwest  29141.36030\n",
              "\n",
              "[1338 rows x 7 columns]"
            ],
            "text/html": [
              "\n",
              "  <div id=\"df-82fecc21-2dd8-45c0-beec-a274cdbd71d9\">\n",
              "    <div class=\"colab-df-container\">\n",
              "      <div>\n",
              "<style scoped>\n",
              "    .dataframe tbody tr th:only-of-type {\n",
              "        vertical-align: middle;\n",
              "    }\n",
              "\n",
              "    .dataframe tbody tr th {\n",
              "        vertical-align: top;\n",
              "    }\n",
              "\n",
              "    .dataframe thead th {\n",
              "        text-align: right;\n",
              "    }\n",
              "</style>\n",
              "<table border=\"1\" class=\"dataframe\">\n",
              "  <thead>\n",
              "    <tr style=\"text-align: right;\">\n",
              "      <th></th>\n",
              "      <th>age</th>\n",
              "      <th>sex</th>\n",
              "      <th>bmi</th>\n",
              "      <th>children</th>\n",
              "      <th>smoker</th>\n",
              "      <th>region</th>\n",
              "      <th>charges</th>\n",
              "    </tr>\n",
              "  </thead>\n",
              "  <tbody>\n",
              "    <tr>\n",
              "      <th>0</th>\n",
              "      <td>19</td>\n",
              "      <td>female</td>\n",
              "      <td>27.900</td>\n",
              "      <td>0</td>\n",
              "      <td>yes</td>\n",
              "      <td>southwest</td>\n",
              "      <td>16884.92400</td>\n",
              "    </tr>\n",
              "    <tr>\n",
              "      <th>1</th>\n",
              "      <td>18</td>\n",
              "      <td>male</td>\n",
              "      <td>33.770</td>\n",
              "      <td>1</td>\n",
              "      <td>no</td>\n",
              "      <td>southeast</td>\n",
              "      <td>1725.55230</td>\n",
              "    </tr>\n",
              "    <tr>\n",
              "      <th>2</th>\n",
              "      <td>28</td>\n",
              "      <td>male</td>\n",
              "      <td>33.000</td>\n",
              "      <td>3</td>\n",
              "      <td>no</td>\n",
              "      <td>southeast</td>\n",
              "      <td>4449.46200</td>\n",
              "    </tr>\n",
              "    <tr>\n",
              "      <th>3</th>\n",
              "      <td>33</td>\n",
              "      <td>male</td>\n",
              "      <td>22.705</td>\n",
              "      <td>0</td>\n",
              "      <td>no</td>\n",
              "      <td>northwest</td>\n",
              "      <td>21984.47061</td>\n",
              "    </tr>\n",
              "    <tr>\n",
              "      <th>4</th>\n",
              "      <td>32</td>\n",
              "      <td>male</td>\n",
              "      <td>28.880</td>\n",
              "      <td>0</td>\n",
              "      <td>no</td>\n",
              "      <td>northwest</td>\n",
              "      <td>3866.85520</td>\n",
              "    </tr>\n",
              "    <tr>\n",
              "      <th>...</th>\n",
              "      <td>...</td>\n",
              "      <td>...</td>\n",
              "      <td>...</td>\n",
              "      <td>...</td>\n",
              "      <td>...</td>\n",
              "      <td>...</td>\n",
              "      <td>...</td>\n",
              "    </tr>\n",
              "    <tr>\n",
              "      <th>1333</th>\n",
              "      <td>50</td>\n",
              "      <td>male</td>\n",
              "      <td>30.970</td>\n",
              "      <td>3</td>\n",
              "      <td>no</td>\n",
              "      <td>northwest</td>\n",
              "      <td>10600.54830</td>\n",
              "    </tr>\n",
              "    <tr>\n",
              "      <th>1334</th>\n",
              "      <td>18</td>\n",
              "      <td>female</td>\n",
              "      <td>31.920</td>\n",
              "      <td>0</td>\n",
              "      <td>no</td>\n",
              "      <td>northeast</td>\n",
              "      <td>2205.98080</td>\n",
              "    </tr>\n",
              "    <tr>\n",
              "      <th>1335</th>\n",
              "      <td>18</td>\n",
              "      <td>female</td>\n",
              "      <td>36.850</td>\n",
              "      <td>0</td>\n",
              "      <td>no</td>\n",
              "      <td>southeast</td>\n",
              "      <td>1629.83350</td>\n",
              "    </tr>\n",
              "    <tr>\n",
              "      <th>1336</th>\n",
              "      <td>21</td>\n",
              "      <td>female</td>\n",
              "      <td>25.800</td>\n",
              "      <td>0</td>\n",
              "      <td>no</td>\n",
              "      <td>southwest</td>\n",
              "      <td>2007.94500</td>\n",
              "    </tr>\n",
              "    <tr>\n",
              "      <th>1337</th>\n",
              "      <td>61</td>\n",
              "      <td>female</td>\n",
              "      <td>29.070</td>\n",
              "      <td>0</td>\n",
              "      <td>yes</td>\n",
              "      <td>northwest</td>\n",
              "      <td>29141.36030</td>\n",
              "    </tr>\n",
              "  </tbody>\n",
              "</table>\n",
              "<p>1338 rows × 7 columns</p>\n",
              "</div>\n",
              "      <button class=\"colab-df-convert\" onclick=\"convertToInteractive('df-82fecc21-2dd8-45c0-beec-a274cdbd71d9')\"\n",
              "              title=\"Convert this dataframe to an interactive table.\"\n",
              "              style=\"display:none;\">\n",
              "        \n",
              "  <svg xmlns=\"http://www.w3.org/2000/svg\" height=\"24px\"viewBox=\"0 0 24 24\"\n",
              "       width=\"24px\">\n",
              "    <path d=\"M0 0h24v24H0V0z\" fill=\"none\"/>\n",
              "    <path d=\"M18.56 5.44l.94 2.06.94-2.06 2.06-.94-2.06-.94-.94-2.06-.94 2.06-2.06.94zm-11 1L8.5 8.5l.94-2.06 2.06-.94-2.06-.94L8.5 2.5l-.94 2.06-2.06.94zm10 10l.94 2.06.94-2.06 2.06-.94-2.06-.94-.94-2.06-.94 2.06-2.06.94z\"/><path d=\"M17.41 7.96l-1.37-1.37c-.4-.4-.92-.59-1.43-.59-.52 0-1.04.2-1.43.59L10.3 9.45l-7.72 7.72c-.78.78-.78 2.05 0 2.83L4 21.41c.39.39.9.59 1.41.59.51 0 1.02-.2 1.41-.59l7.78-7.78 2.81-2.81c.8-.78.8-2.07 0-2.86zM5.41 20L4 18.59l7.72-7.72 1.47 1.35L5.41 20z\"/>\n",
              "  </svg>\n",
              "      </button>\n",
              "      \n",
              "  <style>\n",
              "    .colab-df-container {\n",
              "      display:flex;\n",
              "      flex-wrap:wrap;\n",
              "      gap: 12px;\n",
              "    }\n",
              "\n",
              "    .colab-df-convert {\n",
              "      background-color: #E8F0FE;\n",
              "      border: none;\n",
              "      border-radius: 50%;\n",
              "      cursor: pointer;\n",
              "      display: none;\n",
              "      fill: #1967D2;\n",
              "      height: 32px;\n",
              "      padding: 0 0 0 0;\n",
              "      width: 32px;\n",
              "    }\n",
              "\n",
              "    .colab-df-convert:hover {\n",
              "      background-color: #E2EBFA;\n",
              "      box-shadow: 0px 1px 2px rgba(60, 64, 67, 0.3), 0px 1px 3px 1px rgba(60, 64, 67, 0.15);\n",
              "      fill: #174EA6;\n",
              "    }\n",
              "\n",
              "    [theme=dark] .colab-df-convert {\n",
              "      background-color: #3B4455;\n",
              "      fill: #D2E3FC;\n",
              "    }\n",
              "\n",
              "    [theme=dark] .colab-df-convert:hover {\n",
              "      background-color: #434B5C;\n",
              "      box-shadow: 0px 1px 3px 1px rgba(0, 0, 0, 0.15);\n",
              "      filter: drop-shadow(0px 1px 2px rgba(0, 0, 0, 0.3));\n",
              "      fill: #FFFFFF;\n",
              "    }\n",
              "  </style>\n",
              "\n",
              "      <script>\n",
              "        const buttonEl =\n",
              "          document.querySelector('#df-82fecc21-2dd8-45c0-beec-a274cdbd71d9 button.colab-df-convert');\n",
              "        buttonEl.style.display =\n",
              "          google.colab.kernel.accessAllowed ? 'block' : 'none';\n",
              "\n",
              "        async function convertToInteractive(key) {\n",
              "          const element = document.querySelector('#df-82fecc21-2dd8-45c0-beec-a274cdbd71d9');\n",
              "          const dataTable =\n",
              "            await google.colab.kernel.invokeFunction('convertToInteractive',\n",
              "                                                     [key], {});\n",
              "          if (!dataTable) return;\n",
              "\n",
              "          const docLinkHtml = 'Like what you see? Visit the ' +\n",
              "            '<a target=\"_blank\" href=https://colab.research.google.com/notebooks/data_table.ipynb>data table notebook</a>'\n",
              "            + ' to learn more about interactive tables.';\n",
              "          element.innerHTML = '';\n",
              "          dataTable['output_type'] = 'display_data';\n",
              "          await google.colab.output.renderOutput(dataTable, element);\n",
              "          const docLink = document.createElement('div');\n",
              "          docLink.innerHTML = docLinkHtml;\n",
              "          element.appendChild(docLink);\n",
              "        }\n",
              "      </script>\n",
              "    </div>\n",
              "  </div>\n",
              "  "
            ]
          },
          "metadata": {},
          "execution_count": 58
        }
      ]
    },
    {
      "cell_type": "code",
      "source": [
        "y = insurance.iloc[:, -1]\n",
        "X = insurance.iloc[:, :-1]\n",
        "X"
      ],
      "metadata": {
        "colab": {
          "base_uri": "https://localhost:8080/",
          "height": 423
        },
        "id": "rNWx6BGJo507",
        "outputId": "a8a01f8d-b7ff-4770-b1e7-2f98d3a4b15e"
      },
      "execution_count": 78,
      "outputs": [
        {
          "output_type": "execute_result",
          "data": {
            "text/plain": [
              "      age     sex     bmi  children smoker     region\n",
              "0      19  female  27.900         0    yes  southwest\n",
              "1      18    male  33.770         1     no  southeast\n",
              "2      28    male  33.000         3     no  southeast\n",
              "3      33    male  22.705         0     no  northwest\n",
              "4      32    male  28.880         0     no  northwest\n",
              "...   ...     ...     ...       ...    ...        ...\n",
              "1333   50    male  30.970         3     no  northwest\n",
              "1334   18  female  31.920         0     no  northeast\n",
              "1335   18  female  36.850         0     no  southeast\n",
              "1336   21  female  25.800         0     no  southwest\n",
              "1337   61  female  29.070         0    yes  northwest\n",
              "\n",
              "[1338 rows x 6 columns]"
            ],
            "text/html": [
              "\n",
              "  <div id=\"df-5234cb2e-4f79-4cf8-8ecb-6a4e0542ca4f\">\n",
              "    <div class=\"colab-df-container\">\n",
              "      <div>\n",
              "<style scoped>\n",
              "    .dataframe tbody tr th:only-of-type {\n",
              "        vertical-align: middle;\n",
              "    }\n",
              "\n",
              "    .dataframe tbody tr th {\n",
              "        vertical-align: top;\n",
              "    }\n",
              "\n",
              "    .dataframe thead th {\n",
              "        text-align: right;\n",
              "    }\n",
              "</style>\n",
              "<table border=\"1\" class=\"dataframe\">\n",
              "  <thead>\n",
              "    <tr style=\"text-align: right;\">\n",
              "      <th></th>\n",
              "      <th>age</th>\n",
              "      <th>sex</th>\n",
              "      <th>bmi</th>\n",
              "      <th>children</th>\n",
              "      <th>smoker</th>\n",
              "      <th>region</th>\n",
              "    </tr>\n",
              "  </thead>\n",
              "  <tbody>\n",
              "    <tr>\n",
              "      <th>0</th>\n",
              "      <td>19</td>\n",
              "      <td>female</td>\n",
              "      <td>27.900</td>\n",
              "      <td>0</td>\n",
              "      <td>yes</td>\n",
              "      <td>southwest</td>\n",
              "    </tr>\n",
              "    <tr>\n",
              "      <th>1</th>\n",
              "      <td>18</td>\n",
              "      <td>male</td>\n",
              "      <td>33.770</td>\n",
              "      <td>1</td>\n",
              "      <td>no</td>\n",
              "      <td>southeast</td>\n",
              "    </tr>\n",
              "    <tr>\n",
              "      <th>2</th>\n",
              "      <td>28</td>\n",
              "      <td>male</td>\n",
              "      <td>33.000</td>\n",
              "      <td>3</td>\n",
              "      <td>no</td>\n",
              "      <td>southeast</td>\n",
              "    </tr>\n",
              "    <tr>\n",
              "      <th>3</th>\n",
              "      <td>33</td>\n",
              "      <td>male</td>\n",
              "      <td>22.705</td>\n",
              "      <td>0</td>\n",
              "      <td>no</td>\n",
              "      <td>northwest</td>\n",
              "    </tr>\n",
              "    <tr>\n",
              "      <th>4</th>\n",
              "      <td>32</td>\n",
              "      <td>male</td>\n",
              "      <td>28.880</td>\n",
              "      <td>0</td>\n",
              "      <td>no</td>\n",
              "      <td>northwest</td>\n",
              "    </tr>\n",
              "    <tr>\n",
              "      <th>...</th>\n",
              "      <td>...</td>\n",
              "      <td>...</td>\n",
              "      <td>...</td>\n",
              "      <td>...</td>\n",
              "      <td>...</td>\n",
              "      <td>...</td>\n",
              "    </tr>\n",
              "    <tr>\n",
              "      <th>1333</th>\n",
              "      <td>50</td>\n",
              "      <td>male</td>\n",
              "      <td>30.970</td>\n",
              "      <td>3</td>\n",
              "      <td>no</td>\n",
              "      <td>northwest</td>\n",
              "    </tr>\n",
              "    <tr>\n",
              "      <th>1334</th>\n",
              "      <td>18</td>\n",
              "      <td>female</td>\n",
              "      <td>31.920</td>\n",
              "      <td>0</td>\n",
              "      <td>no</td>\n",
              "      <td>northeast</td>\n",
              "    </tr>\n",
              "    <tr>\n",
              "      <th>1335</th>\n",
              "      <td>18</td>\n",
              "      <td>female</td>\n",
              "      <td>36.850</td>\n",
              "      <td>0</td>\n",
              "      <td>no</td>\n",
              "      <td>southeast</td>\n",
              "    </tr>\n",
              "    <tr>\n",
              "      <th>1336</th>\n",
              "      <td>21</td>\n",
              "      <td>female</td>\n",
              "      <td>25.800</td>\n",
              "      <td>0</td>\n",
              "      <td>no</td>\n",
              "      <td>southwest</td>\n",
              "    </tr>\n",
              "    <tr>\n",
              "      <th>1337</th>\n",
              "      <td>61</td>\n",
              "      <td>female</td>\n",
              "      <td>29.070</td>\n",
              "      <td>0</td>\n",
              "      <td>yes</td>\n",
              "      <td>northwest</td>\n",
              "    </tr>\n",
              "  </tbody>\n",
              "</table>\n",
              "<p>1338 rows × 6 columns</p>\n",
              "</div>\n",
              "      <button class=\"colab-df-convert\" onclick=\"convertToInteractive('df-5234cb2e-4f79-4cf8-8ecb-6a4e0542ca4f')\"\n",
              "              title=\"Convert this dataframe to an interactive table.\"\n",
              "              style=\"display:none;\">\n",
              "        \n",
              "  <svg xmlns=\"http://www.w3.org/2000/svg\" height=\"24px\"viewBox=\"0 0 24 24\"\n",
              "       width=\"24px\">\n",
              "    <path d=\"M0 0h24v24H0V0z\" fill=\"none\"/>\n",
              "    <path d=\"M18.56 5.44l.94 2.06.94-2.06 2.06-.94-2.06-.94-.94-2.06-.94 2.06-2.06.94zm-11 1L8.5 8.5l.94-2.06 2.06-.94-2.06-.94L8.5 2.5l-.94 2.06-2.06.94zm10 10l.94 2.06.94-2.06 2.06-.94-2.06-.94-.94-2.06-.94 2.06-2.06.94z\"/><path d=\"M17.41 7.96l-1.37-1.37c-.4-.4-.92-.59-1.43-.59-.52 0-1.04.2-1.43.59L10.3 9.45l-7.72 7.72c-.78.78-.78 2.05 0 2.83L4 21.41c.39.39.9.59 1.41.59.51 0 1.02-.2 1.41-.59l7.78-7.78 2.81-2.81c.8-.78.8-2.07 0-2.86zM5.41 20L4 18.59l7.72-7.72 1.47 1.35L5.41 20z\"/>\n",
              "  </svg>\n",
              "      </button>\n",
              "      \n",
              "  <style>\n",
              "    .colab-df-container {\n",
              "      display:flex;\n",
              "      flex-wrap:wrap;\n",
              "      gap: 12px;\n",
              "    }\n",
              "\n",
              "    .colab-df-convert {\n",
              "      background-color: #E8F0FE;\n",
              "      border: none;\n",
              "      border-radius: 50%;\n",
              "      cursor: pointer;\n",
              "      display: none;\n",
              "      fill: #1967D2;\n",
              "      height: 32px;\n",
              "      padding: 0 0 0 0;\n",
              "      width: 32px;\n",
              "    }\n",
              "\n",
              "    .colab-df-convert:hover {\n",
              "      background-color: #E2EBFA;\n",
              "      box-shadow: 0px 1px 2px rgba(60, 64, 67, 0.3), 0px 1px 3px 1px rgba(60, 64, 67, 0.15);\n",
              "      fill: #174EA6;\n",
              "    }\n",
              "\n",
              "    [theme=dark] .colab-df-convert {\n",
              "      background-color: #3B4455;\n",
              "      fill: #D2E3FC;\n",
              "    }\n",
              "\n",
              "    [theme=dark] .colab-df-convert:hover {\n",
              "      background-color: #434B5C;\n",
              "      box-shadow: 0px 1px 3px 1px rgba(0, 0, 0, 0.15);\n",
              "      filter: drop-shadow(0px 1px 2px rgba(0, 0, 0, 0.3));\n",
              "      fill: #FFFFFF;\n",
              "    }\n",
              "  </style>\n",
              "\n",
              "      <script>\n",
              "        const buttonEl =\n",
              "          document.querySelector('#df-5234cb2e-4f79-4cf8-8ecb-6a4e0542ca4f button.colab-df-convert');\n",
              "        buttonEl.style.display =\n",
              "          google.colab.kernel.accessAllowed ? 'block' : 'none';\n",
              "\n",
              "        async function convertToInteractive(key) {\n",
              "          const element = document.querySelector('#df-5234cb2e-4f79-4cf8-8ecb-6a4e0542ca4f');\n",
              "          const dataTable =\n",
              "            await google.colab.kernel.invokeFunction('convertToInteractive',\n",
              "                                                     [key], {});\n",
              "          if (!dataTable) return;\n",
              "\n",
              "          const docLinkHtml = 'Like what you see? Visit the ' +\n",
              "            '<a target=\"_blank\" href=https://colab.research.google.com/notebooks/data_table.ipynb>data table notebook</a>'\n",
              "            + ' to learn more about interactive tables.';\n",
              "          element.innerHTML = '';\n",
              "          dataTable['output_type'] = 'display_data';\n",
              "          await google.colab.output.renderOutput(dataTable, element);\n",
              "          const docLink = document.createElement('div');\n",
              "          docLink.innerHTML = docLinkHtml;\n",
              "          element.appendChild(docLink);\n",
              "        }\n",
              "      </script>\n",
              "    </div>\n",
              "  </div>\n",
              "  "
            ]
          },
          "metadata": {},
          "execution_count": 78
        }
      ]
    },
    {
      "cell_type": "code",
      "source": [
        "X_encoded = pd.get_dummies(X)\n",
        "X_encoded, y"
      ],
      "metadata": {
        "colab": {
          "base_uri": "https://localhost:8080/"
        },
        "id": "V3io5mtAqVyc",
        "outputId": "db1711d4-e7b8-4951-ad34-8afeab49e302"
      },
      "execution_count": 81,
      "outputs": [
        {
          "output_type": "execute_result",
          "data": {
            "text/plain": [
              "(      age     bmi  children  sex_female  sex_male  smoker_no  smoker_yes  \\\n",
              " 0      19  27.900         0           1         0          0           1   \n",
              " 1      18  33.770         1           0         1          1           0   \n",
              " 2      28  33.000         3           0         1          1           0   \n",
              " 3      33  22.705         0           0         1          1           0   \n",
              " 4      32  28.880         0           0         1          1           0   \n",
              " ...   ...     ...       ...         ...       ...        ...         ...   \n",
              " 1333   50  30.970         3           0         1          1           0   \n",
              " 1334   18  31.920         0           1         0          1           0   \n",
              " 1335   18  36.850         0           1         0          1           0   \n",
              " 1336   21  25.800         0           1         0          1           0   \n",
              " 1337   61  29.070         0           1         0          0           1   \n",
              " \n",
              "       region_northeast  region_northwest  region_southeast  region_southwest  \n",
              " 0                    0                 0                 0                 1  \n",
              " 1                    0                 0                 1                 0  \n",
              " 2                    0                 0                 1                 0  \n",
              " 3                    0                 1                 0                 0  \n",
              " 4                    0                 1                 0                 0  \n",
              " ...                ...               ...               ...               ...  \n",
              " 1333                 0                 1                 0                 0  \n",
              " 1334                 1                 0                 0                 0  \n",
              " 1335                 0                 0                 1                 0  \n",
              " 1336                 0                 0                 0                 1  \n",
              " 1337                 0                 1                 0                 0  \n",
              " \n",
              " [1338 rows x 11 columns], 0       16884.92400\n",
              " 1        1725.55230\n",
              " 2        4449.46200\n",
              " 3       21984.47061\n",
              " 4        3866.85520\n",
              "            ...     \n",
              " 1333    10600.54830\n",
              " 1334     2205.98080\n",
              " 1335     1629.83350\n",
              " 1336     2007.94500\n",
              " 1337    29141.36030\n",
              " Name: charges, Length: 1338, dtype: float64)"
            ]
          },
          "metadata": {},
          "execution_count": 81
        }
      ]
    },
    {
      "cell_type": "code",
      "source": [
        "from sklearn.model_selection import train_test_split\n",
        "\n",
        "X_train, X_test, y_train, y_test = train_test_split(X_encoded, y, test_size = 0.2, random_state = 42)"
      ],
      "metadata": {
        "id": "fk_82lgTuK1A"
      },
      "execution_count": 83,
      "outputs": []
    },
    {
      "cell_type": "code",
      "source": [
        "tf.random.set_seed(42)"
      ],
      "metadata": {
        "id": "lNFio6BTu5rN"
      },
      "execution_count": 86,
      "outputs": []
    },
    {
      "cell_type": "code",
      "source": [
        "insurance_model = tf.keras.Sequential([\n",
        "    # tf.keras.layers.InputLayer(input_shape=(11)),\n",
        "    tf.keras.layers.Dense(10),\n",
        "    tf.keras.layers.Dense(1)\n",
        "])\n",
        "\n",
        "insurance_model.compile(loss = tf.keras.losses.mae,\n",
        "                        optimizer = tf.keras.optimizers.SGD(),\n",
        "                        metrics=[\"mae\"])\n",
        "\n",
        "insurance_model.fit(X_train, y_train, epochs = 100)"
      ],
      "metadata": {
        "id": "YyTZsb0SqqHO"
      },
      "execution_count": null,
      "outputs": []
    },
    {
      "cell_type": "code",
      "source": [
        "insurance_model.evaluate(X_test, y_test)"
      ],
      "metadata": {
        "colab": {
          "base_uri": "https://localhost:8080/"
        },
        "id": "e1fPj4rMuthG",
        "outputId": "7ac1aec6-0f38-45da-f2f0-57bc19dc65f2"
      },
      "execution_count": 98,
      "outputs": [
        {
          "output_type": "stream",
          "name": "stdout",
          "text": [
            "9/9 [==============================] - 0s 2ms/step - loss: 6190.3882 - mae: 6190.3882\n"
          ]
        },
        {
          "output_type": "execute_result",
          "data": {
            "text/plain": [
              "[6190.38818359375, 6190.38818359375]"
            ]
          },
          "metadata": {},
          "execution_count": 98
        }
      ]
    },
    {
      "cell_type": "code",
      "source": [
        "insurance_model2 = tf.keras.Sequential([\n",
        "    # tf.keras.layers.InputLayer(input_shape=(11)),\n",
        "    tf.keras.layers.Dense(100),\n",
        "    tf.keras.layers.Dense(10),\n",
        "    tf.keras.layers.Dense(1)\n",
        "])\n",
        "\n",
        "insurance_model2.compile(loss = tf.keras.losses.mae,\n",
        "                         optimizer = tf.keras.optimizers.Adam(),\n",
        "                         metrics = [\"mae\"])\n",
        "\n",
        "insurance_model2.fit(X_train, y_train, epochs=100)"
      ],
      "metadata": {
        "colab": {
          "base_uri": "https://localhost:8080/"
        },
        "id": "8f_nRvpSvf2C",
        "outputId": "cebe1b2d-6b12-4cb6-e81d-14c8c06bfe3a"
      },
      "execution_count": 106,
      "outputs": [
        {
          "output_type": "stream",
          "name": "stdout",
          "text": [
            "Epoch 1/100\n",
            "34/34 [==============================] - 2s 4ms/step - loss: 13298.1777 - mae: 13298.1777\n",
            "Epoch 2/100\n",
            "34/34 [==============================] - 0s 7ms/step - loss: 13155.0488 - mae: 13155.0488\n",
            "Epoch 3/100\n",
            "34/34 [==============================] - 0s 4ms/step - loss: 12842.6025 - mae: 12842.6025\n",
            "Epoch 4/100\n",
            "34/34 [==============================] - 0s 4ms/step - loss: 12211.6416 - mae: 12211.6416\n",
            "Epoch 5/100\n",
            "34/34 [==============================] - 0s 5ms/step - loss: 11124.5596 - mae: 11124.5596\n",
            "Epoch 6/100\n",
            "34/34 [==============================] - 0s 8ms/step - loss: 9677.8906 - mae: 9677.8906\n",
            "Epoch 7/100\n",
            "34/34 [==============================] - 0s 11ms/step - loss: 8291.9512 - mae: 8291.9512\n",
            "Epoch 8/100\n",
            "34/34 [==============================] - 0s 8ms/step - loss: 7561.4126 - mae: 7561.4126\n",
            "Epoch 9/100\n",
            "34/34 [==============================] - 0s 7ms/step - loss: 7425.3677 - mae: 7425.3677\n",
            "Epoch 10/100\n",
            "34/34 [==============================] - 0s 4ms/step - loss: 7404.0615 - mae: 7404.0615\n",
            "Epoch 11/100\n",
            "34/34 [==============================] - 0s 6ms/step - loss: 7385.2202 - mae: 7385.2202\n",
            "Epoch 12/100\n",
            "34/34 [==============================] - 0s 2ms/step - loss: 7364.0215 - mae: 7364.0215\n",
            "Epoch 13/100\n",
            "34/34 [==============================] - 0s 2ms/step - loss: 7343.9038 - mae: 7343.9038\n",
            "Epoch 14/100\n",
            "34/34 [==============================] - 0s 2ms/step - loss: 7321.8550 - mae: 7321.8550\n",
            "Epoch 15/100\n",
            "34/34 [==============================] - 0s 2ms/step - loss: 7303.2749 - mae: 7303.2749\n",
            "Epoch 16/100\n",
            "34/34 [==============================] - 0s 2ms/step - loss: 7281.5605 - mae: 7281.5605\n",
            "Epoch 17/100\n",
            "34/34 [==============================] - 0s 2ms/step - loss: 7261.8506 - mae: 7261.8506\n",
            "Epoch 18/100\n",
            "34/34 [==============================] - 0s 2ms/step - loss: 7238.9502 - mae: 7238.9502\n",
            "Epoch 19/100\n",
            "34/34 [==============================] - 0s 2ms/step - loss: 7216.8896 - mae: 7216.8896\n",
            "Epoch 20/100\n",
            "34/34 [==============================] - 0s 2ms/step - loss: 7193.8994 - mae: 7193.8994\n",
            "Epoch 21/100\n",
            "34/34 [==============================] - 0s 2ms/step - loss: 7176.1973 - mae: 7176.1973\n",
            "Epoch 22/100\n",
            "34/34 [==============================] - 0s 2ms/step - loss: 7148.2490 - mae: 7148.2490\n",
            "Epoch 23/100\n",
            "34/34 [==============================] - 0s 2ms/step - loss: 7123.8638 - mae: 7123.8638\n",
            "Epoch 24/100\n",
            "34/34 [==============================] - 0s 2ms/step - loss: 7099.2432 - mae: 7099.2432\n",
            "Epoch 25/100\n",
            "34/34 [==============================] - 0s 2ms/step - loss: 7081.6587 - mae: 7081.6587\n",
            "Epoch 26/100\n",
            "34/34 [==============================] - 0s 2ms/step - loss: 7050.2212 - mae: 7050.2212\n",
            "Epoch 27/100\n",
            "34/34 [==============================] - 0s 2ms/step - loss: 7022.5586 - mae: 7022.5586\n",
            "Epoch 28/100\n",
            "34/34 [==============================] - 0s 2ms/step - loss: 6995.1060 - mae: 6995.1060\n",
            "Epoch 29/100\n",
            "34/34 [==============================] - 0s 2ms/step - loss: 6967.7769 - mae: 6967.7769\n",
            "Epoch 30/100\n",
            "34/34 [==============================] - 0s 2ms/step - loss: 6940.8384 - mae: 6940.8384\n",
            "Epoch 31/100\n",
            "34/34 [==============================] - 0s 3ms/step - loss: 6910.8262 - mae: 6910.8262\n",
            "Epoch 32/100\n",
            "34/34 [==============================] - 0s 4ms/step - loss: 6883.3394 - mae: 6883.3394\n",
            "Epoch 33/100\n",
            "34/34 [==============================] - 0s 3ms/step - loss: 6853.3433 - mae: 6853.3433\n",
            "Epoch 34/100\n",
            "34/34 [==============================] - 0s 4ms/step - loss: 6823.0923 - mae: 6823.0923\n",
            "Epoch 35/100\n",
            "34/34 [==============================] - 0s 5ms/step - loss: 6789.6904 - mae: 6789.6904\n",
            "Epoch 36/100\n",
            "34/34 [==============================] - 0s 2ms/step - loss: 6756.1514 - mae: 6756.1514\n",
            "Epoch 37/100\n",
            "34/34 [==============================] - 0s 2ms/step - loss: 6720.9702 - mae: 6720.9702\n",
            "Epoch 38/100\n",
            "34/34 [==============================] - 0s 2ms/step - loss: 6690.6831 - mae: 6690.6831\n",
            "Epoch 39/100\n",
            "34/34 [==============================] - 0s 2ms/step - loss: 6653.8022 - mae: 6653.8022\n",
            "Epoch 40/100\n",
            "34/34 [==============================] - 0s 2ms/step - loss: 6619.6226 - mae: 6619.6226\n",
            "Epoch 41/100\n",
            "34/34 [==============================] - 0s 2ms/step - loss: 6587.2324 - mae: 6587.2324\n",
            "Epoch 42/100\n",
            "34/34 [==============================] - 0s 2ms/step - loss: 6561.2383 - mae: 6561.2383\n",
            "Epoch 43/100\n",
            "34/34 [==============================] - 0s 2ms/step - loss: 6532.0952 - mae: 6532.0952\n",
            "Epoch 44/100\n",
            "34/34 [==============================] - 0s 2ms/step - loss: 6509.2007 - mae: 6509.2007\n",
            "Epoch 45/100\n",
            "34/34 [==============================] - 0s 2ms/step - loss: 6495.4961 - mae: 6495.4961\n",
            "Epoch 46/100\n",
            "34/34 [==============================] - 0s 2ms/step - loss: 6478.5698 - mae: 6478.5698\n",
            "Epoch 47/100\n",
            "34/34 [==============================] - 0s 2ms/step - loss: 6461.9019 - mae: 6461.9019\n",
            "Epoch 48/100\n",
            "34/34 [==============================] - 0s 2ms/step - loss: 6447.4204 - mae: 6447.4204\n",
            "Epoch 49/100\n",
            "34/34 [==============================] - 0s 2ms/step - loss: 6434.2075 - mae: 6434.2075\n",
            "Epoch 50/100\n",
            "34/34 [==============================] - 0s 2ms/step - loss: 6420.7183 - mae: 6420.7183\n",
            "Epoch 51/100\n",
            "34/34 [==============================] - 0s 2ms/step - loss: 6407.3174 - mae: 6407.3174\n",
            "Epoch 52/100\n",
            "34/34 [==============================] - 0s 2ms/step - loss: 6396.3799 - mae: 6396.3799\n",
            "Epoch 53/100\n",
            "34/34 [==============================] - 0s 2ms/step - loss: 6382.2227 - mae: 6382.2227\n",
            "Epoch 54/100\n",
            "34/34 [==============================] - 0s 2ms/step - loss: 6369.1646 - mae: 6369.1646\n",
            "Epoch 55/100\n",
            "34/34 [==============================] - 0s 2ms/step - loss: 6355.8203 - mae: 6355.8203\n",
            "Epoch 56/100\n",
            "34/34 [==============================] - 0s 2ms/step - loss: 6341.4580 - mae: 6341.4580\n",
            "Epoch 57/100\n",
            "34/34 [==============================] - 0s 2ms/step - loss: 6329.2417 - mae: 6329.2417\n",
            "Epoch 58/100\n",
            "34/34 [==============================] - 0s 2ms/step - loss: 6315.2534 - mae: 6315.2534\n",
            "Epoch 59/100\n",
            "34/34 [==============================] - 0s 2ms/step - loss: 6300.4424 - mae: 6300.4424\n",
            "Epoch 60/100\n",
            "34/34 [==============================] - 0s 2ms/step - loss: 6290.0474 - mae: 6290.0474\n",
            "Epoch 61/100\n",
            "34/34 [==============================] - 0s 2ms/step - loss: 6270.9653 - mae: 6270.9653\n",
            "Epoch 62/100\n",
            "34/34 [==============================] - 0s 2ms/step - loss: 6258.6069 - mae: 6258.6069\n",
            "Epoch 63/100\n",
            "34/34 [==============================] - 0s 2ms/step - loss: 6240.5952 - mae: 6240.5952\n",
            "Epoch 64/100\n",
            "34/34 [==============================] - 0s 2ms/step - loss: 6224.9790 - mae: 6224.9790\n",
            "Epoch 65/100\n",
            "34/34 [==============================] - 0s 2ms/step - loss: 6207.7979 - mae: 6207.7979\n",
            "Epoch 66/100\n",
            "34/34 [==============================] - 0s 2ms/step - loss: 6191.1357 - mae: 6191.1357\n",
            "Epoch 67/100\n",
            "34/34 [==============================] - 0s 2ms/step - loss: 6178.4873 - mae: 6178.4873\n",
            "Epoch 68/100\n",
            "34/34 [==============================] - 0s 2ms/step - loss: 6156.6470 - mae: 6156.6470\n",
            "Epoch 69/100\n",
            "34/34 [==============================] - 0s 2ms/step - loss: 6140.5312 - mae: 6140.5312\n",
            "Epoch 70/100\n",
            "34/34 [==============================] - 0s 2ms/step - loss: 6120.7144 - mae: 6120.7144\n",
            "Epoch 71/100\n",
            "34/34 [==============================] - 0s 2ms/step - loss: 6101.0566 - mae: 6101.0566\n",
            "Epoch 72/100\n",
            "34/34 [==============================] - 0s 2ms/step - loss: 6082.8711 - mae: 6082.8711\n",
            "Epoch 73/100\n",
            "34/34 [==============================] - 0s 2ms/step - loss: 6067.4399 - mae: 6067.4399\n",
            "Epoch 74/100\n",
            "34/34 [==============================] - 0s 2ms/step - loss: 6041.4614 - mae: 6041.4614\n",
            "Epoch 75/100\n",
            "34/34 [==============================] - 0s 2ms/step - loss: 6020.2051 - mae: 6020.2051\n",
            "Epoch 76/100\n",
            "34/34 [==============================] - 0s 2ms/step - loss: 6006.6240 - mae: 6006.6240\n",
            "Epoch 77/100\n",
            "34/34 [==============================] - 0s 2ms/step - loss: 5973.9893 - mae: 5973.9893\n",
            "Epoch 78/100\n",
            "34/34 [==============================] - 0s 2ms/step - loss: 5951.7739 - mae: 5951.7739\n",
            "Epoch 79/100\n",
            "34/34 [==============================] - 0s 2ms/step - loss: 5928.1265 - mae: 5928.1265\n",
            "Epoch 80/100\n",
            "34/34 [==============================] - 0s 2ms/step - loss: 5900.8105 - mae: 5900.8105\n",
            "Epoch 81/100\n",
            "34/34 [==============================] - 0s 3ms/step - loss: 5874.9307 - mae: 5874.9307\n",
            "Epoch 82/100\n",
            "34/34 [==============================] - 0s 3ms/step - loss: 5848.0337 - mae: 5848.0337\n",
            "Epoch 83/100\n",
            "34/34 [==============================] - 0s 3ms/step - loss: 5820.1758 - mae: 5820.1758\n",
            "Epoch 84/100\n",
            "34/34 [==============================] - 0s 3ms/step - loss: 5786.4907 - mae: 5786.4907\n",
            "Epoch 85/100\n",
            "34/34 [==============================] - 0s 3ms/step - loss: 5760.3135 - mae: 5760.3135\n",
            "Epoch 86/100\n",
            "34/34 [==============================] - 0s 3ms/step - loss: 5725.9355 - mae: 5725.9355\n",
            "Epoch 87/100\n",
            "34/34 [==============================] - 0s 3ms/step - loss: 5691.0039 - mae: 5691.0039\n",
            "Epoch 88/100\n",
            "34/34 [==============================] - 0s 3ms/step - loss: 5657.6382 - mae: 5657.6382\n",
            "Epoch 89/100\n",
            "34/34 [==============================] - 0s 3ms/step - loss: 5618.1606 - mae: 5618.1606\n",
            "Epoch 90/100\n",
            "34/34 [==============================] - 0s 3ms/step - loss: 5578.0488 - mae: 5578.0488\n",
            "Epoch 91/100\n",
            "34/34 [==============================] - 0s 3ms/step - loss: 5541.7236 - mae: 5541.7236\n",
            "Epoch 92/100\n",
            "34/34 [==============================] - 0s 3ms/step - loss: 5494.0132 - mae: 5494.0132\n",
            "Epoch 93/100\n",
            "34/34 [==============================] - 0s 3ms/step - loss: 5453.6079 - mae: 5453.6079\n",
            "Epoch 94/100\n",
            "34/34 [==============================] - 0s 3ms/step - loss: 5410.4258 - mae: 5410.4258\n",
            "Epoch 95/100\n",
            "34/34 [==============================] - 0s 3ms/step - loss: 5356.6587 - mae: 5356.6587\n",
            "Epoch 96/100\n",
            "34/34 [==============================] - 0s 3ms/step - loss: 5313.7939 - mae: 5313.7939\n",
            "Epoch 97/100\n",
            "34/34 [==============================] - 0s 3ms/step - loss: 5260.3018 - mae: 5260.3018\n",
            "Epoch 98/100\n",
            "34/34 [==============================] - 0s 3ms/step - loss: 5199.5566 - mae: 5199.5566\n",
            "Epoch 99/100\n",
            "34/34 [==============================] - 0s 3ms/step - loss: 5140.8882 - mae: 5140.8882\n",
            "Epoch 100/100\n",
            "34/34 [==============================] - 0s 4ms/step - loss: 5084.2134 - mae: 5084.2134\n"
          ]
        },
        {
          "output_type": "execute_result",
          "data": {
            "text/plain": [
              "<keras.callbacks.History at 0x7f0fde2c9d90>"
            ]
          },
          "metadata": {},
          "execution_count": 106
        }
      ]
    },
    {
      "cell_type": "code",
      "source": [
        "insurance_model2.evaluate(X_test, y_test)"
      ],
      "metadata": {
        "colab": {
          "base_uri": "https://localhost:8080/"
        },
        "id": "FdxQ8BbXw0Yb",
        "outputId": "8dc5b9d0-766b-4d93-bbd6-1903e915e25c"
      },
      "execution_count": 107,
      "outputs": [
        {
          "output_type": "stream",
          "name": "stdout",
          "text": [
            "9/9 [==============================] - 0s 3ms/step - loss: 4952.4614 - mae: 4952.4614\n"
          ]
        },
        {
          "output_type": "execute_result",
          "data": {
            "text/plain": [
              "[4952.46142578125, 4952.46142578125]"
            ]
          },
          "metadata": {},
          "execution_count": 107
        }
      ]
    },
    {
      "cell_type": "code",
      "source": [
        "tf.random.set_seed(42)\n",
        "\n",
        "insurance_model3 = tf.keras.Sequential([\n",
        "    tf.keras.layers.Dense(100),\n",
        "    tf.keras.layers.Dense(10),\n",
        "    tf.keras.layers.Dense(1),\n",
        "])\n",
        "\n",
        "insurance_model3.compile(loss = tf.keras.losses.mae,\n",
        "                         optimizer = tf.keras.optimizers.Adam(),\n",
        "                         metrics = [\"mae\"])\n",
        "\n",
        "history = insurance_model3.fit(X_train, y_train, epochs = 500, verbose = 0)"
      ],
      "metadata": {
        "id": "EALtJtksw4Mx"
      },
      "execution_count": 110,
      "outputs": []
    },
    {
      "cell_type": "code",
      "source": [
        "insurance_model3.evaluate(X_test, y_test)"
      ],
      "metadata": {
        "colab": {
          "base_uri": "https://localhost:8080/"
        },
        "id": "6TsleFDEzPZY",
        "outputId": "9226c26a-5a36-4f06-9163-dc9e6945180f"
      },
      "execution_count": 111,
      "outputs": [
        {
          "output_type": "stream",
          "name": "stdout",
          "text": [
            "9/9 [==============================] - 0s 2ms/step - loss: 3172.8850 - mae: 3172.8850\n"
          ]
        },
        {
          "output_type": "execute_result",
          "data": {
            "text/plain": [
              "[3172.885009765625, 3172.885009765625]"
            ]
          },
          "metadata": {},
          "execution_count": 111
        }
      ]
    },
    {
      "cell_type": "code",
      "source": [
        "pd.DataFrame(history.history).plot()\n",
        "plt.xlabel(\"epochs\")\n",
        "plt.ylabel(\"loss\")"
      ],
      "metadata": {
        "colab": {
          "base_uri": "https://localhost:8080/",
          "height": 296
        },
        "id": "EXiU54_0zVCK",
        "outputId": "bf74644f-b8d6-44e7-bfda-53a4ba8bcf86"
      },
      "execution_count": 118,
      "outputs": [
        {
          "output_type": "execute_result",
          "data": {
            "text/plain": [
              "Text(0, 0.5, 'loss')"
            ]
          },
          "metadata": {},
          "execution_count": 118
        },
        {
          "output_type": "display_data",
          "data": {
            "text/plain": [
              "<Figure size 432x288 with 1 Axes>"
            ],
            "image/png": "[encoded data removed]"
          },
          "metadata": {
            "needs_background": "light"
          }
        }
      ]
    },
    {
      "cell_type": "markdown",
      "source": [
        "Preprocessing data, so starting from scratch"
      ],
      "metadata": {
        "id": "HWZcZTFz6PGR"
      }
    },
    {
      "cell_type": "code",
      "source": [
        "import tensorflow as tf\n",
        "import pandas as pd\n",
        "import matplotlib.pyplot as plt"
      ],
      "metadata": {
        "id": "dMBE-LKY0PYW"
      },
      "execution_count": 121,
      "outputs": []
    },
    {
      "cell_type": "code",
      "source": [
        "insurance = pd.read_csv(\"https://raw.githubusercontent.com/stedy/Machine-Learning-with-R-datasets/master/insurance.csv\")"
      ],
      "metadata": {
        "id": "-at-pRlo6dXn"
      },
      "execution_count": 122,
      "outputs": []
    },
    {
      "cell_type": "code",
      "source": [
        "from sklearn.compose import make_column_transformer\n",
        "from sklearn.preprocessing import MinMaxScaler, OneHotEncoder\n",
        " \n",
        "ct = make_column_transformer(\n",
        "    (MinMaxScaler(), [\"age\", \"bmi\", \"children\"]),\n",
        "    (OneHotEncoder(handle_unknown = \"ignore\"), [\"sex\", \"smoker\", \"region\"])\n",
        ")"
      ],
      "metadata": {
        "id": "6K9-OX__6nxz"
      },
      "execution_count": 124,
      "outputs": []
    },
    {
      "cell_type": "code",
      "source": [
        "X = insurance.drop(\"charges\", axis = 1)\n",
        "y = insurance[\"charges\"]"
      ],
      "metadata": {
        "id": "Q4Kuz-4wKdm0"
      },
      "execution_count": 125,
      "outputs": []
    },
    {
      "cell_type": "code",
      "source": [
        "X_train, X_test, y_train, y_test = train_test_split(X, y, test_size=0.2, random_state=42)"
      ],
      "metadata": {
        "id": "KRiIAb8VLb2i"
      },
      "execution_count": 126,
      "outputs": []
    },
    {
      "cell_type": "code",
      "source": [
        "ct.fit(X_train)"
      ],
      "metadata": {
        "colab": {
          "base_uri": "https://localhost:8080/",
          "height": 116
        },
        "id": "uVR3dzePLqgq",
        "outputId": "a8eda8c5-3f06-4587-ca71-98661bd5d3e5"
      },
      "execution_count": 127,
      "outputs": [
        {
          "output_type": "execute_result",
          "data": {
            "text/plain": [
              "ColumnTransformer(transformers=[('minmaxscaler', MinMaxScaler(),\n",
              "                                 ['age', 'bmi', 'children']),\n",
              "                                ('onehotencoder',\n",
              "                                 OneHotEncoder(handle_unknown='ignore'),\n",
              "                                 ['sex', 'smoker', 'region'])])"
            ],
            "text/html": [
              "<style>#sk-container-id-1 {color: black;background-color: white;}#sk-container-id-1 pre{padding: 0;}#sk-container-id-1 div.sk-toggleable {background-color: white;}#sk-container-id-1 label.sk-toggleable__label {cursor: pointer;display: block;width: 100%;margin-bottom: 0;padding: 0.3em;box-sizing: border-box;text-align: center;}#sk-container-id-1 label.sk-toggleable__label-arrow:before {content: \"▸\";float: left;margin-right: 0.25em;color: #696969;}#sk-container-id-1 label.sk-toggleable__label-arrow:hover:before {color: black;}#sk-container-id-1 div.sk-estimator:hover label.sk-toggleable__label-arrow:before {color: black;}#sk-container-id-1 div.sk-toggleable__content {max-height: 0;max-width: 0;overflow: hidden;text-align: left;background-color: #f0f8ff;}#sk-container-id-1 div.sk-toggleable__content pre {margin: 0.2em;color: black;border-radius: 0.25em;background-color: #f0f8ff;}#sk-container-id-1 input.sk-toggleable__control:checked~div.sk-toggleable__content {max-height: 200px;max-width: 100%;overflow: auto;}#sk-container-id-1 input.sk-toggleable__control:checked~label.sk-toggleable__label-arrow:before {content: \"▾\";}#sk-container-id-1 div.sk-estimator input.sk-toggleable__control:checked~label.sk-toggleable__label {background-color: #d4ebff;}#sk-container-id-1 div.sk-label input.sk-toggleable__control:checked~label.sk-toggleable__label {background-color: #d4ebff;}#sk-container-id-1 input.sk-hidden--visually {border: 0;clip: rect(1px 1px 1px 1px);clip: rect(1px, 1px, 1px, 1px);height: 1px;margin: -1px;overflow: hidden;padding: 0;position: absolute;width: 1px;}#sk-container-id-1 div.sk-estimator {font-family: monospace;background-color: #f0f8ff;border: 1px dotted black;border-radius: 0.25em;box-sizing: border-box;margin-bottom: 0.5em;}#sk-container-id-1 div.sk-estimator:hover {background-color: #d4ebff;}#sk-container-id-1 div.sk-parallel-item::after {content: \"\";width: 100%;border-bottom: 1px solid gray;flex-grow: 1;}#sk-container-id-1 div.sk-label:hover label.sk-toggleable__label {background-color: #d4ebff;}#sk-container-id-1 div.sk-serial::before {content: \"\";position: absolute;border-left: 1px solid gray;box-sizing: border-box;top: 0;bottom: 0;left: 50%;z-index: 0;}#sk-container-id-1 div.sk-serial {display: flex;flex-direction: column;align-items: center;background-color: white;padding-right: 0.2em;padding-left: 0.2em;position: relative;}#sk-container-id-1 div.sk-item {position: relative;z-index: 1;}#sk-container-id-1 div.sk-parallel {display: flex;align-items: stretch;justify-content: center;background-color: white;position: relative;}#sk-container-id-1 div.sk-item::before, #sk-container-id-1 div.sk-parallel-item::before {content: \"\";position: absolute;border-left: 1px solid gray;box-sizing: border-box;top: 0;bottom: 0;left: 50%;z-index: -1;}#sk-container-id-1 div.sk-parallel-item {display: flex;flex-direction: column;z-index: 1;position: relative;background-color: white;}#sk-container-id-1 div.sk-parallel-item:first-child::after {align-self: flex-end;width: 50%;}#sk-container-id-1 div.sk-parallel-item:last-child::after {align-self: flex-start;width: 50%;}#sk-container-id-1 div.sk-parallel-item:only-child::after {width: 0;}#sk-container-id-1 div.sk-dashed-wrapped {border: 1px dashed gray;margin: 0 0.4em 0.5em 0.4em;box-sizing: border-box;padding-bottom: 0.4em;background-color: white;}#sk-container-id-1 div.sk-label label {font-family: monospace;font-weight: bold;display: inline-block;line-height: 1.2em;}#sk-container-id-1 div.sk-label-container {text-align: center;}#sk-container-id-1 div.sk-container {/* jupyter's `normalize.less` sets `[hidden] { display: none; }` but bootstrap.min.css set `[hidden] { display: none !important; }` so we also need the `!important` here to be able to override the default hidden behavior on the sphinx rendered scikit-learn.org. See: https://github.com/scikit-learn/scikit-learn/issues/21755 */display: inline-block !important;position: relative;}#sk-container-id-1 div.sk-text-repr-fallback {display: none;}</style><div id=\"sk-container-id-1\" class=\"sk-top-container\"><div class=\"sk-text-repr-fallback\"><pre>ColumnTransformer(transformers=[(&#x27;minmaxscaler&#x27;, MinMaxScaler(),\n",
              "                                 [&#x27;age&#x27;, &#x27;bmi&#x27;, &#x27;children&#x27;]),\n",
              "                                (&#x27;onehotencoder&#x27;,\n",
              "                                 OneHotEncoder(handle_unknown=&#x27;ignore&#x27;),\n",
              "                                 [&#x27;sex&#x27;, &#x27;smoker&#x27;, &#x27;region&#x27;])])</pre><b>In a Jupyter environment, please rerun this cell to show the HTML representation or trust the notebook. <br />On GitHub, the HTML representation is unable to render, please try loading this page with nbviewer.org.</b></div><div class=\"sk-container\" hidden><div class=\"sk-item sk-dashed-wrapped\"><div class=\"sk-label-container\"><div class=\"sk-label sk-toggleable\"><input class=\"sk-toggleable__control sk-hidden--visually\" id=\"sk-estimator-id-1\" type=\"checkbox\" ><label for=\"sk-estimator-id-1\" class=\"sk-toggleable__label sk-toggleable__label-arrow\">ColumnTransformer</label><div class=\"sk-toggleable__content\"><pre>ColumnTransformer(transformers=[(&#x27;minmaxscaler&#x27;, MinMaxScaler(),\n",
              "                                 [&#x27;age&#x27;, &#x27;bmi&#x27;, &#x27;children&#x27;]),\n",
              "                                (&#x27;onehotencoder&#x27;,\n",
              "                                 OneHotEncoder(handle_unknown=&#x27;ignore&#x27;),\n",
              "                                 [&#x27;sex&#x27;, &#x27;smoker&#x27;, &#x27;region&#x27;])])</pre></div></div></div><div class=\"sk-parallel\"><div class=\"sk-parallel-item\"><div class=\"sk-item\"><div class=\"sk-label-container\"><div class=\"sk-label sk-toggleable\"><input class=\"sk-toggleable__control sk-hidden--visually\" id=\"sk-estimator-id-2\" type=\"checkbox\" ><label for=\"sk-estimator-id-2\" class=\"sk-toggleable__label sk-toggleable__label-arrow\">minmaxscaler</label><div class=\"sk-toggleable__content\"><pre>[&#x27;age&#x27;, &#x27;bmi&#x27;, &#x27;children&#x27;]</pre></div></div></div><div class=\"sk-serial\"><div class=\"sk-item\"><div class=\"sk-estimator sk-toggleable\"><input class=\"sk-toggleable__control sk-hidden--visually\" id=\"sk-estimator-id-3\" type=\"checkbox\" ><label for=\"sk-estimator-id-3\" class=\"sk-toggleable__label sk-toggleable__label-arrow\">MinMaxScaler</label><div class=\"sk-toggleable__content\"><pre>MinMaxScaler()</pre></div></div></div></div></div></div><div class=\"sk-parallel-item\"><div class=\"sk-item\"><div class=\"sk-label-container\"><div class=\"sk-label sk-toggleable\"><input class=\"sk-toggleable__control sk-hidden--visually\" id=\"sk-estimator-id-4\" type=\"checkbox\" ><label for=\"sk-estimator-id-4\" class=\"sk-toggleable__label sk-toggleable__label-arrow\">onehotencoder</label><div class=\"sk-toggleable__content\"><pre>[&#x27;sex&#x27;, &#x27;smoker&#x27;, &#x27;region&#x27;]</pre></div></div></div><div class=\"sk-serial\"><div class=\"sk-item\"><div class=\"sk-estimator sk-toggleable\"><input class=\"sk-toggleable__control sk-hidden--visually\" id=\"sk-estimator-id-5\" type=\"checkbox\" ><label for=\"sk-estimator-id-5\" class=\"sk-toggleable__label sk-toggleable__label-arrow\">OneHotEncoder</label><div class=\"sk-toggleable__content\"><pre>OneHotEncoder(handle_unknown=&#x27;ignore&#x27;)</pre></div></div></div></div></div></div></div></div></div></div>"
            ]
          },
          "metadata": {},
          "execution_count": 127
        }
      ]
    },
    {
      "cell_type": "code",
      "source": [
        "X_train_norm = ct.transform(X_train)"
      ],
      "metadata": {
        "id": "Qyl7mDKhLt9d"
      },
      "execution_count": 128,
      "outputs": []
    },
    {
      "cell_type": "code",
      "source": [
        "X_test_norm = ct.transform(X_test)"
      ],
      "metadata": {
        "id": "g6aAtxffLzdm"
      },
      "execution_count": 129,
      "outputs": []
    },
    {
      "cell_type": "code",
      "source": [],
      "metadata": {
        "id": "ptoHt6J8L3BI"
      },
      "execution_count": null,
      "outputs": []
    }
  ]
}